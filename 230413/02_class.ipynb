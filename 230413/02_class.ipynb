{
 "cells": [
  {
   "attachments": {},
   "cell_type": "markdown",
   "metadata": {},
   "source": [
    "# class 생성\n",
    "1. class 이름은 User\n",
    "2. 생성자 함수(__init__)에서 유저의 이름, 휴대폰 번호, 생년월일 매개변수를 이용하여 self변수 만들어서 저장\n",
    "3. info() 함수를 생성하여 유저의 정보를 출력하는 함수 생성"
   ]
  },
  {
   "cell_type": "code",
   "execution_count": 22,
   "metadata": {},
   "outputs": [],
   "source": [
    "# class 선언 \n",
    "class User:\n",
    "    # 생성자 함수 생성 : self를 제외한 매개변수는 3개\n",
    "    def __init__(self, _name, _phone, _birth):  # self라는 문법이 들어가는 함수, 변수의 이름을 만들때는 연관성이 있게 만들기\n",
    "        self.name = _name\n",
    "        self.phone = _phone\n",
    "        self.birth = _birth\n",
    "\n",
    "    def info(self):\n",
    "        return (self.name, self.phone, self.birth)    "
   ]
  },
  {
   "cell_type": "code",
   "execution_count": 23,
   "metadata": {},
   "outputs": [],
   "source": [
    "# test\n",
    "# 클래스 생성\n",
    "test = User('test','01012345678','900203')"
   ]
  },
  {
   "cell_type": "code",
   "execution_count": 24,
   "metadata": {},
   "outputs": [
    {
     "data": {
      "text/plain": [
       "'test'"
      ]
     },
     "execution_count": 24,
     "metadata": {},
     "output_type": "execute_result"
    }
   ],
   "source": [
    "test.name"
   ]
  },
  {
   "cell_type": "code",
   "execution_count": 25,
   "metadata": {},
   "outputs": [
    {
     "data": {
      "text/plain": [
       "'01012345678'"
      ]
     },
     "execution_count": 25,
     "metadata": {},
     "output_type": "execute_result"
    }
   ],
   "source": [
    "test.phone"
   ]
  },
  {
   "cell_type": "code",
   "execution_count": 26,
   "metadata": {},
   "outputs": [
    {
     "data": {
      "text/plain": [
       "'900203'"
      ]
     },
     "execution_count": 26,
     "metadata": {},
     "output_type": "execute_result"
    }
   ],
   "source": [
    "test.birth"
   ]
  },
  {
   "cell_type": "code",
   "execution_count": 27,
   "metadata": {},
   "outputs": [
    {
     "data": {
      "text/plain": [
       "('test', '01012345678', '900203')"
      ]
     },
     "execution_count": 27,
     "metadata": {},
     "output_type": "execute_result"
    }
   ],
   "source": [
    "test.info()"
   ]
  },
  {
   "attachments": {},
   "cell_type": "markdown",
   "metadata": {},
   "source": [
    "# 지갑 클래스 선언\n",
    "1. 클래스의 이름은 Wallet\n",
    "2. 생성자 함수에는 소유자의 이름, 지갑의 브랜드, 지갑의 금액, 잔액\n",
    "3. 잔액 기본값은 0\n",
    "4. work() 함수를 생성: 매개변수에 일의 종류, 일의 종류가 'TM'이면 지갑의 잔액은 500증가, alba이면 지갑의 잔액을 300증가, serving이면 잔액을 400증가\n",
    "5. wallet_info() 함수를 생성: 지갑의 정보(소유자의 이름, 지갑의 브랜드, 지갑의 가치, 잔액)을 출력"
   ]
  },
  {
   "cell_type": "code",
   "execution_count": 169,
   "metadata": {},
   "outputs": [],
   "source": [
    "# 클래스 선언      # 클래스는 선언-> 생성 -> 호출의 순으로 작업이 이루어진다.\n",
    "class Wallet(User):\n",
    "\n",
    "    # 클래스 변수 생성\n",
    "    work_type = {\n",
    "        'TM' : 500,\n",
    "        'alba' : 300,\n",
    "        'serving' : 400\n",
    "    }\n",
    "\n",
    "    item_type = {\n",
    "        'cash' : 200,\n",
    "        'food' : 300,\n",
    "        'clothes' : 500\n",
    "    }\n",
    "    \n",
    "    # 생성자 함수\n",
    "    def __init__(self, _name, _phone, _birth,  _brand, _value, _balance =0):  # self라는 문법이 들어가는 함수, 변수의 이름을 만들때는 연관성이 있게 만들기\n",
    "        # 부모 클래스의 __init__함수 실행\n",
    "        super().__init__(_name,_phone,_birth)\n",
    "        self.name = _name                                 # 클래스에 들어가는 함수들을 통합적으로 사용할수있도록 생성자 함수를 선언후 밑에 클래스를 생성해줌\n",
    "        self.brand = _brand\n",
    "        self.value = _value\n",
    "        self.balance = _balance\n",
    "\n",
    "    # work()함수를 생성\n",
    "    def work(self, _type):\n",
    "        # # 일의 조건에 따라 잔액이 다르게 변동\n",
    "        # if _type == 'TM':\n",
    "        #     # self.balance = self.balance + 500\n",
    "        #     self.balance += 500\n",
    "        # elif _type == 'alba':\n",
    "        #     self.balance += 300\n",
    "        # elif _type == 'serving':\n",
    "        #     self.balance += 400\n",
    "        # else:\n",
    "        #     return \"일의 타입이 맞지 않습니다.\"\n",
    "        # return f\"{_type}의 일을 완료하였습니다. 현재의 잔액은 {self.balance}입니다.\"\n",
    "        if _type in self.work_type.keys():\n",
    "            self.balance += self.work_type[_type]\n",
    "        else:\n",
    "            return '일의 타입이 맞지 않습니다'    \n",
    "        return f\"{_type}의 일을 완료하였습니다. 현재의 잔액은 {self.balance}입니다.\"\n",
    "\n",
    "    # 구매하는 함수 생성\n",
    "    def buy(self,_item):\n",
    "        # if _item == 'cash':\n",
    "        #     self.cost = 200\n",
    "        # elif _item == 'food':\n",
    "        #     self.cost = 300\n",
    "        # elif _item == 'clothes':\n",
    "        #     self.cost = 500\n",
    "        # else:\n",
    "        #     return 'item의 타입이 맞지 않습니다'\n",
    "\n",
    "        if _item in self.item_type.keys():\n",
    "            if self.balance >= self.item_type[_item]:\n",
    "                self.balance -= self.item_type[_item]\n",
    "            else:\n",
    "                return '지갑의 잔액이 부족합니다'\n",
    "        else:\n",
    "            return 'item의 타입이 맞지 않습니다'         \n",
    "                   \n",
    "        return f\"{_item}을(를) 구매하였습니다. 현재의 잔액은 {self.balance}입니다\"\n",
    "\n",
    "    # 일과 구매의 목록을 추가하는 함수 생성\n",
    "    def add_type(self,_choose,_key,_value):\n",
    "        # _choose : 일이나 아니면 구매\n",
    "        # _key : dict의 키 값\n",
    "        # _value : dict의 value값\n",
    "        if _choose == 'work':\n",
    "            if _key not in self.work_type.keys():  \n",
    "                self.work_type[_key] = _value\n",
    "            else:\n",
    "                return '일 목록이 존재합니다'    \n",
    "        elif _choose == 'buy':\n",
    "            if _key not in self.item_type.keys():    \n",
    "                self.item_type[_key] = _value\n",
    "            else:\n",
    "                return '구매 목록이 존재합니다.'    \n",
    "        else:\n",
    "            return 'choose의 값이 잘못 되었습니다'\n",
    "            \n",
    "        return f\"{_choose}의 목록이 추가되었습니다\"                                                 \n",
    "\n",
    "    # 지갑의 정보를 출력하는 함수 생성\n",
    "    def info(self):\n",
    "        return(self.brand, self.value , self.balance)"
   ]
  },
  {
   "cell_type": "code",
   "execution_count": 170,
   "metadata": {},
   "outputs": [],
   "source": [
    "test = Wallet(\"test\",\"01012345678\",\"900101\",\"gucci\",\"5000\") # 클래스 생성, 생성자함수를 만든다"
   ]
  },
  {
   "cell_type": "code",
   "execution_count": 171,
   "metadata": {},
   "outputs": [
    {
     "data": {
      "text/plain": [
       "('gucci', '5000', 0)"
      ]
     },
     "execution_count": 171,
     "metadata": {},
     "output_type": "execute_result"
    }
   ],
   "source": [
    "test.info()"
   ]
  },
  {
   "cell_type": "code",
   "execution_count": 155,
   "metadata": {},
   "outputs": [],
   "source": [
    "test2 = User('test2','01012345678','000101')"
   ]
  },
  {
   "cell_type": "code",
   "execution_count": 164,
   "metadata": {},
   "outputs": [
    {
     "data": {
      "text/plain": [
       "('test2', '01012345678', '000101')"
      ]
     },
     "execution_count": 164,
     "metadata": {},
     "output_type": "execute_result"
    }
   ],
   "source": [
    "test2.info()"
   ]
  },
  {
   "cell_type": "code",
   "execution_count": 124,
   "metadata": {},
   "outputs": [
    {
     "data": {
      "text/plain": [
       "'일의 타입이 맞지 않습니다'"
      ]
     },
     "execution_count": 124,
     "metadata": {},
     "output_type": "execute_result"
    }
   ],
   "source": [
    "test.work('cook')"
   ]
  },
  {
   "cell_type": "code",
   "execution_count": 125,
   "metadata": {},
   "outputs": [
    {
     "data": {
      "text/plain": [
       "'serving의 일을 완료하였습니다. 현재의 잔액은 400입니다.'"
      ]
     },
     "execution_count": 125,
     "metadata": {},
     "output_type": "execute_result"
    }
   ],
   "source": [
    "test.work('serving')"
   ]
  },
  {
   "cell_type": "code",
   "execution_count": 126,
   "metadata": {},
   "outputs": [
    {
     "data": {
      "text/plain": [
       "'item의 타입이 맞지 않습니다'"
      ]
     },
     "execution_count": 126,
     "metadata": {},
     "output_type": "execute_result"
    }
   ],
   "source": [
    "test.buy('computer')"
   ]
  },
  {
   "cell_type": "code",
   "execution_count": 127,
   "metadata": {},
   "outputs": [
    {
     "data": {
      "text/plain": [
       "'food을(를) 구매하였습니다. 현재의 잔액은 100입니다'"
      ]
     },
     "execution_count": 127,
     "metadata": {},
     "output_type": "execute_result"
    }
   ],
   "source": [
    "test.buy('food')"
   ]
  },
  {
   "cell_type": "code",
   "execution_count": 133,
   "metadata": {},
   "outputs": [
    {
     "data": {
      "text/plain": [
       "'teach의 일을 완료하였습니다. 현재의 잔액은 700입니다.'"
      ]
     },
     "execution_count": 133,
     "metadata": {},
     "output_type": "execute_result"
    }
   ],
   "source": [
    "test.work('teach')"
   ]
  },
  {
   "cell_type": "code",
   "execution_count": 134,
   "metadata": {},
   "outputs": [
    {
     "data": {
      "text/plain": [
       "'일 목록이 존재합니다'"
      ]
     },
     "execution_count": 134,
     "metadata": {},
     "output_type": "execute_result"
    }
   ],
   "source": [
    "test.add_type('work','teach',200)"
   ]
  },
  {
   "cell_type": "code",
   "execution_count": 139,
   "metadata": {},
   "outputs": [
    {
     "data": {
      "text/plain": [
       "'구매 목록이 존재합니다.'"
      ]
     },
     "execution_count": 139,
     "metadata": {},
     "output_type": "execute_result"
    }
   ],
   "source": [
    "test.add_type('buy', 'coffee', 100)"
   ]
  },
  {
   "cell_type": "code",
   "execution_count": 145,
   "metadata": {},
   "outputs": [
    {
     "data": {
      "text/plain": [
       "'구매 목록이 존재합니다.'"
      ]
     },
     "execution_count": 145,
     "metadata": {},
     "output_type": "execute_result"
    }
   ],
   "source": [
    "test.add_type('buy', 'apple',50)"
   ]
  }
 ],
 "metadata": {
  "kernelspec": {
   "display_name": "base",
   "language": "python",
   "name": "python3"
  },
  "language_info": {
   "codemirror_mode": {
    "name": "ipython",
    "version": 3
   },
   "file_extension": ".py",
   "mimetype": "text/x-python",
   "name": "python",
   "nbconvert_exporter": "python",
   "pygments_lexer": "ipython3",
   "version": "3.10.9"
  },
  "orig_nbformat": 4
 },
 "nbformat": 4,
 "nbformat_minor": 2
}
