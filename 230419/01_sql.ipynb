{
 "cells": [
  {
   "attachments": {},
   "cell_type": "markdown",
   "metadata": {},
   "source": [
    "1. emp table에서 SAL 1000이상이고 3000미만인 사원의 정보를 출력\n",
    "2. emp, dept를 left join을 이용하여 결합한 뒤 부서의 위치가 'NEW YORK'인 데이터를 출력"
   ]
  },
  {
   "cell_type": "code",
   "execution_count": null,
   "metadata": {},
   "outputs": [],
   "source": [
    "import mod_sql"
   ]
  },
  {
   "cell_type": "code",
   "execution_count": null,
   "metadata": {},
   "outputs": [],
   "source": [
    "# 클래스를 생성\n",
    "db = mod_sql.Database('localhost', 'root', 'ubion7', 3306)"
   ]
  },
  {
   "cell_type": "code",
   "execution_count": null,
   "metadata": {},
   "outputs": [],
   "source": [
    "sql = \"\"\"\n",
    "    select \n",
    "    * \n",
    "    from \n",
    "    emp\n",
    "    where\n",
    "    (SAL >= 1000) \n",
    "    and \n",
    "    (SAL < 3000)\n",
    "\"\"\"\n",
    "db.sql_query(sql)"
   ]
  },
  {
   "cell_type": "code",
   "execution_count": null,
   "metadata": {},
   "outputs": [],
   "source": [
    "sql  = \"\"\"\n",
    "    select \n",
    "    * \n",
    "    from \n",
    "    emp \n",
    "    left join \n",
    "    dept \n",
    "    on \n",
    "    emp.DEPTNO = dept.DEPTNO\n",
    "    where \n",
    "    LOC = 'NEW YORK'\n",
    "\"\"\"\n",
    "\n",
    "db.sql_query(sql)"
   ]
  },
  {
   "attachments": {},
   "cell_type": "markdown",
   "metadata": {},
   "source": [
    "1. emp, dept를 right join결합\n",
    "2. 부서번호가 40인 데이터만 출력"
   ]
  },
  {
   "cell_type": "code",
   "execution_count": null,
   "metadata": {},
   "outputs": [],
   "source": [
    "# mods_sql을 통해서 Database 클래스를 생성\n",
    "db = mod_sql.Database('localhost', 'root', 'ubion7', 3306)"
   ]
  },
  {
   "cell_type": "code",
   "execution_count": null,
   "metadata": {},
   "outputs": [],
   "source": [
    "sql = \"\"\" \n",
    "    select * from emp\n",
    "    right join dept\n",
    "    on emp.DEPTNO = dept.DEPTNO\n",
    "    where \n",
    "    emp.DEPTNO = 40\n",
    "    or\n",
    "    dept.DEPTNO = 40\n",
    "\"\"\"\n",
    "\n",
    "db.sql_query(sql)"
   ]
  },
  {
   "cell_type": "code",
   "execution_count": null,
   "metadata": {},
   "outputs": [],
   "source": [
    "import requests\n",
    "from bs4 import BeautifulSoup as bs"
   ]
  },
  {
   "cell_type": "code",
   "execution_count": null,
   "metadata": {},
   "outputs": [],
   "source": [
    "# 실제 사이트에서 html 정보를 받아와서 변수에 저장\n",
    "data = requests.get('https://finance.naver.com/marketindex/exchangeList.naver').text\n"
   ]
  },
  {
   "cell_type": "code",
   "execution_count": null,
   "metadata": {},
   "outputs": [],
   "source": [
    "# BeautifulSoup을 이용하여 데이터를 파싱\n",
    "soup = bs(data, 'html.parser')"
   ]
  },
  {
   "cell_type": "code",
   "execution_count": null,
   "metadata": {},
   "outputs": [],
   "source": [
    "# find는 html안에서 해당 태그의 첫번째 정보를 출력\n",
    "soup.find('tbody')"
   ]
  },
  {
   "cell_type": "code",
   "execution_count": null,
   "metadata": {},
   "outputs": [],
   "source": [
    "# find_all() 해당태그의 전체 정보를 리스트의 형태로 출력\n",
    "data_list = soup.find_all('td')"
   ]
  },
  {
   "cell_type": "code",
   "execution_count": null,
   "metadata": {},
   "outputs": [],
   "source": [
    "# data_list를 이용하여 2차원 배열로 새로운 리스트를 생성\n",
    "# 1차원 리스트 생성\n",
    "# [[7개씩], [7개씩], [7개씩], [7개씩]] -> 2차원 리스트\n",
    "_list = []\n",
    "for i in data_list:\n",
    "    x = i.get_text()\n",
    "    x = x.replace(\"\\n\",'')\n",
    "    x = x.strip(\"\\t\")\n",
    "    _list.append(x)\n",
    "_list    "
   ]
  },
  {
   "cell_type": "code",
   "execution_count": null,
   "metadata": {},
   "outputs": [],
   "source": [
    "# 2차원 리스트\n",
    "result = []\n",
    "for i in range(len(_list)//7):\n",
    "    result.append(_list[i*7:(i+1)*7])\n",
    "result    "
   ]
  },
  {
   "cell_type": "code",
   "execution_count": null,
   "metadata": {},
   "outputs": [],
   "source": [
    "import pandas as pd"
   ]
  },
  {
   "cell_type": "code",
   "execution_count": null,
   "metadata": {},
   "outputs": [],
   "source": [
    "columns = [\"통화명\",\"매매기준율\",\"현찰(구매)\",\"현찰(판매)\",\"송금(보낼때)\",\"송금(받을때)\",\"미화환산율\"]"
   ]
  },
  {
   "cell_type": "code",
   "execution_count": null,
   "metadata": {},
   "outputs": [],
   "source": [
    "import mod_sql"
   ]
  },
  {
   "cell_type": "code",
   "execution_count": null,
   "metadata": {},
   "outputs": [],
   "source": [
    "db = mod_sql.Database('localhost', 'root', 'ubion7', 3306)"
   ]
  },
  {
   "cell_type": "code",
   "execution_count": null,
   "metadata": {},
   "outputs": [],
   "source": [
    "# 리로드 해주기..!\n",
    "import mod_sql\n",
    "import imp\n",
    "imp.reload(mod_sql)"
   ]
  },
  {
   "cell_type": "code",
   "execution_count": null,
   "metadata": {},
   "outputs": [],
   "source": [
    "# DB에 table 생성(naver)\n",
    "# 필드는 7개 모두 필드의 타입은 문자열 구성\n",
    "# 통화명 필드는 primary key\n",
    "\n",
    "sql = \"\"\" \n",
    "    create table `naver`(\n",
    "       `통화명` varchar(16) primary key,\n",
    "       `매매기준율` varchar(16),\n",
    "       `현찰(구매)` varchar(16),\n",
    "       `현찰(판매)` varchar(16),\n",
    "       `송금(보낼때)` varchar(16),\n",
    "       `송금(받을때)` varchar(16),\n",
    "       `미화환산율` varchar(16)\n",
    "    )\n",
    "\"\"\"\n",
    "db.sql_query(sql)"
   ]
  },
  {
   "cell_type": "code",
   "execution_count": null,
   "metadata": {},
   "outputs": [],
   "source": [
    "# naver라는 이름으로 생성한 테이블에 데이터 삽입\n",
    "# 데이터를 삽입하는 insert문을 작성\n",
    "sql =\"\"\"\n",
    "    insert into\n",
    "    naver\n",
    "    values\n",
    "    (%s, %s, %s, %s, %s ,%s, %s)\n",
    "\"\"\"\n",
    "\n",
    "values = ['toy',2,3,4,5,6,7]\n",
    "\n",
    "db.sql_query(sql,values)"
   ]
  },
  {
   "cell_type": "code",
   "execution_count": null,
   "metadata": {},
   "outputs": [],
   "source": [
    "# sql에 있는 데이터 삭제\n",
    "sql = \"\"\" \n",
    "    delete from `naver`\n",
    "    where `통화명` = 'toy'\n",
    "\"\"\"\n",
    "\n",
    "db.sql_query(sql)"
   ]
  },
  {
   "cell_type": "code",
   "execution_count": null,
   "metadata": {},
   "outputs": [],
   "source": [
    "result[0]"
   ]
  },
  {
   "cell_type": "code",
   "execution_count": null,
   "metadata": {},
   "outputs": [],
   "source": [
    "# result 변수의 데이터를 naver 테이블 삽입 - 부분\n",
    "sql =\"\"\"\n",
    "    insert into\n",
    "    `naver`\n",
    "    values\n",
    "    (%s, %s, %s, %s, %s ,%s, %s)\n",
    "\"\"\"\n",
    "values = result[0]\n",
    "\n",
    "db.sql_query(sql,values)"
   ]
  },
  {
   "cell_type": "code",
   "execution_count": null,
   "metadata": {},
   "outputs": [],
   "source": [
    "sql = \"\"\" \n",
    "    delete from `naver`\n",
    "    where `통화명` = '미국 USD'\n",
    "\"\"\"\n",
    "\n",
    "db.sql_query(sql)"
   ]
  },
  {
   "cell_type": "code",
   "execution_count": null,
   "metadata": {},
   "outputs": [],
   "source": [
    "# result 변수의 데이터를 naver 테이블 삽입 전체(for 반복문 사용)\n",
    "sql =\"\"\"\n",
    "    insert into\n",
    "    `naver`\n",
    "    values\n",
    "    (%s, %s, %s, %s, %s ,%s, %s)\n",
    "\"\"\"\n",
    "# for i in range(len(result)):   -> 풀어서적는법\n",
    "#     values = result[i]\n",
    "#     db.sql_query(sql,values)\n",
    "\n",
    "for i in result:\n",
    "    db.sql_query(sql,i)    "
   ]
  },
  {
   "cell_type": "code",
   "execution_count": null,
   "metadata": {},
   "outputs": [],
   "source": [
    "sql =\"\"\"\n",
    "    select * from naver\n",
    "\"\"\"\n",
    "\n",
    "db.sql_query(sql)"
   ]
  },
  {
   "cell_type": "code",
   "execution_count": null,
   "metadata": {},
   "outputs": [],
   "source": [
    "# primary key(유니크,중복x,null값x)로 쓸 데이터가 없을때 primary key로 사용하기 위해서 auto increment(인덱스를 실시간으로 달아줌)를 사용한다.\n",
    "sql =\"\"\"\n",
    "    insert into\n",
    "    `naver2`\n",
    "    (`통화명`,`매매기준율`,`현찰(구매)`,`현찰(판매)`,`송금(보낼때)`,`송금(받을때)`,`미화환산율`)\n",
    "    values\n",
    "    (%s, %s, %s, %s, %s ,%s, %s)\n",
    "\"\"\"\n",
    "for i in result:\n",
    "    db.sql_query(sql,i)    "
   ]
  },
  {
   "cell_type": "code",
   "execution_count": null,
   "metadata": {},
   "outputs": [],
   "source": [
    "sql = \"\"\" \n",
    "    delete from `naver2`\n",
    "\"\"\"\n",
    "db.sql_query(sql)"
   ]
  },
  {
   "attachments": {},
   "cell_type": "markdown",
   "metadata": {},
   "source": [
    "# mongodb\n",
    "1. 라이브러리 설치\n",
    "2. 라이브러리 로드\n",
    "3. CRUD\n",
    "- create, read, update ,delete"
   ]
  },
  {
   "cell_type": "code",
   "execution_count": null,
   "metadata": {},
   "outputs": [],
   "source": [
    "!pip install pymongo"
   ]
  },
  {
   "cell_type": "code",
   "execution_count": null,
   "metadata": {},
   "outputs": [],
   "source": [
    "from pymongo import MongoClient"
   ]
  },
  {
   "cell_type": "code",
   "execution_count": null,
   "metadata": {},
   "outputs": [],
   "source": [
    "client = MongoClient(\n",
    "    host = 'localhost',\n",
    "    port = 27017\n",
    ")"
   ]
  },
  {
   "cell_type": "code",
   "execution_count": null,
   "metadata": {},
   "outputs": [],
   "source": [
    "# mongodb에 있는 데이터베이스의 목록 출력 환경변수?\n",
    "client.list_database_names()"
   ]
  },
  {
   "cell_type": "code",
   "execution_count": null,
   "metadata": {},
   "outputs": [],
   "source": [
    "# 데이터베이스를 선택\n",
    "db = client['ubion']"
   ]
  },
  {
   "cell_type": "code",
   "execution_count": null,
   "metadata": {},
   "outputs": [],
   "source": [
    "# collection 접근 (collection은 sql에서 table과 같은 의미)\n",
    "collection = db['test']"
   ]
  },
  {
   "cell_type": "code",
   "execution_count": null,
   "metadata": {},
   "outputs": [],
   "source": [
    "# CRUD -> C\n",
    "# create -> insert()\n",
    "# insert_one() / insert_many()\n",
    "data = {\n",
    "    'id' : 'test',\n",
    "    'pass' : '1234'    \n",
    "}\n",
    "collection.insert_one(data)"
   ]
  },
  {
   "cell_type": "code",
   "execution_count": null,
   "metadata": {},
   "outputs": [],
   "source": [
    "collection.find_one()   # 괴상한 값은 primary key이다. 암호화된 데이터->해쉬값"
   ]
  },
  {
   "cell_type": "code",
   "execution_count": null,
   "metadata": {},
   "outputs": [],
   "source": [
    "data = [\n",
    "    {\n",
    "        'name' : 'test1',\n",
    "        'phone' : '01011112222',\n",
    "        'gender' : 'male'\n",
    "    },\n",
    "    {\n",
    "        'loc' : 'seoul'\n",
    "    }\n",
    "]\n",
    "collection.insert_many(data)"
   ]
  },
  {
   "cell_type": "code",
   "execution_count": null,
   "metadata": {},
   "outputs": [],
   "source": [
    "list(collection.find())"
   ]
  },
  {
   "attachments": {},
   "cell_type": "markdown",
   "metadata": {},
   "source": [
    "1. sql에서 test table에서 name이 test1인 경우의 데이터를 출력\n",
    "  - select * from test where name = 'test1'"
   ]
  },
  {
   "cell_type": "code",
   "execution_count": null,
   "metadata": {},
   "outputs": [],
   "source": [
    "list(collection.find({\"name\" : \"test1\"}))"
   ]
  },
  {
   "attachments": {},
   "cell_type": "markdown",
   "metadata": {},
   "source": [
    "1. 해당하는 컬럼의 데이터만 출력하려면\n",
    "  - select name from test"
   ]
  },
  {
   "cell_type": "code",
   "execution_count": null,
   "metadata": {},
   "outputs": [],
   "source": [
    "list(collection.find({},{'name':1}))"
   ]
  },
  {
   "attachments": {},
   "cell_type": "markdown",
   "metadata": {},
   "source": [
    "1. 데이터의 수정\n",
    "  - updqte test set pass = '0000' where id = 'test'\n",
    "  - test 테이블에 id가 test인 데이터에서 pass의 값을 0000으로 수정하겠다"
   ]
  },
  {
   "cell_type": "code",
   "execution_count": null,
   "metadata": {},
   "outputs": [],
   "source": [
    "collection.update_one(\n",
    "    {\n",
    "       \"id\" : \"test\"\n",
    "    },\n",
    "    {\n",
    "       \"$set\" : {\n",
    "          \"pass\" : \"0000\"\n",
    "       }\n",
    "    }\n",
    ")"
   ]
  },
  {
   "cell_type": "code",
   "execution_count": null,
   "metadata": {},
   "outputs": [],
   "source": [
    "collection.find_one()"
   ]
  },
  {
   "attachments": {},
   "cell_type": "markdown",
   "metadata": {},
   "source": [
    "1. 데이터의 삭제\n",
    "   - delete from test where id = 'test'\n",
    "   - test 테이블에서 id가 'test'인 데이터를 삭제"
   ]
  },
  {
   "cell_type": "code",
   "execution_count": 167,
   "metadata": {},
   "outputs": [
    {
     "data": {
      "text/plain": [
       "<pymongo.results.DeleteResult at 0x7fa011b83280>"
      ]
     },
     "execution_count": 167,
     "metadata": {},
     "output_type": "execute_result"
    }
   ],
   "source": [
    "collection.delete_one(\n",
    "    {\n",
    "       \"id\" : \"test\"\n",
    "    }\n",
    ")"
   ]
  },
  {
   "cell_type": "code",
   "execution_count": 168,
   "metadata": {},
   "outputs": [
    {
     "data": {
      "text/plain": [
       "[{'_id': ObjectId('643f8b03db17ccb4414a090d'), 'id': 'test', 'pass': '1234'},\n",
       " {'_id': ObjectId('643f8cdddb17ccb4414a090e'),\n",
       "  'name': 'test1',\n",
       "  'phone': '01011112222',\n",
       "  'gender': 'male'},\n",
       " {'_id': ObjectId('643f8cdddb17ccb4414a090f'), 'loc': 'seoul'}]"
      ]
     },
     "execution_count": 168,
     "metadata": {},
     "output_type": "execute_result"
    }
   ],
   "source": [
    "list(collection.find())"
   ]
  },
  {
   "cell_type": "code",
   "execution_count": 171,
   "metadata": {},
   "outputs": [
    {
     "data": {
      "text/plain": [
       "[{'_id': ObjectId('643f8b03db17ccb4414a090d'), 'id': 'test', 'pass': '1234'},\n",
       " {'_id': ObjectId('643f8cdddb17ccb4414a090e'),\n",
       "  'name': 'test1',\n",
       "  'phone': '01011112222',\n",
       "  'gender': 'male'},\n",
       " {'_id': ObjectId('643f8cdddb17ccb4414a090f'), 'loc': 'seoul'}]"
      ]
     },
     "execution_count": 171,
     "metadata": {},
     "output_type": "execute_result"
    }
   ],
   "source": [
    "list(client['ubion']['test'].find())"
   ]
  },
  {
   "attachments": {},
   "cell_type": "markdown",
   "metadata": {},
   "source": [
    "### mongo  select 조건식\n",
    " - find(옵션1, 옵션, 옵션3, ..., 컬럼 선택)\n",
    "\n",
    "    1. db.collection.find() -> select * from TABLE\n",
    "    2. db.collection.find({}, {\"id\":1, \"pass\" :1}) -> select id , pass from TABLE\n",
    "    3. db.collection.find({},{\"id\":1, \"pass\":1, \"_id\" :0}) -> 2번과정과 같은 sql문이지만 _id를 보여주지 않겠다\n",
    "    4. db.collection.find({\"id\" : \"test\"}) -> select * from TABLE where id = \"test\"\n",
    "    5. db.collection.find({\"id\" : \"test\", \"pass\" : \"1234\"}) -> select * from TABLE where id = 'test' and pass = '1234'\n",
    "    6. db.collection.find({\"id\" : \"test\"},{\"pass\" : \"1234\"}) -> select * from TABLE where id = \"test\" or pass = \"1234\"\n",
    "    7. db.collection.find({\"age\" : {\"$gt\" : 25}}) -> select * from TABLE where age > 25\n",
    "    8. db.collection.find({\"age\" : {\"$1t\" : 25}}) -> select * from TABLE where age < 25\n",
    "    9. db.collection.find({\"id\" : {/bc/}}) -> select * from TABLE wher id like '%bc%'\n",
    "    10. db.collection.find().sort({\"id\":1}) -> select * from TABLE order by id ASC \n",
    "    11. db.collection.find().sort({\"id\":-1}) -> select * from TABLE order by id DESC\n",
    "    12. db.collection.find().limit(10) -> select * from TABLE limit 10"
   ]
  },
  {
   "cell_type": "code",
   "execution_count": null,
   "metadata": {},
   "outputs": [],
   "source": []
  }
 ],
 "metadata": {
  "kernelspec": {
   "display_name": "base",
   "language": "python",
   "name": "python3"
  },
  "language_info": {
   "codemirror_mode": {
    "name": "ipython",
    "version": 3
   },
   "file_extension": ".py",
   "mimetype": "text/x-python",
   "name": "python",
   "nbconvert_exporter": "python",
   "pygments_lexer": "ipython3",
   "version": "3.10.9"
  },
  "orig_nbformat": 4
 },
 "nbformat": 4,
 "nbformat_minor": 2
}
