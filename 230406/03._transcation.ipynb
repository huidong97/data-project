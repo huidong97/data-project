{
 "cells": [
  {
   "attachments": {},
   "cell_type": "markdown",
   "metadata": {},
   "source": [
    "##예제\n",
    "1. csv 폴더에서 4개의 파일을 로드 (tran1, tran2, tran_d_1, trand_d_2)\n",
    "2. tran_1과 tran_2는 단순한 행 추가 결합 (유니언 결합)\n",
    "3. tran_d_1과 tran_d_2도 유니언 결합\n",
    "4. 2번, 3번 과정에서 나온 데이터 프레임을 특정 조건에 맞춰서 2번 데이터프레임 기준으로 열 추가 결합(조인 결합)\n",
    "5. csv폴더에 있는 2개의 파일 로드(custom_master, item_master)\n",
    "6. 4번 과정에서 나온 데이터프레임과 custom_master 조인 결합\n",
    "7. 6번 과정에서 나온 데이터프레임과 item_master 조인 결합\n",
    "8. 결합이 된 데이터프레임에서 quantity컬럼과 item_price 컬럼의 데이터를 가지고 total_price라는 파생 변수를 생성(total_price = item_price * quantity)"
   ]
  },
  {
   "cell_type": "code",
   "execution_count": 2,
   "metadata": {},
   "outputs": [],
   "source": [
    "import pandas as pd"
   ]
  },
  {
   "cell_type": "code",
   "execution_count": 3,
   "metadata": {},
   "outputs": [],
   "source": [
    "tran1 = pd.read_csv(\"../csv/tran_1.csv\")\n",
    "tran2 = pd.read_csv(\"../csv/tran_2.csv\")\n",
    "trand1 = pd.read_csv(\"../csv/tran_d_1.csv\")\n",
    "trand2 = pd.read_csv(\"../csv/tran_d_2.csv\")    "
   ]
  },
  {
   "cell_type": "code",
   "execution_count": 4,
   "metadata": {},
   "outputs": [],
   "source": [
    "# tran1, tran2 유니언 결합\n",
    "tran = pd.concat([tran1,tran2],axis=0,ignore_index=True)"
   ]
  },
  {
   "cell_type": "code",
   "execution_count": 5,
   "metadata": {},
   "outputs": [],
   "source": [
    "# trand1, trand2 유니언 결합\n",
    "trand = pd.concat([trand1,trand2],axis=0,ignore_index=True)"
   ]
  },
  {
   "cell_type": "code",
   "execution_count": 6,
   "metadata": {},
   "outputs": [],
   "source": [
    "# tran과 trand를 조인 결합(조건 : transaction_id, how: tran)\n",
    "tran = pd.merge(tran,trand,on='transaction_id',how='left')"
   ]
  },
  {
   "cell_type": "code",
   "execution_count": 7,
   "metadata": {},
   "outputs": [],
   "source": [
    "# 2개 파일을 로드\n",
    "customer_master = pd.read_csv(\"../csv/customer_master.csv\")\n",
    "item_master = pd.read_csv(\"../csv/item_master.csv\")"
   ]
  },
  {
   "cell_type": "code",
   "execution_count": 8,
   "metadata": {},
   "outputs": [],
   "source": [
    "# tran, customer_master 조인 결합 (조건 : customer_id, how : inner, left)\n",
    "total_df = pd.merge(tran, customer_master ,on='customer_id', how='inner')"
   ]
  },
  {
   "cell_type": "code",
   "execution_count": 9,
   "metadata": {},
   "outputs": [
    {
     "data": {
      "text/html": [
       "<div>\n",
       "<style scoped>\n",
       "    .dataframe tbody tr th:only-of-type {\n",
       "        vertical-align: middle;\n",
       "    }\n",
       "\n",
       "    .dataframe tbody tr th {\n",
       "        vertical-align: top;\n",
       "    }\n",
       "\n",
       "    .dataframe thead th {\n",
       "        text-align: right;\n",
       "    }\n",
       "</style>\n",
       "<table border=\"1\" class=\"dataframe\">\n",
       "  <thead>\n",
       "    <tr style=\"text-align: right;\">\n",
       "      <th></th>\n",
       "      <th>transaction_id</th>\n",
       "      <th>price</th>\n",
       "      <th>payment_date</th>\n",
       "      <th>customer_id</th>\n",
       "      <th>detail_id</th>\n",
       "      <th>item_id</th>\n",
       "      <th>quantity</th>\n",
       "      <th>name</th>\n",
       "      <th>class</th>\n",
       "      <th>gender</th>\n",
       "      <th>start_date</th>\n",
       "      <th>end_date</th>\n",
       "      <th>campaign_id</th>\n",
       "      <th>is_deleted</th>\n",
       "      <th>item_name</th>\n",
       "      <th>item_price</th>\n",
       "    </tr>\n",
       "  </thead>\n",
       "  <tbody>\n",
       "    <tr>\n",
       "      <th>0</th>\n",
       "      <td>T0000000113</td>\n",
       "      <td>210000</td>\n",
       "      <td>2019-02-01 01:36:57</td>\n",
       "      <td>PL563502</td>\n",
       "      <td>0</td>\n",
       "      <td>S005</td>\n",
       "      <td>1</td>\n",
       "      <td>XX</td>\n",
       "      <td>C01</td>\n",
       "      <td>M</td>\n",
       "      <td>2018-07-01 00:00:00</td>\n",
       "      <td>NaN</td>\n",
       "      <td>CA1</td>\n",
       "      <td>0</td>\n",
       "      <td>PC-E</td>\n",
       "      <td>210000</td>\n",
       "    </tr>\n",
       "  </tbody>\n",
       "</table>\n",
       "</div>"
      ],
      "text/plain": [
       "  transaction_id   price         payment_date customer_id  detail_id item_id  \\\n",
       "0    T0000000113  210000  2019-02-01 01:36:57    PL563502          0    S005   \n",
       "\n",
       "   quantity name class gender           start_date end_date campaign_id  \\\n",
       "0         1   XX   C01      M  2018-07-01 00:00:00      NaN         CA1   \n",
       "\n",
       "   is_deleted item_name  item_price  \n",
       "0           0      PC-E      210000  "
      ]
     },
     "execution_count": 9,
     "metadata": {},
     "output_type": "execute_result"
    }
   ],
   "source": [
    "# total_df , item_master 조인결합 (조건: item_id, how : inner)\n",
    "total_df = pd.merge(total_df, item_master ,on='item_id', how='inner')\n",
    "total_df.head(1)"
   ]
  },
  {
   "cell_type": "code",
   "execution_count": 10,
   "metadata": {},
   "outputs": [],
   "source": [
    "# 새로운 파생변수 생성 total_price\n",
    "# total_df['total_price'] = values\n",
    "total_df['total_price'] = total_df['item_price']*total_df['quantity']"
   ]
  },
  {
   "cell_type": "code",
   "execution_count": 11,
   "metadata": {},
   "outputs": [],
   "source": [
    "# 거래의 금액이 가장 좋은 아이템은 무엇인가?\n",
    "group_data = total_df[['item_name','total_price']].groupby('item_name').sum()"
   ]
  },
  {
   "cell_type": "code",
   "execution_count": 12,
   "metadata": {},
   "outputs": [
    {
     "data": {
      "text/plain": [
       "'PC-E'"
      ]
     },
     "execution_count": 12,
     "metadata": {},
     "output_type": "execute_result"
    }
   ],
   "source": [
    "# 내림차순 정렬\n",
    "group_data.sort_values('total_price',ascending=False).index[0]"
   ]
  },
  {
   "cell_type": "code",
   "execution_count": 13,
   "metadata": {},
   "outputs": [],
   "source": [
    "origin_data = total_df.copy()"
   ]
  },
  {
   "cell_type": "code",
   "execution_count": 14,
   "metadata": {},
   "outputs": [
    {
     "data": {
      "text/plain": [
       "0       M\n",
       "1       F\n",
       "2       F\n",
       "3       M\n",
       "4       M\n",
       "       ..\n",
       "6064    M\n",
       "6065    M\n",
       "6066    M\n",
       "6067    M\n",
       "6068    M\n",
       "Name: gender, Length: 6069, dtype: object"
      ]
     },
     "execution_count": 14,
     "metadata": {},
     "output_type": "execute_result"
    }
   ],
   "source": [
    "total_df['gender']"
   ]
  },
  {
   "cell_type": "code",
   "execution_count": 15,
   "metadata": {},
   "outputs": [],
   "source": [
    "# loc를 이용하여 m,f를 변경\n",
    "# m -> 남자, f -> 여자\n",
    "total_df.loc[total_df['gender'] == \"M\",'gender'] = '남자'\n",
    "total_df.loc[total_df['gender'] == \"F\",'gender'] = '여자'"
   ]
  },
  {
   "cell_type": "code",
   "execution_count": 16,
   "metadata": {},
   "outputs": [
    {
     "data": {
      "text/plain": [
       "남자    3268\n",
       "여자    2801\n",
       "Name: gender, dtype: int64"
      ]
     },
     "execution_count": 16,
     "metadata": {},
     "output_type": "execute_result"
    }
   ],
   "source": [
    "total_df['gender'].value_counts()"
   ]
  },
  {
   "cell_type": "code",
   "execution_count": 17,
   "metadata": {},
   "outputs": [
    {
     "data": {
      "text/plain": [
       "0       남자\n",
       "1       남자\n",
       "2       남자\n",
       "3       남자\n",
       "4       남자\n",
       "        ..\n",
       "6064    남자\n",
       "6065    남자\n",
       "6066    남자\n",
       "6067    남자\n",
       "6068    남자\n",
       "Name: gender, Length: 6069, dtype: object"
      ]
     },
     "execution_count": 17,
     "metadata": {},
     "output_type": "execute_result"
    }
   ],
   "source": [
    "# apply() 사용하여 남자, 여자 변경\n",
    "\n",
    "def change(x):\n",
    "    # x에는 M아니면 F\n",
    "    if x == \"F\":\n",
    "        result = \"여자\"\n",
    "    else:\n",
    "        result = \"남자\"\n",
    "    return result\n",
    "\n",
    "total_df['gender'].apply(change)        "
   ]
  },
  {
   "cell_type": "code",
   "execution_count": 18,
   "metadata": {},
   "outputs": [
    {
     "data": {
      "text/plain": [
       "0       남자\n",
       "1       여자\n",
       "2       여자\n",
       "3       남자\n",
       "4       남자\n",
       "        ..\n",
       "6064    남자\n",
       "6065    남자\n",
       "6066    남자\n",
       "6067    남자\n",
       "6068    남자\n",
       "Name: gender, Length: 6069, dtype: object"
      ]
     },
     "execution_count": 18,
     "metadata": {},
     "output_type": "execute_result"
    }
   ],
   "source": [
    "origin_data['gender'].apply(lambda x :'남자' if(x == 'M') else \n",
    "                            ('여자'if(x == 'F') else '무응답'))"
   ]
  },
  {
   "cell_type": "code",
   "execution_count": 19,
   "metadata": {},
   "outputs": [
    {
     "data": {
      "text/html": [
       "<div>\n",
       "<style scoped>\n",
       "    .dataframe tbody tr th:only-of-type {\n",
       "        vertical-align: middle;\n",
       "    }\n",
       "\n",
       "    .dataframe tbody tr th {\n",
       "        vertical-align: top;\n",
       "    }\n",
       "\n",
       "    .dataframe thead th {\n",
       "        text-align: right;\n",
       "    }\n",
       "</style>\n",
       "<table border=\"1\" class=\"dataframe\">\n",
       "  <thead>\n",
       "    <tr style=\"text-align: right;\">\n",
       "      <th></th>\n",
       "      <th>transaction_id</th>\n",
       "      <th>price</th>\n",
       "      <th>payment_date</th>\n",
       "      <th>customer_id</th>\n",
       "      <th>detail_id</th>\n",
       "      <th>item_id</th>\n",
       "      <th>quantity</th>\n",
       "      <th>name</th>\n",
       "      <th>class</th>\n",
       "      <th>gender</th>\n",
       "      <th>start_date</th>\n",
       "      <th>end_date</th>\n",
       "      <th>campaign_id</th>\n",
       "      <th>is_deleted</th>\n",
       "      <th>item_name</th>\n",
       "      <th>item_price</th>\n",
       "      <th>total_price</th>\n",
       "    </tr>\n",
       "  </thead>\n",
       "  <tbody>\n",
       "    <tr>\n",
       "      <th>0</th>\n",
       "      <td>T0000000113</td>\n",
       "      <td>210000</td>\n",
       "      <td>2019-02-01 01:36:57</td>\n",
       "      <td>PL563502</td>\n",
       "      <td>0</td>\n",
       "      <td>S005</td>\n",
       "      <td>1</td>\n",
       "      <td>XX</td>\n",
       "      <td>C01</td>\n",
       "      <td>남자</td>\n",
       "      <td>2018-07-01 00:00:00</td>\n",
       "      <td>NaN</td>\n",
       "      <td>CA1</td>\n",
       "      <td>0</td>\n",
       "      <td>PC-E</td>\n",
       "      <td>210000</td>\n",
       "      <td>210000</td>\n",
       "    </tr>\n",
       "  </tbody>\n",
       "</table>\n",
       "</div>"
      ],
      "text/plain": [
       "  transaction_id   price         payment_date customer_id  detail_id item_id  \\\n",
       "0    T0000000113  210000  2019-02-01 01:36:57    PL563502          0    S005   \n",
       "\n",
       "   quantity name class gender           start_date end_date campaign_id  \\\n",
       "0         1   XX   C01     남자  2018-07-01 00:00:00      NaN         CA1   \n",
       "\n",
       "   is_deleted item_name  item_price  total_price  \n",
       "0           0      PC-E      210000       210000  "
      ]
     },
     "execution_count": 19,
     "metadata": {},
     "output_type": "execute_result"
    }
   ],
   "source": [
    "# payment_date 컬럼을 시계열 데이터 변경\n",
    "# to_datetime()\n",
    "total_df.head(1)"
   ]
  },
  {
   "cell_type": "code",
   "execution_count": 20,
   "metadata": {},
   "outputs": [],
   "source": [
    "total_df['payment_date'] = pd.to_datetime(total_df['payment_date'],format='%Y-%m-%d %H:%M:%S')"
   ]
  },
  {
   "cell_type": "code",
   "execution_count": 21,
   "metadata": {},
   "outputs": [
    {
     "name": "stdout",
     "output_type": "stream",
     "text": [
      "<class 'pandas.core.frame.DataFrame'>\n",
      "Int64Index: 6069 entries, 0 to 6068\n",
      "Data columns (total 17 columns):\n",
      " #   Column          Non-Null Count  Dtype         \n",
      "---  ------          --------------  -----         \n",
      " 0   transaction_id  6069 non-null   object        \n",
      " 1   price           6069 non-null   int64         \n",
      " 2   payment_date    6069 non-null   datetime64[ns]\n",
      " 3   customer_id     6069 non-null   object        \n",
      " 4   detail_id       6069 non-null   int64         \n",
      " 5   item_id         6069 non-null   object        \n",
      " 6   quantity        6069 non-null   int64         \n",
      " 7   name            6069 non-null   object        \n",
      " 8   class           6069 non-null   object        \n",
      " 9   gender          6069 non-null   object        \n",
      " 10  start_date      6069 non-null   object        \n",
      " 11  end_date        1978 non-null   object        \n",
      " 12  campaign_id     6069 non-null   object        \n",
      " 13  is_deleted      6069 non-null   int64         \n",
      " 14  item_name       6069 non-null   object        \n",
      " 15  item_price      6069 non-null   int64         \n",
      " 16  total_price     6069 non-null   int64         \n",
      "dtypes: datetime64[ns](1), int64(6), object(10)\n",
      "memory usage: 853.5+ KB\n"
     ]
    }
   ],
   "source": [
    "total_df.info()"
   ]
  },
  {
   "cell_type": "code",
   "execution_count": 22,
   "metadata": {},
   "outputs": [],
   "source": [
    "# 시계열 데이터에서 월-년 추출해서 새로운 파생변수 payment_month 생성\n",
    "total_df['payment_month'] = total_df['payment_date'].dt.strftime('%m-%Y')"
   ]
  },
  {
   "cell_type": "code",
   "execution_count": 23,
   "metadata": {},
   "outputs": [
    {
     "data": {
      "text/html": [
       "<div>\n",
       "<style scoped>\n",
       "    .dataframe tbody tr th:only-of-type {\n",
       "        vertical-align: middle;\n",
       "    }\n",
       "\n",
       "    .dataframe tbody tr th {\n",
       "        vertical-align: top;\n",
       "    }\n",
       "\n",
       "    .dataframe thead th {\n",
       "        text-align: right;\n",
       "    }\n",
       "</style>\n",
       "<table border=\"1\" class=\"dataframe\">\n",
       "  <thead>\n",
       "    <tr style=\"text-align: right;\">\n",
       "      <th></th>\n",
       "      <th>total_price</th>\n",
       "    </tr>\n",
       "    <tr>\n",
       "      <th>payment_month</th>\n",
       "      <th></th>\n",
       "    </tr>\n",
       "  </thead>\n",
       "  <tbody>\n",
       "    <tr>\n",
       "      <th>02-2019</th>\n",
       "      <td>136905000</td>\n",
       "    </tr>\n",
       "    <tr>\n",
       "      <th>03-2019</th>\n",
       "      <td>135695000</td>\n",
       "    </tr>\n",
       "    <tr>\n",
       "      <th>04-2019</th>\n",
       "      <td>135970000</td>\n",
       "    </tr>\n",
       "    <tr>\n",
       "      <th>05-2019</th>\n",
       "      <td>132750000</td>\n",
       "    </tr>\n",
       "    <tr>\n",
       "      <th>06-2019</th>\n",
       "      <td>138870000</td>\n",
       "    </tr>\n",
       "    <tr>\n",
       "      <th>07-2019</th>\n",
       "      <td>145850000</td>\n",
       "    </tr>\n",
       "  </tbody>\n",
       "</table>\n",
       "</div>"
      ],
      "text/plain": [
       "               total_price\n",
       "payment_month             \n",
       "02-2019          136905000\n",
       "03-2019          135695000\n",
       "04-2019          135970000\n",
       "05-2019          132750000\n",
       "06-2019          138870000\n",
       "07-2019          145850000"
      ]
     },
     "execution_count": 23,
     "metadata": {},
     "output_type": "execute_result"
    }
   ],
   "source": [
    "#월별 거래량을 확인\n",
    "total_df[['payment_month','total_price']].groupby('payment_month').sum()"
   ]
  },
  {
   "cell_type": "code",
   "execution_count": 24,
   "metadata": {},
   "outputs": [
    {
     "data": {
      "text/plain": [
       "<Axes: xlabel='item_name'>"
      ]
     },
     "execution_count": 24,
     "metadata": {},
     "output_type": "execute_result"
    },
    {
     "data": {
      "image/png": "[encoded data removed]",
      "text/plain": [
       "<Figure size 640x480 with 1 Axes>"
      ]
     },
     "metadata": {},
     "output_type": "display_data"
    }
   ],
   "source": [
    "group_data.plot()"
   ]
  },
  {
   "cell_type": "code",
   "execution_count": 25,
   "metadata": {},
   "outputs": [],
   "source": [
    "pivot_data = pd.pivot_table(\n",
    "    total_df,\n",
    "    index='payment_month',\n",
    "    aggfunc=['sum','mean','min','max','std'],\n",
    "    values= 'total_price'\n",
    ")"
   ]
  }
 ],
 "metadata": {
  "kernelspec": {
   "display_name": "base",
   "language": "python",
   "name": "python3"
  },
  "language_info": {
   "codemirror_mode": {
    "name": "ipython",
    "version": 3
   },
   "file_extension": ".py",
   "mimetype": "text/x-python",
   "name": "python",
   "nbconvert_exporter": "python",
   "pygments_lexer": "ipython3",
   "version": "3.10.9"
  },
  "orig_nbformat": 4
 },
 "nbformat": 4,
 "nbformat_minor": 2
}
