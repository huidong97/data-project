{
 "cells": [
  {
   "attachments": {},
   "cell_type": "markdown",
   "metadata": {},
   "source": [
    "#buyandhold\n",
    "구매 후 일정기간 지나면 판매"
   ]
  },
  {
   "cell_type": "code",
   "execution_count": null,
   "metadata": {},
   "outputs": [],
   "source": [
    "import pandas as pd\n",
    "import numpy as np"
   ]
  },
  {
   "cell_type": "code",
   "execution_count": null,
   "metadata": {},
   "outputs": [],
   "source": [
    "df = pd.read_csv(\"../csv/AAPL.csv\",index_col='Date')\n",
    "df"
   ]
  },
  {
   "cell_type": "code",
   "execution_count": null,
   "metadata": {},
   "outputs": [],
   "source": [
    "# 결측치와 무한대의 값이 존재하는지 확인\n",
    "df = df.loc[~df.isin([np.nan,np.inf,-np.inf]).any(1)]"
   ]
  },
  {
   "cell_type": "code",
   "execution_count": null,
   "metadata": {},
   "outputs": [],
   "source": [
    "df.dropna(axis=0)"
   ]
  },
  {
   "cell_type": "code",
   "execution_count": null,
   "metadata": {},
   "outputs": [],
   "source": [
    "# df에 있는 수정종가 부분만 추출하여 데이터프레임의 형태로\n",
    "# case1\n",
    "df[['Adj Close']]\n",
    "# case2\n",
    "price_df = df.loc[:,['Adj Close']]"
   ]
  },
  {
   "cell_type": "code",
   "execution_count": null,
   "metadata": {},
   "outputs": [],
   "source": [
    "# 수정종가를 그래프로 표시\n",
    "price_df.plot()"
   ]
  },
  {
   "cell_type": "code",
   "execution_count": null,
   "metadata": {},
   "outputs": [],
   "source": [
    "# 파생 변수 생성(일별 수익율)\n",
    "# 일별 수익율 =  (오늘의 종가-전날의 종가) / 전날의 종가\n",
    "# case1\n",
    "price_df['Adj Close'].diff() / price_df['Adj Close'].shift()\n",
    "# case2\n",
    "price_df[\"daily_rtn\"] = price_df[\"Adj Close\"].pct_change()\n",
    "price_df.head(5)\n"
   ]
  },
  {
   "cell_type": "code",
   "execution_count": null,
   "metadata": {},
   "outputs": [],
   "source": [
    "price_df.head(5)"
   ]
  },
  {
   "cell_type": "code",
   "execution_count": null,
   "metadata": {},
   "outputs": [],
   "source": [
    "# 일별 수익율을 가지고 총 수익을 구하려면?\n",
    "\n",
    "price_df.iloc[500:600]"
   ]
  },
  {
   "cell_type": "code",
   "execution_count": null,
   "metadata": {},
   "outputs": [],
   "source": [
    "test_df = price_df.iloc[500 : 600]"
   ]
  },
  {
   "cell_type": "code",
   "execution_count": null,
   "metadata": {},
   "outputs": [],
   "source": [
    "rtn = 1\n",
    "\n",
    "for i in test_df.index:\n",
    "    rtn = rtn* (1+test_df.loc[i,'daily_rtn'])\n",
    "print(rtn)     "
   ]
  },
  {
   "attachments": {},
   "cell_type": "markdown",
   "metadata": {},
   "source": [
    "buy and hold 함수 생성\n",
    "1. 매개변수는 1개(데이터프레임)\n",
    "2. 결측치,무한대를 제거\n",
    "3. 수정종가만 있는 데이터프레임으로 변경\n",
    "4. 일별 수익율 파생변수 생성\n",
    "5. 누적 수익율 파생변수를 생성\n",
    "6. 데이터프레임을 리턴"
   ]
  },
  {
   "cell_type": "code",
   "execution_count": null,
   "metadata": {},
   "outputs": [],
   "source": [
    "df = pd.read_csv(\"../csv/AAPL.CSV\")"
   ]
  },
  {
   "cell_type": "code",
   "execution_count": null,
   "metadata": {},
   "outputs": [],
   "source": [
    "# 함수에 기준이되는 컬럼을 매개변수 생성 #꿀팁 -> 옵션누르고 드래그 하면 한번에 똑같은거 동시에 수정가능 옵션 누르고 드래그할꺼 하고 다음꺼 드래고, 해제 할때는 esc\n",
    "import numpy as np\n",
    "from datetime import datetime\n",
    "import pandas as pd\n",
    "\n",
    "def bnh(df,column,start,end):\n",
    "    # 인덱스 시계열로 변경\n",
    "    df.index = pd.to_datetime(df.index)\n",
    "    start = datetime.strptime(start,\"%Y%m%d\").isoformat()\n",
    "    end = datetime.strptime(end,\"%Y%m%d\").isoformat()\n",
    "    df = df.loc[start:end]\n",
    "    # 결측치, 무한대 제외\n",
    "    df = df.loc[~df.isin([np.nan,np.inf,-np.inf])].any(axis='columns')\n",
    "    # 수정 종가만 있는 데이터프레임으로 변경\n",
    "    df = df[[column]]\n",
    "    # 일별 수익률 변수 생성\n",
    "    df['daily_rtn'] = df[[column]].pct_change()\n",
    "    # 누적 수익률 변수 생성\n",
    "    df['st_rtn'] = (1 + df[['daily_rtn']]).cumprod()\n",
    "    # 데이터프레임을 리턴\n",
    "    return df                "
   ]
  },
  {
   "cell_type": "code",
   "execution_count": null,
   "metadata": {},
   "outputs": [],
   "source": [
    "df = pd.read_csv(\"../csv/AMZN.csv\",index_col=\"Date\")"
   ]
  },
  {
   "cell_type": "code",
   "execution_count": null,
   "metadata": {},
   "outputs": [],
   "source": [
    "df.index = pd.to_datetime(df.index,format=\"%Y-%m-%d\")"
   ]
  },
  {
   "cell_type": "code",
   "execution_count": null,
   "metadata": {},
   "outputs": [],
   "source": [
    "from datetime import datetime"
   ]
  },
  {
   "cell_type": "code",
   "execution_count": null,
   "metadata": {},
   "outputs": [],
   "source": [
    "start = \"20080101\"\n",
    "end = \"20150101\"\n",
    "start = datetime.strptime(start,\"%Y%m%d\").isoformat()\n",
    "end = datetime.strptime(end,\"%Y%m%d\").isoformat()\n",
    "start"
   ]
  },
  {
   "cell_type": "code",
   "execution_count": null,
   "metadata": {},
   "outputs": [],
   "source": [
    "import buyandhold\n",
    "# 라이브러리 리로드\n",
    "import imp\n",
    "imp.reload(buyandhold)"
   ]
  },
  {
   "cell_type": "code",
   "execution_count": null,
   "metadata": {},
   "outputs": [],
   "source": [
    "df = pd.read_csv(\"../csv/BND.csv\",index_col='Date')"
   ]
  },
  {
   "cell_type": "code",
   "execution_count": null,
   "metadata": {},
   "outputs": [],
   "source": [
    "buyandhold.bnh(df,\"Adj Close\",'20100101','20150101')"
   ]
  },
  {
   "cell_type": "code",
   "execution_count": null,
   "metadata": {},
   "outputs": [],
   "source": [
    "#라이브러리 설치\n",
    "!pip install yfinance"
   ]
  },
  {
   "cell_type": "code",
   "execution_count": null,
   "metadata": {},
   "outputs": [],
   "source": [
    "import yfinance as yf"
   ]
  },
  {
   "cell_type": "code",
   "execution_count": null,
   "metadata": {},
   "outputs": [],
   "source": [
    "df = yf.download('AAPL')"
   ]
  },
  {
   "cell_type": "code",
   "execution_count": null,
   "metadata": {},
   "outputs": [],
   "source": [
    "buyandhold.bnh(df,\"Close\",\"20140101\",\"20230412\")"
   ]
  }
 ],
 "metadata": {
  "kernelspec": {
   "display_name": "base",
   "language": "python",
   "name": "python3"
  },
  "language_info": {
   "codemirror_mode": {
    "name": "ipython",
    "version": 3
   },
   "file_extension": ".py",
   "mimetype": "text/x-python",
   "name": "python",
   "nbconvert_exporter": "python",
   "pygments_lexer": "ipython3",
   "version": "3.10.9"
  },
  "orig_nbformat": 4
 },
 "nbformat": 4,
 "nbformat_minor": 2
}
