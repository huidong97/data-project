{
 "cells": [
  {
   "attachments": {},
   "cell_type": "markdown",
   "metadata": {},
   "source": [
    "## 예제\n",
    "1. test_csv폴더에 있는 '유통+업종(백화점,+할인점,+슈퍼마켓,+편의점)+카드소비트렌드+데이터_1901_2109'파일을 로드\n",
    "2. 각 컬럼의 이름을['기준연월', '업종', '성별', '연령대', '총이용건수', '총이용금액']\n",
    "3. 기준년월을 시계열데이터로 변경\n",
    "4. 성별 컬럼의 데이터를 1은 남자,2는 여자로 변경, 9는 무관\n",
    "5. 남,녀 성별을 기준으로 연도별 건당 이용금액의 평균이 몇인지 출력"
   ]
  },
  {
   "cell_type": "code",
   "execution_count": null,
   "metadata": {},
   "outputs": [],
   "source": [
    "import pandas as pd"
   ]
  },
  {
   "cell_type": "code",
   "execution_count": null,
   "metadata": {},
   "outputs": [],
   "source": [
    "import numpy as np"
   ]
  },
  {
   "cell_type": "code",
   "execution_count": null,
   "metadata": {},
   "outputs": [],
   "source": [
    "test = pd.read_csv(\"../test_csv/유통+업종(백화점,+할인점,+슈퍼마켓,+편의점)+카드소비트렌드+데이터_1901_2109.csv\",encoding='euc-kr')"
   ]
  },
  {
   "cell_type": "code",
   "execution_count": null,
   "metadata": {},
   "outputs": [],
   "source": [
    "test.columns = ['기준연월', '업종', '성별', '연령대', '총이용건수', '총이용금액']"
   ]
  },
  {
   "cell_type": "code",
   "execution_count": null,
   "metadata": {},
   "outputs": [],
   "source": [
    "# 판다스에서 지수표현 없애기\n",
    "pd.options.display.float_format = '{:2f}'.format"
   ]
  },
  {
   "cell_type": "code",
   "execution_count": null,
   "metadata": {},
   "outputs": [],
   "source": [
    "test.head(3)"
   ]
  },
  {
   "cell_type": "code",
   "execution_count": null,
   "metadata": {},
   "outputs": [],
   "source": [
    "# 기준년월 데이터를 시계열데이터로 변경\n",
    "\n",
    "test['기준연월'] = pd.to_datetime(test['기준연월'],format='%Y%m') #시계열 데이터는 일정한 시간 간격으로 순차적으로 기록된 관측 데이터다\n",
    "                                                             # format뒤에는 기존의 데이터가 가지고있는 시간을 기록해주면된다 여기는 년,월까지\n",
    "                                                             # 나와있으니까, Y,m 까지 써주는 거고 뒤에 더 나온다면 시,분,초등으로 나간다.\n",
    "                                                             # 즉 이 함수는 기존 데이터를 시계열데이터로 변경해주는 함수이다. "
   ]
  },
  {
   "cell_type": "code",
   "execution_count": null,
   "metadata": {},
   "outputs": [],
   "source": [
    "test.info()"
   ]
  },
  {
   "cell_type": "code",
   "execution_count": null,
   "metadata": {},
   "outputs": [],
   "source": [
    "# 인덱스를 기준년월로 설정\n",
    "test.set_index('기준연월', inplace=True)"
   ]
  },
  {
   "cell_type": "code",
   "execution_count": null,
   "metadata": {},
   "outputs": [],
   "source": [
    "#연령대별 데이터\n",
    "test['연령대'].value_counts()"
   ]
  },
  {
   "cell_type": "code",
   "execution_count": null,
   "metadata": {},
   "outputs": [],
   "source": [
    "#성별 컬럼에서 1은 남자 2는 연자 9는 무관\n",
    "\n",
    "#case1\n",
    "def change(x):\n",
    "    if x == 1:\n",
    "        result = '남자'\n",
    "    elif x == 2:\n",
    "        result = '여자'\n",
    "    elif x == 9:\n",
    "        result = '무관'\n",
    "    else:\n",
    "        result = '-'\n",
    "    return result\n",
    "\n",
    "test['성별'].apply(change).value_counts"
   ]
  },
  {
   "cell_type": "code",
   "execution_count": null,
   "metadata": {},
   "outputs": [],
   "source": [
    "#case2\n",
    "test.loc[test['성별'] == 1,'성별'] = '남자'\n",
    "test.loc[test['성별'] == 2,'성별'] = '여자'\n",
    "test.loc[test['성별'] == 9,'성별'] = '무관'\n",
    "test.head(6)"
   ]
  },
  {
   "cell_type": "code",
   "execution_count": null,
   "metadata": {},
   "outputs": [],
   "source": [
    "#case3\n",
    "test['성별'].apply(lambda x : '남자' if (x==1)else('여자' if(x==2) else'무관'))"
   ]
  },
  {
   "cell_type": "code",
   "execution_count": null,
   "metadata": {},
   "outputs": [],
   "source": [
    "#case4\n",
    "test['성별'].replace(\n",
    "    {\n",
    "    1 : '남자',\n",
    "    2 : '여자',\n",
    "    9 : '무관'\n",
    "    }\n",
    ")"
   ]
  },
  {
   "cell_type": "code",
   "execution_count": null,
   "metadata": {},
   "outputs": [],
   "source": [
    "#연도 파생변수 생성\n",
    "test['연도'] = test.index.strftime('%Y')"
   ]
  },
  {
   "cell_type": "code",
   "execution_count": null,
   "metadata": {},
   "outputs": [],
   "source": [
    "test.head()"
   ]
  },
  {
   "cell_type": "code",
   "execution_count": null,
   "metadata": {},
   "outputs": [],
   "source": [
    "# 건당 이용금액 파생변수 생성\n",
    "# 총이용금액 / 총이용건수\n",
    "test['연도별 건당 이용금액'] = (test['총이용금액']/test['총이용건수'])\n",
    "test.head(6) "
   ]
  },
  {
   "cell_type": "code",
   "execution_count": null,
   "metadata": {},
   "outputs": [],
   "source": [
    "import matplotlib.pyplot as plt"
   ]
  },
  {
   "cell_type": "code",
   "execution_count": null,
   "metadata": {},
   "outputs": [],
   "source": [
    "import platform"
   ]
  },
  {
   "cell_type": "code",
   "execution_count": null,
   "metadata": {},
   "outputs": [],
   "source": [
    "# 그래프에서 한글 깨짐 방지 - mac인경우\n",
    "if platform.system() == 'Darwin':\n",
    "    plt.rc('font',family = 'AppleGothic')\n",
    "else:\n",
    "    plt.rc('font',family = 'Malgun Gothic')    \n",
    "        "
   ]
  },
  {
   "cell_type": "code",
   "execution_count": null,
   "metadata": {},
   "outputs": [],
   "source": [
    "(test[['연도', '성별', '연도별 건당 이용금액']].groupby(['연도','성별']).mean()).plot.bar()"
   ]
  },
  {
   "cell_type": "code",
   "execution_count": null,
   "metadata": {},
   "outputs": [],
   "source": [
    "pivot = pd.pivot_table(\n",
    "    test,\n",
    "    index='연도',\n",
    "    columns='성별',\n",
    "    aggfunc='mean',\n",
    "    values='연도별 건당 이용금액'\n",
    ")"
   ]
  },
  {
   "cell_type": "code",
   "execution_count": null,
   "metadata": {},
   "outputs": [],
   "source": [
    "pivot.plot.bar()"
   ]
  },
  {
   "attachments": {},
   "cell_type": "markdown",
   "metadata": {},
   "source": [
    "###온라인 카드 매출과 오프라인 카드 매출을 월별로 비교\n",
    "1. 오프라인 데이터 df를 월별로 그룹화 총이용금액의 합계\n",
    "  - 인덱스는 기준년월을 시계열로 변경한 데이터로 설정\n",
    "2. 온라인 데이터 test_online도 월별로 그룹화 총이용금액의 합계\n",
    "  - 인덱스는 기준년월을 시계열데이터로 변경하여 설정"
   ]
  },
  {
   "cell_type": "code",
   "execution_count": null,
   "metadata": {},
   "outputs": [],
   "source": [
    "group_data = test.groupby('기준연월').sum()['총이용금액']"
   ]
  },
  {
   "cell_type": "code",
   "execution_count": null,
   "metadata": {},
   "outputs": [],
   "source": [
    "test_online = pd.read_csv(\"../test_csv/온라인+카드소비트렌드+데이터_1901_2109.csv\")"
   ]
  },
  {
   "cell_type": "code",
   "execution_count": null,
   "metadata": {},
   "outputs": [],
   "source": [
    "test_online.head(5)"
   ]
  },
  {
   "cell_type": "code",
   "execution_count": null,
   "metadata": {},
   "outputs": [],
   "source": [
    "# 컬럼의 이름을 변경\n",
    "test_online.columns = ['기준연월','성별','연령대','총이용건수','총이용금액']"
   ]
  },
  {
   "cell_type": "code",
   "execution_count": null,
   "metadata": {},
   "outputs": [],
   "source": [
    "test_online.head(5)"
   ]
  },
  {
   "cell_type": "code",
   "execution_count": null,
   "metadata": {},
   "outputs": [],
   "source": [
    "# 기준연월을 시계열로 변경하고 인덱스로 설정 -> 시계열 데이터는 작성하고 난다음에 꼭 저장을 해줘야 한다. \n",
    "# 기준연월을 시계열로 변경하고 인덱스로 설정 -> pd다음에 적고 변수에 저장을 시켜주지 않으면 시계열데이터로 변경한 정보가 저장이 되지 않는다\n",
    "test_online['기준연월'] = pd.to_datetime(test_online['기준연월'],format='%Y%m')"
   ]
  },
  {
   "cell_type": "code",
   "execution_count": null,
   "metadata": {},
   "outputs": [],
   "source": [
    "test_online.set_index('기준연월',inplace=True)"
   ]
  },
  {
   "cell_type": "code",
   "execution_count": null,
   "metadata": {},
   "outputs": [],
   "source": [
    "#그룹화\n",
    "group_data2 = test_online.groupby('기준연월').sum()['총이용금액']"
   ]
  },
  {
   "cell_type": "code",
   "execution_count": null,
   "metadata": {},
   "outputs": [],
   "source": [
    "group_data2"
   ]
  },
  {
   "cell_type": "code",
   "execution_count": null,
   "metadata": {},
   "outputs": [],
   "source": [
    "# 그래프로 시각화\n",
    "\n",
    "# 그래프의 사이즈 변경\n",
    "plt.figure(figsize= (14, 6))\n",
    "\n",
    "# grid 추가\n",
    "plt.grid(True, axis = 'y')\n",
    "\n",
    "plt.plot(group_data, label = '오프라인')\n",
    "plt.plot(group_data2, label = '온라인')\n",
    "plt.title('온라인/오프라인 카드매출 비교')\n",
    "plt.legend()\n",
    "plt.show()"
   ]
  },
  {
   "cell_type": "code",
   "execution_count": 319,
   "metadata": {},
   "outputs": [],
   "source": [
    "test_online['업종'] = '온라인'"
   ]
  },
  {
   "cell_type": "code",
   "execution_count": 320,
   "metadata": {},
   "outputs": [
    {
     "data": {
      "text/html": [
       "<div>\n",
       "<style scoped>\n",
       "    .dataframe tbody tr th:only-of-type {\n",
       "        vertical-align: middle;\n",
       "    }\n",
       "\n",
       "    .dataframe tbody tr th {\n",
       "        vertical-align: top;\n",
       "    }\n",
       "\n",
       "    .dataframe thead th {\n",
       "        text-align: right;\n",
       "    }\n",
       "</style>\n",
       "<table border=\"1\" class=\"dataframe\">\n",
       "  <thead>\n",
       "    <tr style=\"text-align: right;\">\n",
       "      <th></th>\n",
       "      <th>성별</th>\n",
       "      <th>연령대</th>\n",
       "      <th>총이용건수</th>\n",
       "      <th>총이용금액</th>\n",
       "      <th>업종</th>\n",
       "    </tr>\n",
       "    <tr>\n",
       "      <th>기준연월</th>\n",
       "      <th></th>\n",
       "      <th></th>\n",
       "      <th></th>\n",
       "      <th></th>\n",
       "      <th></th>\n",
       "    </tr>\n",
       "  </thead>\n",
       "  <tbody>\n",
       "    <tr>\n",
       "      <th>2019-01-01</th>\n",
       "      <td>1</td>\n",
       "      <td>1</td>\n",
       "      <td>1</td>\n",
       "      <td>110685</td>\n",
       "      <td>온라인</td>\n",
       "    </tr>\n",
       "    <tr>\n",
       "      <th>2019-01-01</th>\n",
       "      <td>1</td>\n",
       "      <td>10</td>\n",
       "      <td>2333</td>\n",
       "      <td>98108225</td>\n",
       "      <td>온라인</td>\n",
       "    </tr>\n",
       "    <tr>\n",
       "      <th>2019-01-01</th>\n",
       "      <td>1</td>\n",
       "      <td>20</td>\n",
       "      <td>272915</td>\n",
       "      <td>13854081656</td>\n",
       "      <td>온라인</td>\n",
       "    </tr>\n",
       "    <tr>\n",
       "      <th>2019-01-01</th>\n",
       "      <td>1</td>\n",
       "      <td>30</td>\n",
       "      <td>1320227</td>\n",
       "      <td>82946127640</td>\n",
       "      <td>온라인</td>\n",
       "    </tr>\n",
       "    <tr>\n",
       "      <th>2019-01-01</th>\n",
       "      <td>1</td>\n",
       "      <td>40</td>\n",
       "      <td>1372052</td>\n",
       "      <td>95550848337</td>\n",
       "      <td>온라인</td>\n",
       "    </tr>\n",
       "  </tbody>\n",
       "</table>\n",
       "</div>"
      ],
      "text/plain": [
       "            성별  연령대    총이용건수        총이용금액   업종\n",
       "기준연월                                          \n",
       "2019-01-01   1    1        1       110685  온라인\n",
       "2019-01-01   1   10     2333     98108225  온라인\n",
       "2019-01-01   1   20   272915  13854081656  온라인\n",
       "2019-01-01   1   30  1320227  82946127640  온라인\n",
       "2019-01-01   1   40  1372052  95550848337  온라인"
      ]
     },
     "execution_count": 320,
     "metadata": {},
     "output_type": "execute_result"
    }
   ],
   "source": [
    "test_online.head()"
   ]
  },
  {
   "cell_type": "code",
   "execution_count": 322,
   "metadata": {},
   "outputs": [],
   "source": [
    "total_test = pd.concat([test,test_online],axis=0)"
   ]
  },
  {
   "cell_type": "code",
   "execution_count": 323,
   "metadata": {},
   "outputs": [
    {
     "data": {
      "text/plain": [
       "편의점     667\n",
       "백화점     664\n",
       "슈퍼마켓    663\n",
       "할인점     654\n",
       "온라인     651\n",
       "Name: 업종, dtype: int64"
      ]
     },
     "execution_count": 323,
     "metadata": {},
     "output_type": "execute_result"
    }
   ],
   "source": [
    "total_test['업종'].value_counts()"
   ]
  }
 ],
 "metadata": {
  "kernelspec": {
   "display_name": "base",
   "language": "python",
   "name": "python3"
  },
  "language_info": {
   "codemirror_mode": {
    "name": "ipython",
    "version": 3
   },
   "file_extension": ".py",
   "mimetype": "text/x-python",
   "name": "python",
   "nbconvert_exporter": "python",
   "pygments_lexer": "ipython3",
   "version": "3.10.9"
  },
  "orig_nbformat": 4
 },
 "nbformat": 4,
 "nbformat_minor": 2
}
