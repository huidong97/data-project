{
 "cells": [
  {
   "cell_type": "code",
   "execution_count": null,
   "metadata": {},
   "outputs": [],
   "source": [
    "#변수 선언과 동시에 값을 할당\n",
    "a = 10\n",
    "b = \"test\"\n",
    "\n",
    "#두 변수를 출력\n",
    "print(a)\n",
    "print(b)\n",
    "print(type(a))\n",
    "print(type(b))"
   ]
  },
  {
   "cell_type": "code",
   "execution_count": null,
   "metadata": {},
   "outputs": [],
   "source": [
    "#산술 연산자\n",
    "x = 7\n",
    "y = 3\n",
    "print(x+y, x-y, x/y, x//y, x**y)"
   ]
  },
  {
   "cell_type": "code",
   "execution_count": null,
   "metadata": {},
   "outputs": [],
   "source": [
    "#대입 연산자\n",
    "# +=, -=, *=, /=, //=, %=, **=\n",
    "#산술 연산자와의 차이는 기준이 되는 변수의 데이터를 변경\n",
    "print(x)  # 7이 출력이 된다\n",
    "x =+ 1    # x = x+1\n",
    "print(x)  # 8이 출력\n",
    "x -= 3    # x = x-3\n",
    "print(x)  # 5가 출력\n",
    "x *= 2    # x = x*2\n",
    "print(x)  # 10이 출력\n",
    "x /= 3    # x = x/3\n",
    "print(x)  # 3.333333333...출력\n",
    "print(x + 2) #5.33333...출력"
   ]
  },
  {
   "cell_type": "code",
   "execution_count": null,
   "metadata": {},
   "outputs": [],
   "source": [
    "#비교 연산자\n",
    "#데이터의 비교를 하여 논리값을 출력\n",
    "#논라값 bool의 형태(true, false)\n",
    "x=7\n",
    "y=3\n",
    "\n",
    "print(x == y)\n",
    "print(x != y)\n",
    "print(x > y)\n",
    "print(x < y)\n",
    "print(x >= y)\n",
    "print(x <= y)"
   ]
  },
  {
   "cell_type": "code",
   "execution_count": null,
   "metadata": {},
   "outputs": [],
   "source": [
    "#or : 두 조건중 하나만 참이면, 참을 출력, 두 조건이 모두 거짓인 경우에만 거짓을 출력\n",
    "print(True or True)\n",
    "print(True or False)\n",
    "print(False or False)"
   ]
  },
  {
   "cell_type": "code",
   "execution_count": null,
   "metadata": {},
   "outputs": [],
   "source": [
    "# not :  true는 "
   ]
  },
  {
   "attachments": {},
   "cell_type": "markdown",
   "metadata": {},
   "source": [
    "-if문\n",
    "1. if뒤의 조건식이 참인 경우 코드가 실행 된다\n",
    "2. 조건식이 거짓인 경우에는 코드가 실행되지 않는다\n",
    "3. 거짓인 경우 코드를 실핼하려면 else의 구문이 필요하다\n",
    "4. 조건식이 여러개 인 경우에는 elif조건식의 형태로 구문을 만들어준다"
   ]
  },
  {
   "cell_type": "code",
   "execution_count": null,
   "metadata": {},
   "outputs": [],
   "source": [
    "a = 5\n",
    "#a가 10보다 작은 경우에는 첫 번째 print를 실행\n",
    "#a가 10보다 크거나 같은 경우에는 첫번째 print를 실행하지 않는다\n",
    "if a<10:\n",
    "    print(\"a는 10보다 작다\")  #파이썬은 들여쓰기가 중요, 같은 라인에 있지않은 두문장은 독립적인 관계\n",
    "    \n",
    "print(\"프로그램 종료\")"
   ]
  },
  {
   "cell_type": "code",
   "execution_count": null,
   "metadata": {},
   "outputs": [],
   "source": [
    "# if ~ else문\n",
    "a = 10000\n",
    "\n",
    "if a<10:\n",
    "    print(\"a는 10보다 작다\")\n",
    "else:\n",
    "    print(\"a는 10보다 크거나 같다\") \n",
    "\n",
    "print(\"프로그램 종료\")       "
   ]
  },
  {
   "cell_type": "code",
   "execution_count": null,
   "metadata": {},
   "outputs": [],
   "source": [
    "#다중 if문\n",
    "score = int(input(\"정수를 입력하시오: \"))\n",
    "\n",
    "if score >= 90:\n",
    "    print(\"A\")\n",
    "elif score >= 80:\n",
    "    print(\"B\")\n",
    "elif score >= 70:\n",
    "    print(\"C\")\n",
    "else:\n",
    "    print(\"F\")\n",
    "\n",
    "print(\"프로그램 종료\")                "
   ]
  },
  {
   "attachments": {},
   "cell_type": "markdown",
   "metadata": {},
   "source": [
    "반복문"
   ]
  },
  {
   "cell_type": "code",
   "execution_count": null,
   "metadata": {},
   "outputs": [],
   "source": [
    "# range(시작값, 종료값, 증가값)\n",
    "print(list(range(1,11,2)))"
   ]
  },
  {
   "cell_type": "code",
   "execution_count": null,
   "metadata": {},
   "outputs": [],
   "source": [
    "#for문, 어디까지 들여쓰기를 할것인지 잘 판단해야함\n",
    "for i in range(1,11,1):\n",
    "    print(i)\n",
    "print(\"프로그램 종료\")    "
   ]
  },
  {
   "cell_type": "code",
   "execution_count": null,
   "metadata": {},
   "outputs": [],
   "source": [
    "for i in range(10):\n",
    "    print(i)"
   ]
  },
  {
   "cell_type": "code",
   "execution_count": null,
   "metadata": {},
   "outputs": [],
   "source": [
    "for i in range(10,1,-2):\n",
    "    print(i)"
   ]
  },
  {
   "cell_type": "code",
   "execution_count": null,
   "metadata": {},
   "outputs": [],
   "source": [
    "#1부터 10까지의 합계를 구하시오\n",
    "#10번 반복\n",
    "\n",
    "#초기의 합계 값 지정\n",
    "result = 0\n",
    "\n",
    "#반복문 시작\n",
    "for i in range(1,11,1):\n",
    "    #합계 값에 1을 더해준다\n",
    "    result += i\n",
    "\n",
    "print(result)"
   ]
  },
  {
   "cell_type": "code",
   "execution_count": null,
   "metadata": {},
   "outputs": [],
   "source": [
    "#1부터 50까지의 합계를 구한다.\n",
    "#1부터 50까지 짝수의 합계만 구하는 방법은?\n",
    "#case 1(for문)\n",
    "result = 0\n",
    "for i in range(2,51,2):\n",
    "    result += i\n",
    "\n",
    "print(result)\n",
    "#case 2(for문 if문)\n",
    "result = 0\n",
    "for i in range(1,51,1):\n",
    "    #짝수의 조건: 나눠서 나머지가 0 인경우\n",
    "    if i % 2 == 0:\n",
    "        result += i\n",
    "print(result)        "
   ]
  },
  {
   "cell_type": "code",
   "execution_count": null,
   "metadata": {},
   "outputs": [],
   "source": [
    "#주사의 2개를 굴려서 두 주사위의 합계가 5의 배수인 경우를 출력하시오\n",
    "#경우의수 : 36번 -> 6번 경우의 수 * 6번 경우의수\n",
    "#다중 for문 + if문\n",
    "for i in range(1,7): #첫번째 주사위의 경우의 수\n",
    "    for j in range(1,7): #두번째 주사위의 경우의 수\n",
    "        if (i+j)%5 == 0: #두 주사위의 합계\n",
    "            print(\"처음 주사위:\",i,\"두번째 주사위:\",j )"
   ]
  },
  {
   "attachments": {},
   "cell_type": "markdown",
   "metadata": {},
   "source": [
    "a**n + b**n = c**n 이 수식에서 n의 값이 2보다 큰 자연수이면 a,b,c의 자연수의 값은 존재하지 않는다\n",
    "n의 값이 3인 경우 a,b,c가 1부터 10까지 이정리가 사실임을 증명하시오"
   ]
  },
  {
   "cell_type": "code",
   "execution_count": null,
   "metadata": {},
   "outputs": [],
   "source": [
    "#1부터 10까지 반복하는 반복문 생성\n",
    "for a in range(1,11,1):\n",
    "    #2. 이러한 반복문 a,b,c 10번씩 반복한다\n",
    "    for b in range(1,11,1):\n",
    "        for c in range(1,11,1):\n",
    "            #1000번을 반복하는 반복문 생성\n",
    "            #조건 생성 -> a**n + b**n = c**n\n",
    "            if a**3 + b**3 == c**3:\n",
    "                print(a,b,c)\n",
    "print(\"페르마의 정리 증명을 종료\")                "
   ]
  },
  {
   "cell_type": "code",
   "execution_count": null,
   "metadata": {},
   "outputs": [],
   "source": [
    "# while문, 순서와 거짓이 되는 조건을 잘 성정하기\n",
    "\n",
    "#초기값 지정\n",
    "i = 0\n",
    "\n",
    "while i < 10:\n",
    "    i += 1\n",
    "    print(i)"
   ]
  },
  {
   "cell_type": "code",
   "execution_count": null,
   "metadata": {},
   "outputs": [],
   "source": [
    "#while 문을 이용하여 1부터 10까지의 합계\n",
    "\n",
    "result = 0\n",
    "i = 1\n",
    "\n",
    "while i <= 10:\n",
    "    i += 1\n",
    "    result += i\n",
    "print(result)    "
   ]
  },
  {
   "cell_type": "code",
   "execution_count": null,
   "metadata": {},
   "outputs": [],
   "source": [
    "#continue ,  break \n",
    "#continue = 반복문으로 돌아간다\n",
    "#break 반복문 종료\n",
    "\n",
    "for i in range(1,11,1):\n",
    "    if i<3:\n",
    "        continue\n",
    "    print(i)"
   ]
  },
  {
   "cell_type": "code",
   "execution_count": null,
   "metadata": {},
   "outputs": [],
   "source": [
    "i = 1 #무한반복문 안 만들려면 거직 조건 잘 넣기\n",
    "while i < 11:\n",
    "    if i == 7:\n",
    "        break\n",
    "    print(i)\n",
    "    i += 1\n"
   ]
  },
  {
   "attachments": {},
   "cell_type": "markdown",
   "metadata": {},
   "source": [
    "- 1부터 1000까지의 합을 구하는데 합계가 900이 넘어가는 최초의 숫자는 무엇인가?\n",
    "1. 합계라는 변수를 하나 지정 0을 대입\n",
    "2. for, while문을 사용하여 1부터 1000까지의 합계를 구하는 반복문 생성\n",
    "3. 합계가 900이 넘어가는 순간 break\n",
    "4. break 당시의 i값을 출력"
   ]
  },
  {
   "cell_type": "code",
   "execution_count": null,
   "metadata": {},
   "outputs": [],
   "source": [
    "#합계 변수를 하나 생성\n",
    "result = 0\n",
    "\n",
    "#for문 \n",
    "for i in range(1, 1001, 1):\n",
    "    result += i\n",
    "    #합계가 900이 넘어가면 반복문 종료\n",
    "    if result > 900:\n",
    "        break\n",
    "\n",
    "print(result)\n",
    "print(i)    "
   ]
  },
  {
   "cell_type": "code",
   "execution_count": null,
   "metadata": {},
   "outputs": [],
   "source": [
    "#while문\n",
    "#합계지정\n",
    "result = 0\n",
    "#초기값 지정\n",
    "i = 1\n",
    "\n",
    "#while문 시작\n",
    "while i <= 1000:\n",
    "    result += i\n",
    "    if result > 900:\n",
    "        break\n",
    "    i += 1\n",
    "\n",
    "print(result)\n",
    "print(i)    "
   ]
  },
  {
   "attachments": {},
   "cell_type": "markdown",
   "metadata": {},
   "source": [
    "튜플"
   ]
  },
  {
   "cell_type": "code",
   "execution_count": null,
   "metadata": {},
   "outputs": [],
   "source": [
    "a = (4,\"hello\")\n",
    "b = (3, 3.14)\n",
    "c = a+b\n",
    "d = a*3\n",
    "print(a)\n",
    "print(b)\n",
    "print(c)\n",
    "print(d)"
   ]
  },
  {
   "cell_type": "code",
   "execution_count": null,
   "metadata": {},
   "outputs": [],
   "source": [
    "#튜플과 같은 여러개의 원소를 담아내고 있는 변수들은 위치 값으로 각각의 원소를 출력할수 있다.\n",
    "print(a[0]) #위치는 0부터 시작한다"
   ]
  },
  {
   "cell_type": "code",
   "execution_count": null,
   "metadata": {},
   "outputs": [],
   "source": [
    "print(a[1][0])"
   ]
  },
  {
   "cell_type": "code",
   "execution_count": null,
   "metadata": {},
   "outputs": [],
   "source": [
    "a = (10,20,30,40,50)\n",
    "#2번째 원소부터 4번째 원소까지 출력\n",
    "print(a[1:4])"
   ]
  },
  {
   "cell_type": "code",
   "execution_count": null,
   "metadata": {},
   "outputs": [],
   "source": [
    "print(a[1:]) #2번째부터 마지막까지 출력\n",
    "print(a[:3]) #처음부터 3번째 항목까지 출력"
   ]
  },
  {
   "attachments": {},
   "cell_type": "markdown",
   "metadata": {},
   "source": [
    "리스트"
   ]
  },
  {
   "cell_type": "code",
   "execution_count": null,
   "metadata": {},
   "outputs": [],
   "source": [
    "a = [20,10,40,30]\n",
    "b = [10,20,30,40]\n",
    "\n",
    "# a리스트의 순서를 오름차순으로 변경\n",
    "a.sort()\n",
    "# b리스트는 순서를 역순으로 변경\n",
    "b.reverse()\n",
    "\n",
    "print(a)\n",
    "print(b)"
   ]
  },
  {
   "cell_type": "code",
   "execution_count": null,
   "metadata": {},
   "outputs": [],
   "source": [
    "# a 리스트에서 마지막 항목 삭제\n",
    "a.pop()\n",
    "# b 리스트에는 22라는 항목을 마지막 항에 추가\n",
    "b.append(22)\n",
    "\n",
    "print(a)\n",
    "print(b)"
   ]
  },
  {
   "cell_type": "code",
   "execution_count": null,
   "metadata": {},
   "outputs": [],
   "source": [
    "x = []\n",
    "for i in range(1,11,1):\n",
    "    x.append(i)\n",
    "print(x)    "
   ]
  },
  {
   "cell_type": "code",
   "execution_count": null,
   "metadata": {},
   "outputs": [],
   "source": [
    "y = [30,20,80,10]\n",
    "\n",
    "for i in y:\n",
    "    print(i)\n",
    "\n",
    "for i in range(0, len(y),1):\n",
    "    print(y[i])    "
   ]
  },
  {
   "attachments": {},
   "cell_type": "markdown",
   "metadata": {},
   "source": [
    "1부터 70까지 숫자들 중에 3의 배수를 리스트의 형태로 만들어서 출력\n",
    "1. 비어있는 리스트를 하나 생성\n",
    "2. 1부터 70까지 반복을 하는 반복문 생성\n",
    "3. 1부터 70까지의 항목들을 비어있는 리스트 추가\n",
    "4. 3의 배수인 값들만 리스트 추가"
   ]
  },
  {
   "cell_type": "code",
   "execution_count": null,
   "metadata": {},
   "outputs": [],
   "source": [
    "# 비어있는 리스트 생성\n",
    "_list = []\n",
    "\n",
    "#1부터 70까지 반복문 생성\n",
    "for i in range(1,71,1):\n",
    "    #1부터 70까지 값들을 리스트에 추가\n",
    "    #3의 배수가되는 조건을 사용\n",
    "    if i % 3 == 0:\n",
    "         _list.append(i)\n",
    "\n",
    "print(_list)"
   ]
  },
  {
   "cell_type": "code",
   "execution_count": null,
   "metadata": {},
   "outputs": [],
   "source": [
    "# while문인 경우\n",
    "# 비어있는 리스트 생성\n",
    "_list = []\n",
    "#초기값 생성\n",
    "i = 1\n",
    "\n",
    "#while문 생성\n",
    "while i<=70:\n",
    "    #비어있는 리스트에 i항목 추가\n",
    "    #3의 배수 조건식을 생성\n",
    "    if i%3 == 0:\n",
    "        _list.append(i)\n",
    "    i += 1\n",
    "\n",
    "print(_list)        "
   ]
  },
  {
   "attachments": {},
   "cell_type": "markdown",
   "metadata": {},
   "source": [
    "딕셔너리"
   ]
  },
  {
   "cell_type": "code",
   "execution_count": null,
   "metadata": {},
   "outputs": [],
   "source": [
    "#사전형 데이터\n",
    "#{key1 : value1, key2 : value2..}\n",
    "dict = {\"name\" : \"test\", \"age\" : 20, \"phone\" : \"01064357618\"}\n",
    "\n",
    "print(dict)"
   ]
  },
  {
   "cell_type": "code",
   "execution_count": null,
   "metadata": {},
   "outputs": [],
   "source": [
    "#test 단어를 출력하려면?\n",
    "print(dict[\"name\"])"
   ]
  },
  {
   "cell_type": "code",
   "execution_count": null,
   "metadata": {},
   "outputs": [],
   "source": [
    "#새로운 키: 벨류를 추가\n",
    "#새로운 키값은 입력\n",
    "dict[\"area\"] = \"seoul\"\n",
    "\n",
    "print(dict)"
   ]
  },
  {
   "cell_type": "code",
   "execution_count": null,
   "metadata": {},
   "outputs": [],
   "source": [
    "#기존의 키 값에 있는 벨류를 수정\n",
    "dict[\"age\"] = 30\n",
    "print(dict)"
   ]
  },
  {
   "cell_type": "code",
   "execution_count": null,
   "metadata": {},
   "outputs": [],
   "source": [
    "# 키 값을 삭제\n",
    "del(dict[\"phone\"])\n",
    "print(dict)"
   ]
  },
  {
   "cell_type": "code",
   "execution_count": null,
   "metadata": {},
   "outputs": [],
   "source": [
    "# DB와 python을 연동하여 데이터를 받으면\n",
    "# 데이터의 형태[{},{}]\n",
    "\n",
    "test_data = [\n",
    "    {\n",
    "        \"name\": \"test\",\n",
    "        \"age\" : 20\n",
    "    },\n",
    "    {\n",
    "        \"name\" : \"test2\",\n",
    "        \"age\" : 30\n",
    "    },\n",
    "    {\n",
    "        \"name\" : \"test3\",\n",
    "        \"age\" : 25\n",
    "    }\n",
    "]"
   ]
  },
  {
   "cell_type": "code",
   "execution_count": null,
   "metadata": {},
   "outputs": [],
   "source": [
    "#test_data에서 \"test2\"라는 항목을 출력하러면?\n",
    "print(test_data[1])\n",
    "print(test_data[1][\"name\"])"
   ]
  },
  {
   "attachments": {},
   "cell_type": "markdown",
   "metadata": {},
   "source": [
    "test_data에서 연령대가 20대인 사람의 이름을 리스트로 출력하시오\n",
    "1. 비어있는 리스트를 생성\n",
    "2. test_data의 항목들을 반복문을 이용하여 출력\n",
    "3. 각 항목들의 나이를 출력\n",
    "4. 조건을 생성하여 연령대가 20대인 항목을 출력\n",
    "5. 20대인 항목에서 이름의 값만 출력\n",
    "6. 해당하는 이름들을 리스트에 추가"
   ]
  },
  {
   "cell_type": "code",
   "execution_count": null,
   "metadata": {},
   "outputs": [],
   "source": [
    "#비어있는 리스트 생성\n",
    "_list = []\n",
    "\n",
    "for i in range(0, len(test_data),1):\n",
    "    #연령대가 20대인 조건 생성\n",
    "    #나이가 20 이상 '그리고' 30 미만인 경우\n",
    "    if test_data[i][\"age\"] >= 20 and test_data[i][\"age\"] <30:\n",
    "        # print(test_data[i][\"name\"])\n",
    "        _list.append(test_data[i][\"name\"])\n",
    "    # print(test_data[i][\"age\"])\n",
    "\n",
    "print(_list)\n"
   ]
  },
  {
   "cell_type": "code",
   "execution_count": null,
   "metadata": {},
   "outputs": [],
   "source": [
    "_list = []\n",
    "for i in test_data:\n",
    "    if i [\"age\"] >= 20 and i[\"age\"] < 30:\n",
    "        _list.append(i[\"name\"])\n",
    "print(_list)        "
   ]
  },
  {
   "attachments": {},
   "cell_type": "markdown",
   "metadata": {},
   "source": [
    "함수"
   ]
  },
  {
   "cell_type": "code",
   "execution_count": null,
   "metadata": {},
   "outputs": [],
   "source": [
    "a = \"hello\"\n",
    "print(a)"
   ]
  },
  {
   "cell_type": "code",
   "execution_count": null,
   "metadata": {},
   "outputs": [],
   "source": [
    "#문자의 길이를 출력해주는 함수\n",
    "print(len(a))"
   ]
  },
  {
   "cell_type": "code",
   "execution_count": null,
   "metadata": {},
   "outputs": [],
   "source": [
    "#문자를 대문자나 소문자로 변경을 해주는 함수\n",
    "\n",
    "#문자를 모두 대문자로 변경\n",
    "print(a.upper())\n",
    "#문자를 모두 소문자로 변경\n",
    "print(a.lower())"
   ]
  },
  {
   "cell_type": "code",
   "execution_count": null,
   "metadata": {},
   "outputs": [],
   "source": [
    "b = \"hello world\"\n",
    "#단어의 첫글자만 대문자로 변경 함수\n",
    "print(b.title())"
   ]
  },
  {
   "cell_type": "code",
   "execution_count": null,
   "metadata": {},
   "outputs": [],
   "source": [
    "#좌우의 공백을 제거하는 함수\n",
    "#strip()\n",
    "a = \"    hello world   \"\n",
    "a"
   ]
  },
  {
   "cell_type": "code",
   "execution_count": null,
   "metadata": {},
   "outputs": [],
   "source": [
    "#좌우 모두 공백을 제거   \n",
    "a.strip()"
   ]
  },
  {
   "cell_type": "code",
   "execution_count": null,
   "metadata": {},
   "outputs": [],
   "source": [
    "#좌측 공백만 제거\n",
    "a.lstrip()"
   ]
  },
  {
   "cell_type": "code",
   "execution_count": null,
   "metadata": {},
   "outputs": [],
   "source": [
    "#우측 공백만 제거   #왜 한쪽 공백만 제거를 할까? , 모든 것에는 이유가 다 있다.\n",
    "a.rstrip()"
   ]
  },
  {
   "cell_type": "code",
   "execution_count": null,
   "metadata": {},
   "outputs": [],
   "source": [
    "b = \"$2.$11$\""
   ]
  },
  {
   "cell_type": "code",
   "execution_count": null,
   "metadata": {},
   "outputs": [],
   "source": [
    "#b라는 변수에 있는 \"$\" 표시를 제거 , 한쪽이나 양쪽의 특정한 문자를 벗겨낼수 있다\n",
    "b.lstrip(\"$\")"
   ]
  },
  {
   "cell_type": "code",
   "execution_count": null,
   "metadata": {},
   "outputs": [],
   "source": [
    "#사이에 있는 거는 벗겨내기로 제거 불가\n",
    "b.rstrip(\"$\")"
   ]
  },
  {
   "cell_type": "code",
   "execution_count": null,
   "metadata": {},
   "outputs": [],
   "source": [
    "#특정한 단어를 대체하는 함수\n",
    "# replace(기준 단어, 대체할 단어)\n",
    "# b 변수의 \"$\" 표기를 \"-\"로 변경\n",
    "b.replace(\"$\", \"-\")"
   ]
  },
  {
   "cell_type": "code",
   "execution_count": null,
   "metadata": {},
   "outputs": [],
   "source": [
    "#b 변수의 \"$\"표기를 삭제하려면?\n",
    "b.replace(\"$\",\"\")"
   ]
  },
  {
   "cell_type": "code",
   "execution_count": null,
   "metadata": {},
   "outputs": [],
   "source": [
    "#a 변수의 공백을 모두 삭제하려면?\n",
    "a.replace(\"\",\"\")"
   ]
  },
  {
   "cell_type": "code",
   "execution_count": null,
   "metadata": {},
   "outputs": [],
   "source": [
    "#문자열을 특정한 값을 기준으로 나눠주는 함수\n",
    "#split(특정한 값) -> 인자 값을 아무것도 넣지 않으면 \"\"을 기준으로 나눠준다\n",
    "a = \"1,2,3,4,5\"\n",
    "b = \"1 2 3 4 5\"\n",
    "\n",
    "print(a.split(\",\"))"
   ]
  },
  {
   "cell_type": "code",
   "execution_count": null,
   "metadata": {},
   "outputs": [],
   "source": [
    "#공백을 기준으로 잘라줌\n",
    "print(b.split())"
   ]
  },
  {
   "cell_type": "code",
   "execution_count": null,
   "metadata": {},
   "outputs": [],
   "source": [
    "print(a.split(\",\")[2])"
   ]
  },
  {
   "cell_type": "code",
   "execution_count": null,
   "metadata": {},
   "outputs": [],
   "source": [
    "# max() -> 인자값들 중에 가장 큰 숫자를 출력\n",
    "# min() -> 인자 값들 중에 가장 작은 숫자를 출력\n",
    "print(max(1,6,3,4))\n",
    "print(min(1,6,3,4))"
   ]
  },
  {
   "cell_type": "code",
   "execution_count": null,
   "metadata": {},
   "outputs": [],
   "source": [
    "# 일반함수\n",
    "\n",
    "#매개변수가 존재하지 않는 경우\n",
    "#함수 선언, 생성\n",
    "def func_1():\n",
    "    return \"hello\"\n",
    "\n",
    "#함수를 호출\n",
    "print(func_1())"
   ]
  },
  {
   "cell_type": "code",
   "execution_count": null,
   "metadata": {},
   "outputs": [],
   "source": [
    "#매개변수가 존재하는 경우\n",
    "def func_2(a,b):\n",
    "    c = a + b\n",
    "    return c\n",
    "\n",
    "print(func_2(3,6)) #9 출력\n",
    "print(func_2(1,2)) #3 출력\n",
    "print(func_2(\"hello\",\"world\")) #helloworld 출력"
   ]
  },
  {
   "cell_type": "code",
   "execution_count": null,
   "metadata": {},
   "outputs": [],
   "source": [
    "#함수의 매개변수의 개수와 호출할때 인자의 개수가 다르면? 에러 메세지를 잘 확인하면 어디가 잘못되었는지 쉽게 알수있다. 에러 메세지를 잘 살펴보는 것이 중요하다\n",
    "func_2(4)"
   ]
  },
  {
   "cell_type": "code",
   "execution_count": null,
   "metadata": {},
   "outputs": [],
   "source": [
    "func_2(1,2,3) #에러코드를 두고 잘 읽어보고 확인 하는것이 중요"
   ]
  },
  {
   "cell_type": "code",
   "execution_count": null,
   "metadata": {},
   "outputs": [],
   "source": [
    "def func_3(a,b):\n",
    "    c = 10\n",
    "    result = a + b -10\n",
    "    print(c) #지역 변수\n",
    "    return result\n",
    "\n",
    "print(func_3(3,5))\n",
    " # print(c)"
   ]
  },
  {
   "attachments": {},
   "cell_type": "markdown",
   "metadata": {},
   "source": [
    "- 전역 변수\n",
    "   1. 어디서든 사용이 가능한 변수\n",
    "   2. 들여쓰기를 하지 않은 공간에서 생성한 변수\n",
    "- 지역 변수\n",
    "   1. 특정한 구간에서만 사용이 가능한 변수\n",
    "   2. 들여쓰기가 된 공간에서 생성한 변수\n",
    "   3. 함수 안에서 만들어진 변수, 클래스 안에서 만들어진 변수"
   ]
  },
  {
   "cell_type": "code",
   "execution_count": null,
   "metadata": {},
   "outputs": [],
   "source": [
    "x = 3\n",
    "\n",
    "def func_4(a):\n",
    "    result = a*x\n",
    "    return result\n",
    "\n",
    "print(func_4(5))\n",
    "\n",
    "#x는 전역변수\n",
    "#a는 매개변수(지역변수)"
   ]
  },
  {
   "cell_type": "code",
   "execution_count": null,
   "metadata": {},
   "outputs": [],
   "source": [
    "# 매개변수의 기본값 설정 \n",
    "def func_5(a,b,c = 2):\n",
    "    result = a+b-c\n",
    "    return result\n",
    "\n",
    "print(func_5(5,4,3), end=\"/\")\n",
    "print(func_5(5,4))\n",
    "print(func_5(c=5,a=3,b=1))"
   ]
  },
  {
   "cell_type": "code",
   "execution_count": null,
   "metadata": {},
   "outputs": [],
   "source": [
    "#c의 값이 1이면 a와 b의 합계 return\n",
    "#c의 값이 2이면 a와 b의 차이 retrun\n",
    "#c가 그 외의 데이터이면 \"c의 값이 잘못되었습니다\" return\n",
    "#return은 여러번 써도 되지만 한번만 쓰는게 보기에 깔끔하다. 변수로 처리하는것이 깔끔\n",
    "def func_6(a,b,c):\n",
    "    #c가 1인 경우\n",
    "    if c == 1:\n",
    "        #a와 b의 합계를 return\n",
    "        # return a+b\n",
    "        result = a+b\n",
    "    # c가 1이 아니고 2인 경우\n",
    "    elif c == 2:\n",
    "        #a와b의 차이를 return\n",
    "        # return a-b\n",
    "        result = a-b\n",
    "    #c가 그 외의 데이터이면\n",
    "    else:\n",
    "        #return \"c의 값이 잘못되었습니다\"\n",
    "        result = \"c의 값이 잘못되었습니다\"\n",
    "\n",
    "    return result    \n",
    "    \n",
    "print(func_6(5,3,1))\n",
    "print(func_6(5,3,2))\n",
    "print(func_6(5,3,3))    "
   ]
  },
  {
   "cell_type": "code",
   "execution_count": null,
   "metadata": {},
   "outputs": [],
   "source": [
    "# 반복문\n",
    "for i in range(1,11,1):\n",
    "    print(i)"
   ]
  },
  {
   "cell_type": "code",
   "execution_count": null,
   "metadata": {},
   "outputs": [],
   "source": [
    "_list = [10,20,30,40]\n",
    "for i in _list:\n",
    "    print(i)"
   ]
  },
  {
   "cell_type": "code",
   "execution_count": null,
   "metadata": {},
   "outputs": [],
   "source": [
    "for i in range(0,len(_list),1):\n",
    "    print(_list[i])"
   ]
  },
  {
   "attachments": {},
   "cell_type": "markdown",
   "metadata": {},
   "source": [
    "예제 문제 - 실제 프로젝트 시에 마지막을 보고하면 코드를 못그림 순차적으로 아래처럼 로드맵을 짜야함\n",
    "1. 함수 생성(매개변수 2개 : _min,_max)\n",
    "2. _min부터 _max까지 합계를 출력하는 함수\n",
    "  1. 함수 생성 매개변수 2개를 넣어서 생성\n",
    "  2. 매개변수 2개가 print() 함수를 이용해서 출력\n",
    "  3. 함수 안에 반복문을 생성 _min부터 _max까지 반복해서 i 값을 출력\n",
    "  4. 합계라는 변수를 하나 생성 0 대입\n",
    "  5. 반복문에서 i값을 합계라는 변수에 플러스\n",
    "  6. 합계 리턴"
   ]
  },
  {
   "cell_type": "code",
   "execution_count": null,
   "metadata": {},
   "outputs": [],
   "source": [
    "# 이거는 내가 짠 코드 합계가 안나옴\n",
    "def func_1(_min,_max):\n",
    "    for i in range(_min,_max):\n",
    "        result = 0\n",
    "        result += i\n",
    "    return result \n",
    "    \n",
    "\n",
    "print(func_1(0,7))"
   ]
  },
  {
   "cell_type": "code",
   "execution_count": null,
   "metadata": {},
   "outputs": [],
   "source": [
    "def func_7(_min,_max):\n",
    "    print(_min)\n",
    "    print(_max)\n",
    "    result = 0\n",
    "    # _max가 _min보다 큰 경우\n",
    "    if _min < _max:\n",
    "        for i in range(_min,_max+1):\n",
    "           # print(i)\n",
    "           result += i\n",
    "    else:\n",
    "        for i in range(_max,_min+1):\n",
    "           result += i       \n",
    "    return result    "
   ]
  },
  {
   "cell_type": "code",
   "execution_count": null,
   "metadata": {},
   "outputs": [],
   "source": [
    "print(func_7(1,10))\n",
    "print(func_7(10,1))"
   ]
  },
  {
   "cell_type": "code",
   "execution_count": null,
   "metadata": {},
   "outputs": [],
   "source": [
    "def func_8(_min,_max):\n",
    "    result = 0\n",
    "    for i in range(min(_min,_max),max(_min,_max)+1):\n",
    "        result += i\n",
    "    return result    "
   ]
  },
  {
   "cell_type": "code",
   "execution_count": null,
   "metadata": {},
   "outputs": [],
   "source": [
    "print(func_8(1,10))\n",
    "print(func_8(10,1))"
   ]
  },
  {
   "cell_type": "code",
   "execution_count": null,
   "metadata": {},
   "outputs": [],
   "source": [
    "def func_9(a,b): #변수에 담아줄수 있나 없나의 print와 return의 차이\n",
    "    result = a+b\n",
    "    print(result)\n",
    "\n",
    "x = func_9(1,3)\n",
    "print(x)    "
   ]
  },
  {
   "cell_type": "code",
   "execution_count": null,
   "metadata": {},
   "outputs": [],
   "source": [
    "def func_10(a,b): #변수에 담아줄수 있나 없나의 print와 return의 차이\n",
    "    result = a+b\n",
    "    return result\n",
    "\n",
    "x = func_10(1,3)\n",
    "print(x)"
   ]
  },
  {
   "cell_type": "code",
   "execution_count": null,
   "metadata": {},
   "outputs": [],
   "source": [
    "# 함수 생성 -> 인자의 개수가 가변인 경우\n",
    "def func_11(*_list):\n",
    "    print(_list)"
   ]
  },
  {
   "cell_type": "code",
   "execution_count": null,
   "metadata": {},
   "outputs": [],
   "source": [
    "func_11(1,2,3,4,5)\n",
    "func_11(1,2,3)\n",
    "func_11(1,2,3,4,5,6,7,8,9,10)"
   ]
  },
  {
   "attachments": {},
   "cell_type": "markdown",
   "metadata": {},
   "source": [
    "-max(), min() 함수를 생성\n",
    "  1. 인자의 개수가 가변이다 -> 매개변수\n",
    "  2. 각각의 항목들을 비교해서 가장 큰 숫자를 출력 -> return int형태\n",
    "  3. 예를 들어 4개의 항목의 데이터가 대입\n",
    "     1. 첫번째 항목과 두번째 항목을 비교해서 큰 값을 새로운 변수에 대입\n",
    "     2. 1번 과정에서 나온 값과 세번째 항목을 비교해서 큰 값을 다시 변수에 대입\n",
    "     3. 2번 과정에서 나온 값과 마지막 항목을 비교해서 큰 값을 다시 변수에 대입\n",
    "     4. 최종 변수의 값을 return"
   ]
  },
  {
   "cell_type": "code",
   "execution_count": null,
   "metadata": {},
   "outputs": [],
   "source": [
    "def custom_max(*_list):\n",
    "    result = _list[0]\n",
    "    #첫 번째 원소를 출력?\n",
    "    #첫 번째 원소와 두번째 원소의 값을 비교하여 큰 값을  result에 대입\n",
    "    #if _list[0] > _list[1]:\n",
    "    #    result = _lsit[0]\n",
    "    #else:\n",
    "    #    result = _list[1]\n",
    "    # if result < _list[1]:\n",
    "    #  result = _list[1]\n",
    "\n",
    "     #result와 세번째 원소를 비교\n",
    "    # if result > _list[2]:\n",
    "    #    result = result\n",
    "    # else:\n",
    "    #    result = _list[2]\n",
    "    # if result < _list[2]:\n",
    "    #    result = _list[2]\n",
    "    for i in _list:\n",
    "       if result < i:\n",
    "          result = i\n",
    "    return result                  "
   ]
  },
  {
   "cell_type": "code",
   "execution_count": null,
   "metadata": {},
   "outputs": [],
   "source": [
    "print(custom_max(1,6,4,8,2))\n",
    "print(custom_max(6,3,2,9,11,50,-100))"
   ]
  },
  {
   "attachments": {},
   "cell_type": "markdown",
   "metadata": {},
   "source": [
    "평균을 출력해주는 함수 생성\n",
    "  1. 인자 개수가 가변\n",
    "  2. 받아온 인자 값들을 원소 하나씩 출력\n",
    "  3. 각 원소들의 합계\n",
    "    1. 합계라는 변수 생성 0을 대입\n",
    "    2. 각 원소들의 값들은 합계에 추가\n",
    "  4. (합계) / (인자의 개수) -> 평균이라는 변수에 대입\n",
    "  5. 평균 값을 리턴  "
   ]
  },
  {
   "cell_type": "code",
   "execution_count": null,
   "metadata": {},
   "outputs": [],
   "source": [
    "def custom_mean(*_list): #1번 과정\n",
    "    # while문\n",
    "    # 초기값 지정\n",
    "    i = 0\n",
    "    sum = 0 #3-1과정\n",
    "    while i < len(_list):  #2번 과정\n",
    "        # print(_list[i])\n",
    "        sum += _list[i]\n",
    "        # i값을 증가\n",
    "        i += 1 #이거 안해주면 무한반복\n",
    "    # print(sum)  3-2r과정\n",
    "    result = sum/len(_list)\n",
    "    return result  "
   ]
  },
  {
   "cell_type": "code",
   "execution_count": null,
   "metadata": {},
   "outputs": [],
   "source": [
    "custom_mean(1,2,3,4,5)\n",
    "custom_mean(1,2,3,4,5,6,7,8,9,10)"
   ]
  },
  {
   "cell_type": "code",
   "execution_count": null,
   "metadata": {},
   "outputs": [],
   "source": [
    "#외부의 모듈을 로드 , 같은 위치에 있어야함\n",
    "import mod1"
   ]
  },
  {
   "cell_type": "code",
   "execution_count": null,
   "metadata": {},
   "outputs": [],
   "source": [
    "mod1.custom_mean(1,2,3,4,5,6)"
   ]
  },
  {
   "cell_type": "code",
   "execution_count": null,
   "metadata": {},
   "outputs": [],
   "source": [
    "mod1.custom_max(1,2,3,4)"
   ]
  }
 ],
 "metadata": {
  "kernelspec": {
   "display_name": "Python 3",
   "language": "python",
   "name": "python3"
  },
  "language_info": {
   "codemirror_mode": {
    "name": "ipython",
    "version": 3
   },
   "file_extension": ".py",
   "mimetype": "text/x-python",
   "name": "python",
   "nbconvert_exporter": "python",
   "pygments_lexer": "ipython3",
   "version": "3.11.2"
  },
  "orig_nbformat": 4
 },
 "nbformat": 4,
 "nbformat_minor": 2
}
