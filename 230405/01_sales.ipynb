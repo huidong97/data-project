{
 "cells": [
  {
   "cell_type": "code",
   "execution_count": null,
   "metadata": {},
   "outputs": [],
   "source": [
    "import pandas as pd"
   ]
  },
  {
   "attachments": {},
   "cell_type": "markdown",
   "metadata": {},
   "source": [
    "연습문제\n",
    "1. csv폴더에 있는 sales record.csv 파일 로드\n",
    "2. 'Order Id', 'Total Revenue', 'Total Cost', 'Total Profit', 'Channel' \n",
    "컬럼을 삭제\n",
    "3. 컬럼의 이름을 변경 -> ['권역', '국가', '상품종류', '우선순위', '주문일자',\n",
    "'발송일자', '판매단위','단가', '원가']\n",
    "4. 권역과 국가를 기준으로 오름차순 정렬\n",
    "5. index를 초기화하고 기존의 인덱스는 삭제"
   ]
  },
  {
   "cell_type": "code",
   "execution_count": null,
   "metadata": {},
   "outputs": [],
   "source": [
    "#파일 로드\n",
    "#상위 폴더로 이동 -> csv 폴더로 이동 -> 파일명\n",
    "Sales_Records = pd.read_csv(\"../csv/Sales Records.csv\")\n",
    "Sales_Records.head(2)"
   ]
  },
  {
   "cell_type": "code",
   "execution_count": null,
   "metadata": {},
   "outputs": [],
   "source": [
    "#지정 컬럼 삭제\n",
    "#여기에 inplace = True 넣으면 오류가 나는 이유는 앞에 =을 넣었기 때문이다. 즉 = 이 두번 나오기 때문에 에러가 난다. =을 쓰든 inplace매개변수를 써서 값을\n",
    "#저장하든 둘중 하나를 하면된다.\n",
    "Sales_Records = Sales_Records.drop(['Order ID','Total Revenue', 'Total Cost', 'Total Profit','Sales Channel'], axis = 1)"
   ]
  },
  {
   "cell_type": "code",
   "execution_count": null,
   "metadata": {},
   "outputs": [],
   "source": [
    "Sales_Records.head(2)"
   ]
  },
  {
   "cell_type": "code",
   "execution_count": null,
   "metadata": {},
   "outputs": [],
   "source": [
    "#컬럼의 이름을 변경, 기존 컬럼의 갯수와 똑같아야 바뀐다\n",
    "Sales_Records.columns = ['권역', '국가', '상품종류', '우선순위', '주문일자',\n",
    "                         '발송일자', '판매단위','단가', '원가']"
   ]
  },
  {
   "cell_type": "code",
   "execution_count": null,
   "metadata": {},
   "outputs": [],
   "source": [
    "Sales_Records.head(2)"
   ]
  },
  {
   "cell_type": "code",
   "execution_count": null,
   "metadata": {},
   "outputs": [],
   "source": [
    "#권역, 국가를 기준으로 오름차순 정렬\n",
    "Sales_Records.sort_values(['권역', '국가'],ascending = True, inplace = True)"
   ]
  },
  {
   "cell_type": "code",
   "execution_count": null,
   "metadata": {},
   "outputs": [],
   "source": [
    "Sales_Records.head(2)"
   ]
  },
  {
   "cell_type": "code",
   "execution_count": null,
   "metadata": {},
   "outputs": [],
   "source": [
    "#인덱스를 초기화하고 시존의 인덱스를 삭제\n",
    "Sales_Records.reset_index(drop = True , inplace = True)"
   ]
  },
  {
   "cell_type": "code",
   "execution_count": null,
   "metadata": {},
   "outputs": [],
   "source": [
    "Sales_Records.head(2)"
   ]
  },
  {
   "attachments": {},
   "cell_type": "markdown",
   "metadata": {},
   "source": [
    "- 새로운 파생 변수 생성 (시리즈를 이용)   #시리즈 = 인덱스(행)만있음  #데이터프레임 = 인덱스(행)와 컬럼(열)이 있음\n",
    "  1. 총단가 --> 판매단위 * 단가\n",
    "  2. 총원가 --> 판매단위 * 원가\n",
    "  3. 총이윤 --> 총단가 - 총원가"
   ]
  },
  {
   "cell_type": "code",
   "execution_count": null,
   "metadata": {},
   "outputs": [],
   "source": [
    "Sales_Records['총단가'] = Sales_Records['판매단위'] * Sales_Records['단가']"
   ]
  },
  {
   "cell_type": "code",
   "execution_count": null,
   "metadata": {},
   "outputs": [],
   "source": [
    "Sales_Records['총원가'] = Sales_Records['판매단위'] * Sales_Records['원가']"
   ]
  },
  {
   "cell_type": "code",
   "execution_count": null,
   "metadata": {},
   "outputs": [],
   "source": [
    "Sales_Records['총이윤'] = Sales_Records['총단가'] - Sales_Records['총원가']"
   ]
  },
  {
   "cell_type": "code",
   "execution_count": null,
   "metadata": {},
   "outputs": [],
   "source": [
    "Sales_Records.tail()"
   ]
  },
  {
   "cell_type": "code",
   "execution_count": null,
   "metadata": {},
   "outputs": [],
   "source": [
    "#국가 컬럼의 데이터가 항목들의 카운트를 출력하는 함수  - value_counts() - 데이터들의 분포도 확인\n",
    "Sales_Records['국가'].value_counts().index "
   ]
  },
  {
   "cell_type": "code",
   "execution_count": null,
   "metadata": {},
   "outputs": [],
   "source": [
    "_list = Sales_Records['국가'].unique()"
   ]
  },
  {
   "cell_type": "code",
   "execution_count": null,
   "metadata": {},
   "outputs": [],
   "source": [
    "#국가 하나를 선택해서 그 국가의 총이윤의 합계 , 합계함수 sum\n",
    "Sales_Records.loc[Sales_Records['국가']=='South Korea']['총이윤'].sum()"
   ]
  },
  {
   "cell_type": "code",
   "execution_count": null,
   "metadata": {},
   "outputs": [],
   "source": [
    "profit_list = {}\n",
    "\n",
    "for i in _list:\n",
    "    #총이윤의 합계\n",
    "    total_profit = Sales_Records.loc[Sales_Records['국가']== i]['총이윤'].sum()\n",
    "    profit_list[i] = total_profit"
   ]
  },
  {
   "cell_type": "code",
   "execution_count": null,
   "metadata": {},
   "outputs": [],
   "source": [
    " pd.Series(profit_list).sort_values(ascending=False)"
   ]
  },
  {
   "cell_type": "code",
   "execution_count": null,
   "metadata": {},
   "outputs": [],
   "source": [
    "pd.DataFrame(profit_list.values(),\n",
    "            index = profit_list.keys(),\n",
    "            columns=['SUM'])"
   ]
  },
  {
   "cell_type": "code",
   "execution_count": null,
   "metadata": {},
   "outputs": [],
   "source": [
    "#그룹화 함수\n",
    "#groupby()\n",
    "#인자 값 : 특정 컬럼을 지정\n",
    "group_data = Sales_Records.groupby(['권역','국가']).sum()"
   ]
  },
  {
   "cell_type": "code",
   "execution_count": null,
   "metadata": {},
   "outputs": [],
   "source": [
    "group_data.index #2차원 배열"
   ]
  },
  {
   "cell_type": "code",
   "execution_count": null,
   "metadata": {},
   "outputs": [],
   "source": [
    "#group_data에서 한국의 데이터만 출력하려면?\n",
    "group_data.loc[('Asia', 'South Korea')]"
   ]
  },
  {
   "attachments": {},
   "cell_type": "markdown",
   "metadata": {},
   "source": [
    "인덱스 - 행\n",
    "컬럼 - 열\n",
    "sum - 합계함수\n",
    "mean - 평균함수"
   ]
  },
  {
   "cell_type": "code",
   "execution_count": null,
   "metadata": {},
   "outputs": [],
   "source": [
    "# Sales_Records에서 상품의 종류에 따라 총 이윤이 가장 높은 물건은 무엇인가?\n",
    "# 1. Sales_Records에서 그룹화 진행 -> 그룹조건 상품종류\n",
    "# 2. 그룹화된 데이터에서 총 이윤이라는 컬럼의 데이터의 평균을 출력\n",
    "# 3. 총이윤의 평균값을 기준으로 내림차순 정렬\n",
    "# 4. 이윤 가장 높은 물건 추출\n",
    "\n",
    "group_data2 = Sales_Records[['상품종류','총이윤']].groupby('상품종류').mean()"
   ]
  },
  {
   "cell_type": "code",
   "execution_count": null,
   "metadata": {},
   "outputs": [],
   "source": [
    "group_data2 = Sales_Records.groupby('상품종류').mean()"
   ]
  },
  {
   "cell_type": "code",
   "execution_count": null,
   "metadata": {},
   "outputs": [],
   "source": [
    "group_data2"
   ]
  },
  {
   "cell_type": "code",
   "execution_count": null,
   "metadata": {},
   "outputs": [],
   "source": [
    "df = group_data2.sort_values('총이윤',ascending = False)"
   ]
  },
  {
   "cell_type": "code",
   "execution_count": null,
   "metadata": {},
   "outputs": [],
   "source": [
    "group_data2"
   ]
  },
  {
   "cell_type": "code",
   "execution_count": null,
   "metadata": {},
   "outputs": [],
   "source": [
    "df.head(1).index[0]"
   ]
  },
  {
   "cell_type": "code",
   "execution_count": null,
   "metadata": {},
   "outputs": [],
   "source": [
    "df.index[-1]"
   ]
  },
  {
   "cell_type": "code",
   "execution_count": null,
   "metadata": {},
   "outputs": [],
   "source": [
    "df.index[0]"
   ]
  }
 ],
 "metadata": {
  "kernelspec": {
   "display_name": "base",
   "language": "python",
   "name": "python3"
  },
  "language_info": {
   "codemirror_mode": {
    "name": "ipython",
    "version": 3
   },
   "file_extension": ".py",
   "mimetype": "text/x-python",
   "name": "python",
   "nbconvert_exporter": "python",
   "pygments_lexer": "ipython3",
   "version": "3.10.9"
  },
  "orig_nbformat": 4
 },
 "nbformat": 4,
 "nbformat_minor": 2
}
