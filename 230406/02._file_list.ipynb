{
 "cells": [
  {
   "attachments": {},
   "cell_type": "markdown",
   "metadata": {},
   "source": [
    "특정한 경로에 있는 파일의 목록 출력"
   ]
  },
  {
   "cell_type": "code",
   "execution_count": null,
   "metadata": {},
   "outputs": [],
   "source": [
    "import os"
   ]
  },
  {
   "cell_type": "code",
   "execution_count": null,
   "metadata": {},
   "outputs": [],
   "source": [
    "file_list = os.listdir(\"../csv/2017/\")"
   ]
  },
  {
   "cell_type": "code",
   "execution_count": null,
   "metadata": {},
   "outputs": [],
   "source": [
    "import pandas as pd"
   ]
  },
  {
   "cell_type": "code",
   "execution_count": null,
   "metadata": {},
   "outputs": [],
   "source": [
    "for i in range(1, 13, 1):\n",
    "    print(\"%02d\"%i)"
   ]
  },
  {
   "cell_type": "code",
   "execution_count": null,
   "metadata": {},
   "outputs": [],
   "source": [
    "# read_csv()안에 들어가는 인자값을 생성\n",
    "# 상대경로 : ../csv/2017/파일명 -> 12개 출력\n",
    "# 경로에 있는 파일들을 pandas를 이용하여 데이터프레임으로 불러온다.\n",
    "# concat을 이용하여 단순하게 행을 추가하는 결합\n",
    "# 결합을 하려면 기준이되는 데이터프레임이 존재하여야한다.\n",
    "# 비어있는 데이터프레임을 하나 생성\n",
    "\n",
    "path = '../csv/2017/'\n",
    "\n",
    "file_list = os.listdir(path)\n",
    "\n",
    "result = pd.DataFrame()\n",
    "\n",
    "for i in file_list:\n",
    "    # print(path+i)\n",
    "    df = pd.read_csv(path+i)\n",
    "    result = pd.concat([result,df], axis=0, ignore_index = True)\n",
    "\n",
    "result.info()    "
   ]
  },
  {
   "cell_type": "code",
   "execution_count": null,
   "metadata": {},
   "outputs": [],
   "source": [
    "# json인 경우 (3개의 확장자 형식을 전부 합치면 나중에 자동화 시키기가 편하다)\n",
    "path = '../csv/2019/'\n",
    "\n",
    "file_list = os.listdir(path)\n",
    "\n",
    "result = pd.DataFrame()\n",
    "\n",
    "for i in file_list:\n",
    "    # print(path+i)\n",
    "    df = pd.read_json(path+i)\n",
    "    result = pd.concat([result,df], axis=0, ignore_index = True)\n",
    "\n",
    "result.info()    "
   ]
  },
  {
   "cell_type": "code",
   "execution_count": null,
   "metadata": {},
   "outputs": [],
   "source": [
    "path = '../csv/2020/'\n",
    "\n",
    "file_list = os.listdir(path)\n",
    "\n",
    "result = pd.DataFrame()\n",
    "\n",
    "for i in file_list:\n",
    "    # print(path+i)\n",
    "    df = pd.read_excel(path+i)\n",
    "    result = pd.concat([result,df], axis=0, ignore_index = True)\n",
    "\n",
    "result.info()    "
   ]
  },
  {
   "cell_type": "code",
   "execution_count": null,
   "metadata": {},
   "outputs": [],
   "source": [
    "# 3개의 확장자를 한번에 모아서 다루는 함수 생성\n",
    "file_list = os.listdir(\"../csv/2022/\")\n",
    "a = '.xlsx'\n",
    "for i in file_list:\n",
    "    if i.endswith(a):\n",
    "        print(i)\n",
    "    "
   ]
  },
  {
   "cell_type": "code",
   "execution_count": null,
   "metadata": {},
   "outputs": [],
   "source": [
    "#함수의 형태로 폴더에 있는 파일들을 결합하는 함수 생성\n",
    "def list_load(_dir,_end):\n",
    "    # 매개변수 2개 생성 : _dir -> 파일의 경로\n",
    "    #                 _end -> 파일의 확장자\n",
    "    \n",
    "    if not(_dir.endswith(\"/\")):\n",
    "        _dir = _dir+\"/\"\n",
    "    \n",
    "    if _end[0] != \".\":\n",
    "        _end = \".\" + _end\n",
    "\n",
    "    # print(_dir,_end) -> 이런 식의 중간중간 과정에서 잘 돌아가는지 print를 통해서 확인하자 또 주석을 지우지는 말자   \n",
    "    # print(file_list)\n",
    "    # 파일의 리스트 호출\n",
    "    file_list = os.listdir(_dir)\n",
    "\n",
    "    # 비어있는 데이터프레임 생성\n",
    "    result = pd.DataFrame()\n",
    "    # 파일 리스트에서 확장자가 같은 파일들만 결합\n",
    "    for i in file_list:\n",
    "        # 파일명의 확장자라는 인자값과 같은 경우\n",
    "        if i.endswith(_end):\n",
    "            print(i)\n",
    "            # 확장자에 따른 read 함수 설정\n",
    "            if _end == '.csv':\n",
    "                df = pd.read_csv(_dir +i)\n",
    "                result = pd.concat([result,df],axis=0,ignore_index=True)\n",
    "            elif _end == '.json':\n",
    "                df = pd.read_json(_dir +i)\n",
    "                result = pd.concat([result,df], axis=0,ignore_index=True)\n",
    "            elif _end in [\".xlsx\", \"xls\"]:\n",
    "                df = pd.read_excel(_dir +i)\n",
    "                result = pd.concat([result,df],axis=0,ignore_index=True)\n",
    "            else:\n",
    "                return \"지원하지 않는 확장자입니다.\"\n",
    "    return result                        "
   ]
  },
  {
   "cell_type": "code",
   "execution_count": null,
   "metadata": {},
   "outputs": [],
   "source": [
    "list_load(\"../csv/2022\", \".xlsx\")"
   ]
  },
  {
   "cell_type": "code",
   "execution_count": null,
   "metadata": {},
   "outputs": [],
   "source": [
    "import list_load as ll\n",
    "import imp\n",
    "imp.reload(ll)"
   ]
  },
  {
   "cell_type": "code",
   "execution_count": null,
   "metadata": {},
   "outputs": [],
   "source": [
    "ll.load(\"../csv/2017\")"
   ]
  },
  {
   "attachments": {},
   "cell_type": "markdown",
   "metadata": {},
   "source": [
    "##예제\n",
    "1. csv 폴더에서 4개의 파일을 로드 (tran1, tran2, tran_d_1, trand_d_2)\n",
    "2. tran_1과 tran_2는 단순한 행 추가 결합 (유니언 결합)\n",
    "3. tran_d_1과 tran_d_2도 유니언 결합\n",
    "4. 2번, 3번 과정에서 나온 데이터 프레임을 특정 조건에 맞춰서 2번 데이터프레임 기준으로 열 추가 결합(조인 결합)\n",
    "5. csv폴더에 있는 2개의 파일 로드(custom_master, item_master)\n",
    "6. 4번 과정에서 나온 데이터프레임과 custom_master 조인 결합\n",
    "7. 6번 과정에서 나온 데이터프레임과 item_master 조인 결합\n",
    "8. 결합이 된 데이터프레임에서 quantity컬럼과 item_price 컬럼의 데이터를 가지고 total_price라는 파생 변수를 생성(total_price = item_price * quantity)"
   ]
  },
  {
   "cell_type": "code",
   "execution_count": null,
   "metadata": {},
   "outputs": [],
   "source": [
    "import pandas as pd"
   ]
  },
  {
   "cell_type": "code",
   "execution_count": null,
   "metadata": {},
   "outputs": [],
   "source": [
    "tran1 = pd.read_csv(\"../csv/tran_1.csv\")\n",
    "tran2 = pd.read_csv(\"../csv/tran_2.csv\")\n",
    "trand1 = pd.read_csv(\"../csv/tran_d_1.csv\")\n",
    "trand2 = pd.read_csv(\"../csv/tran_d_2.csv\")    "
   ]
  },
  {
   "cell_type": "code",
   "execution_count": null,
   "metadata": {},
   "outputs": [],
   "source": [
    "# tran1, tran2 유니언 결합\n",
    "tran = pd.concat([tran1,tran2],axis=0,ignore_index=True)"
   ]
  },
  {
   "cell_type": "code",
   "execution_count": null,
   "metadata": {},
   "outputs": [],
   "source": [
    "# trand1, trand2 유니언 결합\n",
    "trand = pd.concat([trand1,trand2],axis=0,ignore_index=True)"
   ]
  },
  {
   "cell_type": "code",
   "execution_count": null,
   "metadata": {},
   "outputs": [],
   "source": [
    "# tran과 trand를 조인 결합(조건 : transaction_id, how: tran)\n",
    "tran = pd.merge(tran,trand,on='transaction_id',how='left')"
   ]
  },
  {
   "cell_type": "code",
   "execution_count": null,
   "metadata": {},
   "outputs": [],
   "source": [
    "# 2개 파일을 로드\n",
    "customer_master = pd.read_csv(\"../csv/customer_master.csv\")\n",
    "item_master = pd.read_csv(\"../csv/item_master.csv\")"
   ]
  },
  {
   "cell_type": "code",
   "execution_count": null,
   "metadata": {},
   "outputs": [],
   "source": [
    "# tran, customer_master 조인 결합 (조건 : customer_id, how : inner, left)\n",
    "total_df = pd.merge(tran, customer_master ,on='customer_id', how='inner')"
   ]
  },
  {
   "cell_type": "code",
   "execution_count": null,
   "metadata": {},
   "outputs": [],
   "source": [
    "total_df.head(1)"
   ]
  },
  {
   "cell_type": "code",
   "execution_count": null,
   "metadata": {},
   "outputs": [],
   "source": [
    "# total_df , item_master 조인결합 (조건: item_id, how : inner)\n",
    "total_df = pd.merge(total_df, item_master ,on='item_id', how='inner')\n",
    "total_df.head(1)"
   ]
  },
  {
   "cell_type": "code",
   "execution_count": null,
   "metadata": {},
   "outputs": [],
   "source": [
    "# 새로운 파생변수 생성 total_price\n",
    "# total_df['total_price'] = values\n",
    "total_df['total_price'] = total_df['item_price']*total_df['quantity']"
   ]
  },
  {
   "cell_type": "code",
   "execution_count": null,
   "metadata": {},
   "outputs": [],
   "source": [
    "# 거래의 금액이 가장 좋은 아이템은 무엇인가?\n",
    "group_data = total_df[['item_name','total_price']].groupby('item_name').sum()"
   ]
  },
  {
   "cell_type": "code",
   "execution_count": null,
   "metadata": {},
   "outputs": [],
   "source": [
    "# 내림차순 정렬\n",
    "group_data.sort_values('total_price',ascending=False).index[0]"
   ]
  },
  {
   "cell_type": "code",
   "execution_count": null,
   "metadata": {},
   "outputs": [],
   "source": [
    "origin_data = total_df.copy()"
   ]
  },
  {
   "cell_type": "code",
   "execution_count": null,
   "metadata": {},
   "outputs": [],
   "source": [
    "total_df['gender']"
   ]
  },
  {
   "cell_type": "code",
   "execution_count": null,
   "metadata": {},
   "outputs": [],
   "source": [
    "# loc를 이용하여 m,f를 변경\n",
    "# m -> 남자, f -> 여자\n",
    "total_df.loc[total_df['gender'] == \"M\",'gender'] = '남자'\n",
    "total_df.loc[total_df['gender'] == \"F\",'gender'] = '여자'"
   ]
  },
  {
   "cell_type": "code",
   "execution_count": null,
   "metadata": {},
   "outputs": [],
   "source": [
    "total_df['gender'].value_counts()"
   ]
  },
  {
   "cell_type": "code",
   "execution_count": null,
   "metadata": {},
   "outputs": [],
   "source": [
    "# apply() 사용하여 남자, 여자 변경\n",
    "\n",
    "def change(x):\n",
    "    # x에는 M아니면 F\n",
    "    if x == \"F\":\n",
    "        result = \"여자\"\n",
    "    else:\n",
    "        result = \"남자\"\n",
    "    return result\n",
    "\n",
    "total_df['gender'].apply(change)        "
   ]
  },
  {
   "cell_type": "code",
   "execution_count": null,
   "metadata": {},
   "outputs": [],
   "source": [
    "origin_data['gender'].apply(lambda x :'남자' if(x == 'M') else \n",
    "                            ('여자'if(x == 'F') else '무응답'))"
   ]
  },
  {
   "cell_type": "code",
   "execution_count": null,
   "metadata": {},
   "outputs": [],
   "source": [
    "# payment_date 컬럼을 시계열 데이터 변경\n",
    "# to_datetime()\n",
    "total_df.head(1)"
   ]
  },
  {
   "cell_type": "code",
   "execution_count": null,
   "metadata": {},
   "outputs": [],
   "source": [
    "total_df['payment_date'] = pd.to_datetime(total_df['payment_date'],format='%Y-%m-%d %H:%M:%S')"
   ]
  },
  {
   "cell_type": "code",
   "execution_count": null,
   "metadata": {},
   "outputs": [],
   "source": [
    "total_df.info()"
   ]
  },
  {
   "cell_type": "code",
   "execution_count": null,
   "metadata": {},
   "outputs": [],
   "source": [
    "# 시계열 데이터에서 월-년 추출해서 새로운 파생변수 payment_month 생성\n",
    "total_df['payment_month'] = total_df['payment_date'].dt.strftime('%m-%Y')"
   ]
  },
  {
   "cell_type": "code",
   "execution_count": null,
   "metadata": {},
   "outputs": [],
   "source": [
    "#월별 거래량을 확인\n",
    "total_df[['payment_month','total_price']].groupby('payment_month').sum()"
   ]
  },
  {
   "cell_type": "code",
   "execution_count": null,
   "metadata": {},
   "outputs": [],
   "source": [
    "group_data.plot()"
   ]
  },
  {
   "cell_type": "code",
   "execution_count": null,
   "metadata": {},
   "outputs": [],
   "source": [
    "pivot_data = pd.pivot_table(\n",
    "    total_df,\n",
    "    index='payment_month',\n",
    "    aggfunc=['sum','mean','min','max','std'],\n",
    "    values= 'total_price'\n",
    ")"
   ]
  }
 ],
 "metadata": {
  "kernelspec": {
   "display_name": "base",
   "language": "python",
   "name": "python3"
  },
  "language_info": {
   "codemirror_mode": {
    "name": "ipython",
    "version": 3
   },
   "file_extension": ".py",
   "mimetype": "text/x-python",
   "name": "python",
   "nbconvert_exporter": "python",
   "pygments_lexer": "ipython3",
   "version": "3.10.9"
  },
  "orig_nbformat": 4
 },
 "nbformat": 4,
 "nbformat_minor": 2
}
