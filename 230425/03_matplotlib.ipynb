{
 "cells": [
  {
   "attachments": {},
   "cell_type": "markdown",
   "metadata": {},
   "source": [
    "# 데이터의 시각화\n",
    "1. 라인, 바,산점도,히스토그램 그래프 시각화"
   ]
  },
  {
   "cell_type": "code",
   "execution_count": null,
   "metadata": {},
   "outputs": [],
   "source": [
    "import matplotlib.pyplot as plt"
   ]
  },
  {
   "cell_type": "code",
   "execution_count": null,
   "metadata": {},
   "outputs": [],
   "source": [
    "# 라인 그래프\n",
    "plt.plot([1,2,3,4])\n",
    "plt.show()"
   ]
  },
  {
   "cell_type": "code",
   "execution_count": null,
   "metadata": {},
   "outputs": [],
   "source": [
    "# 라인 그래프\n",
    "# plt.plot([]) -> 리스트의 값이 하나만 존재하면 y축의 값으로 지정 \n",
    "# plt.plot([],[]) -> 앞의 리스트의 값은 x축, 뒤의 리스트의 값은 y축이 된다.\n",
    "plt.plot([1,2,3,4])\n",
    "plt.show()"
   ]
  },
  {
   "attachments": {},
   "cell_type": "markdown",
   "metadata": {},
   "source": [
    "subplot()\n",
    "1. 한 영역에 그래프를 여러 개 그려주기 위한 함수\n",
    "2. subplot(행의 개수, 열의 개수, 위치)"
   ]
  },
  {
   "cell_type": "code",
   "execution_count": null,
   "metadata": {},
   "outputs": [],
   "source": [
    "plt.subplot(1,2,1)\n",
    "plt.plot([1,2,3,4])\n",
    "plt.subplot(1,2,2)\n",
    "plt.plot([4,3,2,1])\n",
    "plt.show()"
   ]
  },
  {
   "cell_type": "code",
   "execution_count": null,
   "metadata": {},
   "outputs": [],
   "source": [
    "fig, axes = plt.subplots(2,2)\n",
    "axes[0][0].plot([1,2,3,4])\n",
    "axes[0][1].plot([4,3,2,1])\n",
    "axes[1][0].plot([1,2,2,1])\n",
    "axes[1][1].plot([3,4,2,1])\n",
    "plt.show()"
   ]
  },
  {
   "cell_type": "code",
   "execution_count": null,
   "metadata": {},
   "outputs": [],
   "source": [
    "# 갯수가 안 맞아서 에러가 난당\n",
    "# x = [1,2,3]\n",
    "# y = [4,3,2,1]\n",
    "# plt.plot(x,y)\n",
    "# plt.show()"
   ]
  },
  {
   "cell_type": "code",
   "execution_count": null,
   "metadata": {},
   "outputs": [],
   "source": [
    "# x축의 이름과 y축의 이름, 그래프의 이름 지정\n",
    "plt.plot([1,2,3,4])\n",
    "plt.xlabel('x-axis')\n",
    "plt.ylabel('y-axis')\n",
    "plt.title('title')\n",
    "plt.show()"
   ]
  },
  {
   "cell_type": "code",
   "execution_count": null,
   "metadata": {},
   "outputs": [],
   "source": [
    "# 범례 추가\n",
    "plt.plot([1,2,3,4], label = 'acending')\n",
    "plt.plot([4,3,2,1], label = 'descending')\n",
    "plt.legend(loc = 'upper right')\n",
    "plt.show()"
   ]
  },
  {
   "cell_type": "code",
   "execution_count": null,
   "metadata": {},
   "outputs": [],
   "source": [
    "# 히스토그램 -> 데이터의 개수를 표현하는 바 그래프\n",
    "data = [1,2,2,2,3,3,4,4,4,4]\n",
    "plt.hist(data,bins=4)\n",
    "plt.show()"
   ]
  },
  {
   "cell_type": "code",
   "execution_count": null,
   "metadata": {},
   "outputs": [],
   "source": [
    "# finance-datareader 라이브러리 설치\n",
    "!pip install finance-datareader"
   ]
  },
  {
   "cell_type": "code",
   "execution_count": null,
   "metadata": {},
   "outputs": [],
   "source": [
    "import FinanceDataReader as fdr"
   ]
  },
  {
   "cell_type": "code",
   "execution_count": null,
   "metadata": {},
   "outputs": [],
   "source": [
    "kospi = fdr.DataReader('ks11','2019')"
   ]
  },
  {
   "cell_type": "code",
   "execution_count": null,
   "metadata": {},
   "outputs": [],
   "source": [
    "kospi"
   ]
  },
  {
   "cell_type": "code",
   "execution_count": null,
   "metadata": {},
   "outputs": [],
   "source": [
    "# 맥,윈도우 한글 보이게 하기\n",
    "import platform\n",
    "\n",
    "if platform.system() == 'Darwin':\n",
    "    plt.rc('font', family = 'AppleGothic')\n",
    "else:\n",
    "    plt.rc('font', family = 'Malgun Gothic')\n"
   ]
  },
  {
   "cell_type": "code",
   "execution_count": null,
   "metadata": {},
   "outputs": [],
   "source": [
    "# 그래프 사이즈를 조절\n",
    "plt.figure(figsize=(14,6))\n",
    "# grid 추가\n",
    "plt.grid(True,axis='y')\n",
    "plt.plot(kospi['Close'].head(20),marker='o')\n",
    "plt.xlabel('날짜')\n",
    "plt.ylabel('종가')\n",
    "plt.show()"
   ]
  },
  {
   "cell_type": "code",
   "execution_count": null,
   "metadata": {},
   "outputs": [],
   "source": [
    "mean_kospi_2020 = kospi.loc['2020'].resample('MS').mean()\n",
    "mean_kospi_2020"
   ]
  },
  {
   "cell_type": "code",
   "execution_count": null,
   "metadata": {},
   "outputs": [],
   "source": [
    "# x축은 'xxxx년xx월' 표시\n",
    "mean_kospi_2020.index[0].strftime('%Y년%m월')\n",
    "\n",
    "x = []\n",
    "for i in mean_kospi_2020.index:\n",
    "    x.append(i.strftime('%Y년%m월'))"
   ]
  },
  {
   "cell_type": "code",
   "execution_count": null,
   "metadata": {},
   "outputs": [],
   "source": [
    "# x축은 'xxxx년xx월' 표시\n",
    "list(map(lambda x: x.strftime('%Y년%m월'), mean_kospi_2020.index))"
   ]
  },
  {
   "cell_type": "code",
   "execution_count": null,
   "metadata": {},
   "outputs": [],
   "source": [
    "plt.barh(x,mean_kospi_2020['Volume'])\n",
    "# 지수표현식을 일반 표현식으로 변경\n",
    "plt.ticklabel_format(axis=\"x\",style=\"plain\")\n",
    "plt.show()"
   ]
  },
  {
   "cell_type": "code",
   "execution_count": null,
   "metadata": {},
   "outputs": [],
   "source": [
    "# kospi에서 변동률 파생변수\n",
    "# 변동률 = (종가-시가)/시가*100\n",
    "kospi['변동률'] = (kospi['Close'] - kospi['Open']) / kospi['Open']*100\n",
    "kospi.head()"
   ]
  },
  {
   "cell_type": "code",
   "execution_count": null,
   "metadata": {},
   "outputs": [],
   "source": [
    "# 음수를 표시\n",
    "plt.rc(\"axes\",unicode_minus = False)\n",
    "plt.grid()\n",
    "plt.hist(kospi['변동률'],bins=20)\n",
    "plt.show()"
   ]
  },
  {
   "attachments": {},
   "cell_type": "markdown",
   "metadata": {},
   "source": [
    "# candle stick"
   ]
  },
  {
   "cell_type": "code",
   "execution_count": null,
   "metadata": {},
   "outputs": [],
   "source": [
    "!pip install mplfinance"
   ]
  },
  {
   "cell_type": "code",
   "execution_count": null,
   "metadata": {},
   "outputs": [],
   "source": [
    "import mplfinance as mpf"
   ]
  },
  {
   "cell_type": "code",
   "execution_count": null,
   "metadata": {},
   "outputs": [],
   "source": [
    "mpf.plot(data = kospi.loc['2020-12'],type='candle')"
   ]
  },
  {
   "cell_type": "code",
   "execution_count": null,
   "metadata": {},
   "outputs": [],
   "source": [
    "marketcolor = mpf.make_marketcolors(\n",
    "    up = 'r',\n",
    "    down = 'b',\n",
    "    edge = 'inherit',\n",
    "    wick = 'inherit'\n",
    ")\n",
    "\n",
    "style = mpf.make_mpf_style(\n",
    "    base_mpf_style = 'starsandstripes',\n",
    "    marketcolors = marketcolor,\n",
    "    gridaxis = 'both',\n",
    "    y_on_right = True\n",
    ")\n",
    "\n",
    "mpf.plot(data = kospi.loc['2020-12'],type='candle',style = style)"
   ]
  },
  {
   "attachments": {},
   "cell_type": "markdown",
   "metadata": {},
   "source": [
    "# 문제\n",
    "1. test_csv 폴더 안에 있는 오프라인 .csv을 로드\n",
    "2. 컬럼의 이름을 ['기준년월', '업종', '성별', '연령대', '총이용건수', '총이요금액']으로 변경\n",
    "3. 기준년월을 시계열 데이터로 변경\n",
    "4. index를 기준년월로 변경\n",
    "5. 온라인 .csv 파일도 위의 작업을 반복한다.\n",
    "6. 온라인에 업종 컬럼을 추가하여 '온라인'으로 값을 지정\n",
    "7. 두개의 데이터프레임을 유니언 결합\n",
    "8. 기준년월, 업종별로 총이용금액의 합계를 그래프로 표시"
   ]
  },
  {
   "cell_type": "code",
   "execution_count": null,
   "metadata": {},
   "outputs": [],
   "source": [
    "import pandas as pd"
   ]
  },
  {
   "cell_type": "code",
   "execution_count": null,
   "metadata": {},
   "outputs": [],
   "source": [
    "# 1\n",
    "df = pd.read_csv(\"../test_csv/유통+업종(백화점,+할인점,+슈퍼마켓,+편의점)+카드소비트렌드+데이터_1901_2109.csv\",encoding = \"euc-kr\")"
   ]
  },
  {
   "cell_type": "code",
   "execution_count": null,
   "metadata": {},
   "outputs": [],
   "source": [
    "# 2\n",
    "df.columns = ['기준년월', '업종', '성별', '연령대', '총이용건수', '총이용금액']"
   ]
  },
  {
   "cell_type": "code",
   "execution_count": null,
   "metadata": {},
   "outputs": [],
   "source": [
    "# 3\n",
    "df['기준년월'] = pd.to_datetime(df['기준년월'],format='%Y%m')\n",
    "df.head(5) "
   ]
  },
  {
   "cell_type": "code",
   "execution_count": null,
   "metadata": {},
   "outputs": [],
   "source": [
    "# 4\n",
    "df = df.set_index(\"기준년월\")"
   ]
  },
  {
   "cell_type": "code",
   "execution_count": null,
   "metadata": {},
   "outputs": [],
   "source": [
    "# 5\n",
    "df2 = pd.read_csv(\"../test_csv/온라인+카드소비트렌드+데이터_1901_2109.csv\",encoding = \"euc-kr\")\n",
    "df2.columns = ['기준년월', '성별', '연령대', '총이용건수', '총이용금액']\n",
    "df2['기준년월'] = pd.to_datetime(df2['기준년월'],format='%Y%m')\n",
    "df2 = df2.set_index(\"기준년월\")\n",
    "df2\n"
   ]
  },
  {
   "cell_type": "code",
   "execution_count": null,
   "metadata": {},
   "outputs": [],
   "source": [
    "# 6\n",
    "df2[\"업종\"] = \"온라인\"\n",
    "df2"
   ]
  },
  {
   "cell_type": "code",
   "execution_count": null,
   "metadata": {},
   "outputs": [],
   "source": [
    "# 7\n",
    "df3 = pd.concat([df,df2],axis=0)\n",
    "df3"
   ]
  },
  {
   "cell_type": "code",
   "execution_count": null,
   "metadata": {},
   "outputs": [],
   "source": [
    "# 한글화\n",
    "import platform\n",
    "if platform.system() == \"Darwin\" :\n",
    "    plt.rc(\"font\", family = \"AppleGothic\")\n",
    "else :\n",
    "    plt.rc(\"font\", family = \"Malgun Gothic\")"
   ]
  },
  {
   "cell_type": "code",
   "execution_count": null,
   "metadata": {},
   "outputs": [],
   "source": [
    "# 8\n",
    "pivot_data = pd.pivot_table(\n",
    "    df3,\n",
    "    index=df3.index,\n",
    "    aggfunc='sum',\n",
    "    values= '총이용금액',\n",
    "    columns = '업종'\n",
    ")\n",
    "\n",
    "pivot_data.plot.line()"
   ]
  },
  {
   "attachments": {},
   "cell_type": "markdown",
   "metadata": {},
   "source": [
    "1. 결합된 데이터프레임에서 성별을 1은 '남자' 2는 '여자'변경\n",
    "2. 온라인 업종의 남,여 의 카드매출 월별로 어떻게 차이가 나는가?를 시각화 하여 표시"
   ]
  },
  {
   "cell_type": "code",
   "execution_count": null,
   "metadata": {},
   "outputs": [],
   "source": [
    "# loc활용하여 변경\n",
    "# df3.loc[df3['성별']==1.0 , '성별'] = '남자'\n",
    "# df3.loc[df3['성별']==2.0 , '성별'] = '여자'"
   ]
  },
  {
   "cell_type": "code",
   "execution_count": null,
   "metadata": {},
   "outputs": [],
   "source": [
    "df3 = df3.replace({'성별' : 1.0},'남자')\n",
    "df3 = df3.replace({'성별' : 2.0},'여자')  \n",
    "df3"
   ]
  },
  {
   "cell_type": "code",
   "execution_count": null,
   "metadata": {},
   "outputs": [],
   "source": [
    "# 업종 = 온라인을 loc로 추출하여 파생변수 새로 생성\n",
    "# df4 = df3.loc[df3['업종'] == '온라인']"
   ]
  },
  {
   "cell_type": "code",
   "execution_count": null,
   "metadata": {},
   "outputs": [],
   "source": [
    "df2 = df2.replace({'성별' : 1.0},'남자')\n",
    "df2 = df2.replace({'성별' : 2.0},'여자')  "
   ]
  },
  {
   "cell_type": "code",
   "execution_count": null,
   "metadata": {},
   "outputs": [],
   "source": [
    "pivot_data = pd.pivot_table(\n",
    "    df2,\n",
    "    index=df2.index,\n",
    "    aggfunc='sum',\n",
    "    values= '총이용금액',\n",
    "    columns = '성별'\n",
    ")\n",
    "\n",
    "pivot_data.plot.line()"
   ]
  }
 ],
 "metadata": {
  "kernelspec": {
   "display_name": "base",
   "language": "python",
   "name": "python3"
  },
  "language_info": {
   "codemirror_mode": {
    "name": "ipython",
    "version": 3
   },
   "file_extension": ".py",
   "mimetype": "text/x-python",
   "name": "python",
   "nbconvert_exporter": "python",
   "pygments_lexer": "ipython3",
   "version": "3.10.9"
  },
  "orig_nbformat": 4
 },
 "nbformat": 4,
 "nbformat_minor": 2
}
