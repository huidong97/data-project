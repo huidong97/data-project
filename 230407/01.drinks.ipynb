{
 "cells": [
  {
   "attachments": {},
   "cell_type": "markdown",
   "metadata": {},
   "source": [
    "##예제\n",
    "1. drinks.csv 파일 로드\n",
    "2. 결측치를 확인\n",
    "3. 데이터프레임의 정보 출력\n",
    "4. continent 컬럼에서 결측치 존재 -> 결측치 'OT'로 대체\n",
    "5. continent 별 spirit_servings 컬럼의 평균,최소,최대,합계를 출력\n",
    "6. total_litres_of_pure_alcohol 컬럼의 평균보다 높은 continent가 어디인지 출력\n",
    "7. 국가별 술 소비량 대비 알콜 비율 컬럼을 추가"
   ]
  },
  {
   "cell_type": "code",
   "execution_count": null,
   "metadata": {},
   "outputs": [],
   "source": [
    "import pandas as pd"
   ]
  },
  {
   "cell_type": "code",
   "execution_count": null,
   "metadata": {},
   "outputs": [],
   "source": [
    "import numpy as np"
   ]
  },
  {
   "cell_type": "code",
   "execution_count": null,
   "metadata": {},
   "outputs": [],
   "source": [
    "# 파일 로드\n",
    "drinks = pd.read_csv(\"../csv/drinks.csv\")"
   ]
  },
  {
   "cell_type": "code",
   "execution_count": null,
   "metadata": {},
   "outputs": [],
   "source": [
    "# 결측치 확인\n",
    "drinks.isna().sum()"
   ]
  },
  {
   "cell_type": "code",
   "execution_count": null,
   "metadata": {},
   "outputs": [],
   "source": [
    "# 데이터프레임의 정보 확인\n",
    "drinks.info()"
   ]
  },
  {
   "cell_type": "code",
   "execution_count": null,
   "metadata": {},
   "outputs": [],
   "source": [
    "# 결측치를 'OT'로 대체\n",
    "# 결측치를 대체하는 함수 -> fillna('OT')\n",
    "# drinks.loc[결측치인 조건,'continent'] = 'OT'\n",
    "\n",
    "drinks['continent'] = drinks['continent'].fillna('OT')\n",
    "drinks.loc[(drinks['continent'].isna()),'continent'] = 'OT'"
   ]
  },
  {
   "cell_type": "code",
   "execution_count": null,
   "metadata": {},
   "outputs": [],
   "source": [
    "# continent별 spirit_servings컬럼의 평균,최소,최대,합계를 출력\n",
    "group_data = drinks[['continent','spirit_servings']].groupby('continent').agg(['mean','min','max','sum'])\n",
    "# drinks.describe()"
   ]
  },
  {
   "cell_type": "code",
   "execution_count": null,
   "metadata": {},
   "outputs": [],
   "source": [
    "pd.pivot_table(\n",
    "    drinks,\n",
    "    index='continent',\n",
    "    values='spirit_servings',\n",
    "    aggfunc=['mean','min','max','sum']\n",
    "\n",
    ")"
   ]
  },
  {
   "cell_type": "code",
   "execution_count": null,
   "metadata": {},
   "outputs": [],
   "source": [
    "import matplotlib.pyplot as plt"
   ]
  },
  {
   "cell_type": "code",
   "execution_count": null,
   "metadata": {},
   "outputs": [],
   "source": [
    "# 바형그래프\n",
    "# 한 화면에 4개의 그래프\n",
    "# bar() x와 y의 값이 필수 항목\n",
    "x = group_data.index\n",
    "\n",
    "#subplot(행의수,열의수,영역지정)\n",
    "plt.subplot(2,2,1)\n",
    "plt.bar(x, group_data['spirit_servings']['mean'])\n",
    "plt.subplot(2,2,2)\n",
    "plt.bar(x, group_data['spirit_servings']['min'])\n",
    "plt.subplot(2,2,3)\n",
    "plt.bar(x, group_data['spirit_servings']['max'])\n",
    "plt.subplot(2,2,4)\n",
    "plt.bar(x, group_data['spirit_servings']['sum'])  #sum의 값이 다른값보다 크기 때문에 서브플롯으로 작성\n",
    "\n",
    "plt.show()\n"
   ]
  },
  {
   "cell_type": "code",
   "execution_count": null,
   "metadata": {},
   "outputs": [],
   "source": [
    "# 전체 알콜의 소비량의 평균보다 높은 대륙은 어디인가?\n",
    "\n",
    "# 전체 알콜의 소비량의 평균\n",
    "total_mean = drinks['total_litres_of_pure_alcohol'].mean()"
   ]
  },
  {
   "cell_type": "code",
   "execution_count": null,
   "metadata": {},
   "outputs": [],
   "source": [
    "group_data2 = drinks[['continent','total_litres_of_pure_alcohol']].groupby('continent').mean()['total_litres_of_pure_alcohol']"
   ]
  },
  {
   "cell_type": "code",
   "execution_count": null,
   "metadata": {},
   "outputs": [],
   "source": [
    "group_data2[group_data2 > total_mean]"
   ]
  },
  {
   "cell_type": "code",
   "execution_count": null,
   "metadata": {},
   "outputs": [],
   "source": [
    "# 국가별 술 소비량 대비 알콜의 비율 생성\n",
    "drinks"
   ]
  },
  {
   "cell_type": "code",
   "execution_count": null,
   "metadata": {},
   "outputs": [],
   "source": [
    "# 국가별 술 소비량 파생변수 생성\n",
    "drinks['total_servings'] = drinks['beer_servings'] + drinks['spirit_servings']+ drinks['wine_servings']"
   ]
  },
  {
   "cell_type": "code",
   "execution_count": null,
   "metadata": {},
   "outputs": [],
   "source": [
    "drinks.head(2)"
   ]
  },
  {
   "cell_type": "code",
   "execution_count": null,
   "metadata": {},
   "outputs": [],
   "source": [
    "# 술 소비량 대비 알콜 비율 파생변수 생성\n",
    "# 알콜 소비량 / 술 소비량 * 100\n",
    "# 결측치가 나온다면 0으로 대체\n",
    "\n",
    "drinks['alcohol_rate'] = (drinks['total_litres_of_pure_alcohol']/drinks['total_servings']*100).fillna(0)"
   ]
  },
  {
   "cell_type": "code",
   "execution_count": null,
   "metadata": {},
   "outputs": [],
   "source": [
    "# 가장 독한술을 먹는 나라는 어디인가?\n",
    "# 우리나라는 얼마나 독한 술을 마시는가?\n",
    "# 북한은 얼마나 독한 술을 먹는가?\n",
    "drinks_rank = drinks.sort_values('alcohol_rate', ascending = False, ignore_index=True)"
   ]
  },
  {
   "cell_type": "code",
   "execution_count": null,
   "metadata": {},
   "outputs": [],
   "source": [
    "drinks_rank.loc[drinks_rank['country'] == 'South Korea']"
   ]
  },
  {
   "cell_type": "code",
   "execution_count": null,
   "metadata": {},
   "outputs": [],
   "source": [
    "drinks_rank.loc[drinks_rank['country'] == 'North Korea']"
   ]
  },
  {
   "cell_type": "code",
   "execution_count": null,
   "metadata": {},
   "outputs": [],
   "source": [
    "# 시각화\n",
    "# 우리나라를 그래프에서 표기\n",
    "x = list(range(len(drinks_rank)))\n",
    "y = drinks_rank['alcohol_rate']\n",
    "\n",
    "# 국가 리스트\n",
    "country_list = drinks_rank['country'].tolist()\n",
    "\n",
    "bar_list = plt.bar(x,y)\n",
    "\n",
    "korea_rank = country_list.index(\"South Korea\")\n",
    "korea_alcohol_rate = drinks_rank.loc[drinks_rank['country'] == 'South Korea','alcohol_rate'].values[0]\n",
    "\n",
    "# 그래프 커스텀\n",
    "\n",
    "# South Korea의 막대의 색상을 변경 , 여기서 index는 위치를 가리킨다\n",
    "# bar_list[country_list.index('South Korea')].set_color('r')\n",
    "bar_list[korea_rank].set_color(\"r\")\n",
    "\n",
    "# 그래프에 글씨와 화살표 추가\n",
    "plt.annotate('South Korea : ' + str(korea_rank + 1),\n",
    "             xy = (korea_rank, korea_alcohol_rate),\n",
    "             xytext = (korea_rank + 10, korea_alcohol_rate + 1.5),\n",
    "             arrowprops= dict(facecolor = 'r', shrink = 0.05))\n",
    "\n",
    "plt.show()"
   ]
  }
 ],
 "metadata": {
  "kernelspec": {
   "display_name": "base",
   "language": "python",
   "name": "python3"
  },
  "language_info": {
   "codemirror_mode": {
    "name": "ipython",
    "version": 3
   },
   "file_extension": ".py",
   "mimetype": "text/x-python",
   "name": "python",
   "nbconvert_exporter": "python",
   "pygments_lexer": "ipython3",
   "version": "3.10.9"
  },
  "orig_nbformat": 4
 },
 "nbformat": 4,
 "nbformat_minor": 2
}
