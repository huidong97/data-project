{
 "cells": [
  {
   "attachments": {},
   "cell_type": "markdown",
   "metadata": {},
   "source": [
    "# 변수\n",
    " - 데이터를 저장하는 공간의 이론\n",
    " > 전역변수\n",
    " - 어디서든 사용할 수 있는 변수\n",
    " > 지역변수\n",
    " - 특정 영역에서 사용 할 수 있는 변수\n",
    " - 영역을 벗어나면 사용이 불가능\n",
    " > 매개변수\n",
    " - 함수에서 특정한 인자값을 받아오기 위한 변수\n",
    " > 클래스 변수\n",
    " - 하나의 클래스에서 독립적이지 않고 공유하는 변수"
   ]
  },
  {
   "cell_type": "code",
   "execution_count": null,
   "metadata": {},
   "outputs": [],
   "source": [
    "a = 10\n",
    "b = 'test'\n",
    "\n",
    "print(a,b)"
   ]
  },
  {
   "attachments": {},
   "cell_type": "markdown",
   "metadata": {},
   "source": [
    "# 경로 (절대 경로 / 상대 경로)\n",
    "> 절대 경로\n",
    "- 절대적인 주소\n",
    "- 환경에 상관 없이 고정된 위치를 표현\n",
    "- ex) \"c\\users\\document\" , \"https://www.google.com\"\n",
    "> 상대 경로\n",
    "- 상대적인 주소\n",
    "- 환경에 따라서 주소가 변화\n",
    "- 현재 작업인 디렉토리에서 이동\n",
    "- ex)\n",
    "   - 현재 디렉토리 : ./\n",
    "   - 상위 디렉토리 : ../\n",
    "   - 하위 디렉토리 : ./폴더명/\n",
    "   - 상위에서 상위로 한번 더 이동 : "
   ]
  },
  {
   "cell_type": "code",
   "execution_count": null,
   "metadata": {},
   "outputs": [],
   "source": [
    "import pandas as pd\n",
    "import matplotlib.pyplot as plt"
   ]
  },
  {
   "cell_type": "code",
   "execution_count": null,
   "metadata": {},
   "outputs": [],
   "source": [
    "# 상위 폴더에서 csv폴더 안에 sales records.csv 파일 로드\n",
    "# 상대경로\n",
    "df = pd.read_csv(\"../csv/Sales Records.csv\")\n",
    "# 절대경로\n",
    "pd.read_csv(\"/Users/gimhuidong/Documents/GitHub/data-project/csv/Sales Records.csv\").head(1)\n",
    "df"
   ]
  },
  {
   "attachments": {},
   "cell_type": "markdown",
   "metadata": {},
   "source": [
    "1. Region, Country, Sales Channel, Units Sold, Unit Price, Unit Cost 컬럼만 따로 추출\n",
    "2. 컬럼의 이름을 권역, 국가, 판매채널, 판매개수, 단가, 원가\n",
    "3. 총단가, 총원가, 총이윤 이라는 파생변수\n",
    "4. 권역별 총이윤의 평균 그래프로 표시(바그래프)\n",
    "5. 국가별 판매채널에 따른 총이윤의 합계를 그래프로 표시(바그래프)"
   ]
  },
  {
   "cell_type": "code",
   "execution_count": null,
   "metadata": {},
   "outputs": [],
   "source": [
    "# 결측치를 확인하는 방법\n",
    "# isna().sum() -> 결측치의 개수를 확인\n",
    "# isna() : 결측치인 경우에는 True 결측치가 아닌 경우에는 False\n",
    "# True는 1로 표현, False는 0으로 표현 -> sum()을 하면 결측치의 개수 확인 가능\n",
    "# info()를 이용하여 데이터의 개수를 확인\n",
    "df.isna().sum()"
   ]
  },
  {
   "cell_type": "code",
   "execution_count": null,
   "metadata": {},
   "outputs": [],
   "source": [
    "# 데이터프레임에서 통계 요약 정보를 확인하는 함수 -> describe()\n",
    "# 데이터의 개수, 평균값, 표준편차, 최소값, 최대값, 1사분위, 중앙값, 3사분위 값을 확인이 가능\n",
    "# 데이터의 형태가 숫자의 형태여야 출력\n",
    "df.describe()"
   ]
  },
  {
   "cell_type": "code",
   "execution_count": null,
   "metadata": {},
   "outputs": [],
   "source": [
    "df.head(1)"
   ]
  },
  {
   "cell_type": "code",
   "execution_count": null,
   "metadata": {},
   "outputs": [],
   "source": [
    "# drop() : 특정 컬럼이나 특정 인덱스를 삭제\n",
    "# drop(조건, axis = n, inplace = bool)\n",
    "# axis 속성의 값은 [ 0:행,1:열 ]\n",
    "# inplace 속성은 True : 기준이 되는 데이터프레임을 변경\n",
    "#              False : 기준이 되는 데이터프레임을 변경하지 않는다(기본값)\n",
    "df.drop(['Item Type'], axis = 1, inplace = True)"
   ]
  },
  {
   "cell_type": "code",
   "execution_count": null,
   "metadata": {},
   "outputs": [],
   "source": [
    "# 특정한 컬럼만 출력\n",
    "df = df[['Region', 'Country', 'Sales Channel', 'Units Sold', 'Unit Price', 'Unit Cost']]"
   ]
  },
  {
   "cell_type": "code",
   "execution_count": null,
   "metadata": {},
   "outputs": [],
   "source": [
    "# 컬럼의 이름을 변경\n",
    "df.columns = ['권역', '국가', '판매채널', '판매개수', '단가', '원가']"
   ]
  },
  {
   "cell_type": "code",
   "execution_count": null,
   "metadata": {},
   "outputs": [],
   "source": [
    "# 특정한 컬럼의 하나만 컬럼의 이름을 변경하려면?\n",
    "# rename(dict)\n",
    "df.rename(columns = {\"권역\" : \"대륙\"})"
   ]
  },
  {
   "cell_type": "code",
   "execution_count": null,
   "metadata": {},
   "outputs": [],
   "source": [
    "# 새로운 파생변수 생성\n",
    "df[\"총단가\"] = df[\"판매개수\"] * df[\"단가\"]\n",
    "df[\"총원가\"] = df[\"판매개수\"] * df[\"원가\"]\n",
    "df[\"총이윤\"] = df[\"총단가\"] - df[\"총원가\"]\n",
    "df.head(1)"
   ]
  },
  {
   "attachments": {},
   "cell_type": "markdown",
   "metadata": {},
   "source": [
    "# 그룹화\n",
    "> groupby()\n",
    "- 특정한 컬럼을 지정하여 데이터들이 같은 값들을 그룹화\n",
    "- 그룹화된 데이터들의 평균이나 합계, 최대, 최소, 표준편차와 같은 통계량을 생성\n",
    "> pivot_table()\n",
    "- 인덱스와 컬럼, 벨류를 지정하여 그룹화\n",
    "- 그룹화된 데이터들의 통계량을 생성"
   ]
  },
  {
   "cell_type": "code",
   "execution_count": null,
   "metadata": {},
   "outputs": [],
   "source": [
    "df.groupby('권역')['총이윤'].mean().plot.bar()"
   ]
  },
  {
   "cell_type": "code",
   "execution_count": null,
   "metadata": {},
   "outputs": [],
   "source": [
    "pd.pivot_table(\n",
    "    df,\n",
    "    index = '권역',\n",
    "    columns = '판매채널',\n",
    "    values ='총이윤',\n",
    "    aggfunc = 'sum'\n",
    ").plot.bar()"
   ]
  },
  {
   "attachments": {},
   "cell_type": "markdown",
   "metadata": {},
   "source": [
    "# 인덱스를 이동하는 함수\n",
    "> shift(n)\n",
    "- 인덱스를 n만큼 이동\n",
    "- n = 1 이 기본값 : 바로 전의 인덱스의 값을 가지고 온다.\n",
    "- 다음의 인덱스의 값을 가지고 오려면? n = -1\n",
    "\n",
    "# 값의 차이를 출력하는 함수\n",
    "> diff(periods = n)\n",
    "- 바로 전의 인덱스의 값과의 차이를 출력\n",
    "- periods 기본값은 1 shift와 마찬가지로 행,열의 수를 지정\n",
    "\n",
    "# 결측치를 다른 값을 대체하는 함수\n",
    "> fillna(n, method=?)\n",
    "- n을 지정하면 해당하는 값으로 결측치가 대체\n",
    "- method 속성 : ffill, bfill\n",
    "   - ffill : 전의 행의 값이 존재하면 그 값으로 대체\n",
    "   - bfill : 후의 행의 값이 존재하면 그 값으로 대체"
   ]
  },
  {
   "cell_type": "code",
   "execution_count": null,
   "metadata": {},
   "outputs": [],
   "source": [
    "corona = pd.read_csv(\"../csv/corona.csv\",index_col = [0]) # index_col = [0] : 첫번째 컬럼을 인덱스로 사용하겠다"
   ]
  },
  {
   "cell_type": "code",
   "execution_count": null,
   "metadata": {},
   "outputs": [],
   "source": [
    "corona[\"accExamCnt\"] = corona[\"accExamCnt\"].fillna(method = \"bfill\")\n",
    "corona[\"accDefRate\"] = corona[\"accDefRate\"].fillna(method = \"bfill\")"
   ]
  },
  {
   "attachments": {},
   "cell_type": "markdown",
   "metadata": {},
   "source": [
    "> apply()\n",
    "- 데이터프레임에서 각 항목들의 데이터를 변환 시켜주는 함수\n",
    "- 표의 형태의 각 셀의 값 -> apply(연산) -> 연산 안에 각 셀의 값을 넣어서 변환\n",
    "> lambda()\n",
    "- 함수를 선언과 동시에 호출을 하는 함수\n",
    "> map()\n",
    "- 리스트, 튜플 형태의 데이터  각 항목들을 변환 시켜주는 함수"
   ]
  },
  {
   "cell_type": "code",
   "execution_count": null,
   "metadata": {},
   "outputs": [],
   "source": [
    "# apply를 사용하여 새로운 파생변수(H/L)에 accDefRate의 값이 1.55보다 크면 High\n",
    "# 아니면 Low 의 값을 대입\n",
    "\n",
    "# apply + 일반함수\n",
    "def change(x):\n",
    "    if x > 1.55:\n",
    "        return 'High'\n",
    "    else:\n",
    "        return 'Low'\n",
    "    \n",
    "corona['accDefRate'].apply(change)    "
   ]
  },
  {
   "cell_type": "code",
   "execution_count": null,
   "metadata": {},
   "outputs": [],
   "source": [
    "# apply + lambda\n",
    "\n",
    "# if문을 한줄로 사용 : 참인경우 값 if 조건식 else 거짓인경우 값\n",
    "\n",
    "corona['accDefRate'].apply(lambda x : 'High' if x > 1.55 else 'Low').value_counts()"
   ]
  },
  {
   "attachments": {},
   "cell_type": "markdown",
   "metadata": {},
   "source": [
    "# 데이터프레임의 결합\n",
    "> concat()\n",
    "- axis 속성 0,1 행을 결합을 할지, 열을 결합을 할지 지정\n",
    "- 단순하게 데이터프레임을 결합\n",
    "> merge()\n",
    "- 특정한 조건을 기준으로 하여 데이터프레임을 결합\n",
    "- on 속성에서 합쳐질 데이터프레임의 조건을 넣어주는 부분(컬럼의 이름)\n",
    "- 조건에 맞는 컬럼의 값을 넣어준다\n",
    "- how 속성\n",
    "   - left : 왼쪽에 있는 데이터프레임을 기준으로 결합\n",
    "   - right : 오른쪽에 있는 데이터프레임을 기준으로 결합\n",
    "   - inner : 두 데이터프레임의 교집합\n",
    "   - outer : 두 데이터프레임의 합집합"
   ]
  },
  {
   "cell_type": "code",
   "execution_count": null,
   "metadata": {},
   "outputs": [],
   "source": [
    "# csv폴더 안에 num_3 폴더에 있는 파일들을 로드하여 데이터프레임 결합\n",
    "# 4개의 파일 모두 조인 결합\n",
    "campagin = pd.read_csv(\"../csv/num_3/campaign_master.csv\")\n",
    "class_master = pd.read_csv(\"../csv/num_3/class_master.csv\")\n",
    "customer_master = pd.read_csv(\"../csv/num_3/customer_master.csv\")\n",
    "use_log = pd.read_csv(\"../csv/num_3/use_log.csv\")"
   ]
  },
  {
   "cell_type": "code",
   "execution_count": null,
   "metadata": {},
   "outputs": [],
   "source": [
    "campagin.head(1)"
   ]
  },
  {
   "cell_type": "code",
   "execution_count": null,
   "metadata": {},
   "outputs": [],
   "source": [
    "class_master.head(1)"
   ]
  },
  {
   "cell_type": "code",
   "execution_count": null,
   "metadata": {},
   "outputs": [],
   "source": [
    "customer_master.head(1)"
   ]
  },
  {
   "cell_type": "code",
   "execution_count": null,
   "metadata": {},
   "outputs": [],
   "source": [
    "use_log.head(1)"
   ]
  },
  {
   "cell_type": "code",
   "execution_count": null,
   "metadata": {},
   "outputs": [],
   "source": [
    "data = pd.merge(campagin,customer_master, how='inner',on='campaign_id')"
   ]
  },
  {
   "cell_type": "code",
   "execution_count": null,
   "metadata": {},
   "outputs": [],
   "source": [
    "data2 = pd.merge(data,class_master, how='inner',on='class')"
   ]
  },
  {
   "cell_type": "code",
   "execution_count": null,
   "metadata": {},
   "outputs": [],
   "source": [
    "data3 = pd.merge(data2,use_log, how='inner',on='customer_id')"
   ]
  },
  {
   "cell_type": "code",
   "execution_count": null,
   "metadata": {},
   "outputs": [],
   "source": [
    "data3.head()"
   ]
  },
  {
   "attachments": {},
   "cell_type": "markdown",
   "metadata": {},
   "source": [
    "# 시계열 데이터\n",
    "> to_datetime(데이터, format=)\n",
    "- 해당하는 데이터를 시계열 데이터로 변환\n",
    "- format의 속성은 변경 시키려는 데이터의 구성을 대입\n",
    "- ex) 202001 -> format = \"%Y%m\""
   ]
  },
  {
   "cell_type": "code",
   "execution_count": null,
   "metadata": {},
   "outputs": [],
   "source": [
    "data3.info() # 시계열로 바뀐것을 확인 가능"
   ]
  },
  {
   "cell_type": "code",
   "execution_count": null,
   "metadata": {},
   "outputs": [],
   "source": [
    "# start_date 컬럼의 데이터의 타입을 시계열 변경\n",
    "# 2019년1월1일 이후 데이터만 출력\n",
    "data3['start_date'] = pd.to_datetime(data3['start_date'])"
   ]
  },
  {
   "cell_type": "code",
   "execution_count": null,
   "metadata": {},
   "outputs": [],
   "source": [
    "data3.loc[data3['start_date'] >= '2019-01-01']"
   ]
  },
  {
   "attachments": {},
   "cell_type": "markdown",
   "metadata": {},
   "source": [
    "1. 이용 내역\n",
    "2. 파생변수 2개 생성\n",
    "3. weekday 요일 파생변수(use date를 기준으로 요일 생성)\n",
    "4. 년월 파생변수 하나 생성(use date를 기준으로 요일 생성)\n",
    "5. 요일별 이용 여부를 계산"
   ]
  },
  {
   "cell_type": "code",
   "execution_count": null,
   "metadata": {},
   "outputs": [],
   "source": [
    "# usedate를 시계열 변환\n",
    "data3['usedate'] = pd.to_datetime(data3['usedate'])\n"
   ]
  },
  {
   "cell_type": "code",
   "execution_count": null,
   "metadata": {},
   "outputs": [],
   "source": [
    "data3['weekday'] = data3['usedate'].dt.weekday\n",
    "data3.head(2)"
   ]
  },
  {
   "cell_type": "code",
   "execution_count": null,
   "metadata": {},
   "outputs": [],
   "source": [
    "data3['년월'] = data3['usedate'].dt.strftime(\"%Y-%m\")\n",
    "data3.head(2)"
   ]
  },
  {
   "cell_type": "code",
   "execution_count": null,
   "metadata": {},
   "outputs": [],
   "source": [
    "data3['weekday'].value_counts()"
   ]
  },
  {
   "cell_type": "code",
   "execution_count": null,
   "metadata": {},
   "outputs": [],
   "source": [
    "use_weekday = data3.groupby(['customer_id', '년월', 'weekday'], as_index=False).count()[['customer_id', '년월', 'weekday', 'log_id']]\n",
    "use_weekday.rename(columns={'log_id' : 'count'}, inplace=True)\n",
    "use_weekday.head(3)"
   ]
  },
  {
   "cell_type": "code",
   "execution_count": null,
   "metadata": {},
   "outputs": [],
   "source": [
    "# 각 회원별 가장 많은 count를 가지는 요일을 출력\n",
    "use_weekday.groupby('customer_id').max()[['weekday','count']]"
   ]
  },
  {
   "cell_type": "code",
   "execution_count": null,
   "metadata": {},
   "outputs": [],
   "source": []
  }
 ],
 "metadata": {
  "kernelspec": {
   "display_name": "base",
   "language": "python",
   "name": "python3"
  },
  "language_info": {
   "codemirror_mode": {
    "name": "ipython",
    "version": 3
   },
   "file_extension": ".py",
   "mimetype": "text/x-python",
   "name": "python",
   "nbconvert_exporter": "python",
   "pygments_lexer": "ipython3",
   "version": "3.10.9"
  },
  "orig_nbformat": 4
 },
 "nbformat": 4,
 "nbformat_minor": 2
}
