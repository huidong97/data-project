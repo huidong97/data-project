{
 "cells": [
  {
   "cell_type": "code",
   "execution_count": null,
   "metadata": {},
   "outputs": [],
   "source": [
    "import matplotlib.pyplot as plt"
   ]
  },
  {
   "cell_type": "code",
   "execution_count": null,
   "metadata": {},
   "outputs": [],
   "source": [
    "#선 그래프\n",
    "x = [1,2,3,4]\n",
    "y = [5,3,2,1]\n",
    "\n",
    "plt.plot(x,y)\n",
    "plt.show() #print랑 같은 느낌 "
   ]
  },
  {
   "cell_type": "code",
   "execution_count": null,
   "metadata": {},
   "outputs": [],
   "source": [
    "# 막대그래프\n",
    "x = [1,2,3,4]\n",
    "y = [80,70,90,60]\n",
    "\n",
    "plt.barh(x,y) #h붙이면 막대를 눕게 할수있다\n",
    "plt.show()"
   ]
  },
  {
   "cell_type": "code",
   "execution_count": null,
   "metadata": {},
   "outputs": [],
   "source": [
    "import numpy as np"
   ]
  },
  {
   "cell_type": "code",
   "execution_count": null,
   "metadata": {},
   "outputs": [],
   "source": [
    "x = np.random.rand(50)\n",
    "y = np.random.rand(50)\n",
    "color = np.random.rand(50)\n",
    "area = (20*np.random.rand(50))**2\n",
    "\n",
    "# s는 크기, c는 색, alpha는 투명도\n",
    "plt.scatter(x, y, s = area, c= color, alpha = 0.6)\n",
    "plt.show()"
   ]
  },
  {
   "cell_type": "code",
   "execution_count": null,
   "metadata": {},
   "outputs": [],
   "source": [
    "import seaborn as sns"
   ]
  },
  {
   "cell_type": "code",
   "execution_count": null,
   "metadata": {},
   "outputs": [],
   "source": [
    "import pandas as pd"
   ]
  },
  {
   "cell_type": "code",
   "execution_count": null,
   "metadata": {},
   "outputs": [],
   "source": [
    "# drinks.csv 파일 로드\n",
    "drinks = pd.read_csv(\"../csv/drinks.csv\")\n",
    "drinks.head()"
   ]
  },
  {
   "cell_type": "code",
   "execution_count": null,
   "metadata": {},
   "outputs": [],
   "source": [
    "#상관계수 행렬 출력\n",
    "corr = drinks[\n",
    "[\n",
    "    'beer_servings',\n",
    "    'spirit_servings',\n",
    "    'wine_servings',\n",
    "    'total_litres_of_pure_alcohol'\n",
    "]\n",
    "].corr(method='pearson')\n",
    "corr"
   ]
  },
  {
   "cell_type": "code",
   "execution_count": null,
   "metadata": {},
   "outputs": [],
   "source": [
    "#히트맵 출력\n",
    "cols_view = ['beer','spirit','wine','alcohol']\n",
    "\n",
    "sns.set(font_scale=1.5)\n",
    "\n",
    "hm = sns.heatmap(\n",
    "    corr.values,\n",
    "    cbar = True,  #사이드바\n",
    "    annot = True, #히트맵 숫자 표시\n",
    "    square = True, #정사각형 여부\n",
    "    fmt = '.2f', #소수점 표시\n",
    "    annot_kws = {'size' : 10}, #글자의 크기\n",
    "    xticklabels = cols_view,\n",
    "    yticklabels = cols_view\n",
    ")\n",
    "\n",
    "plt.tight_layout()\n",
    "plt.show()"
   ]
  },
  {
   "cell_type": "code",
   "execution_count": null,
   "metadata": {},
   "outputs": [],
   "source": [
    "sns.set(style='whitegrid',context = 'notebook')\n",
    "\n",
    "sns.pairplot(\n",
    "    drinks[\n",
    "[\n",
    "    'beer_servings',\n",
    "    'spirit_servings',\n",
    "    'wine_servings',\n",
    "    'total_litres_of_pure_alcohol'\n",
    "]\n",
    "],\n",
    "height = 2.5\n",
    ")"
   ]
  },
  {
   "cell_type": "code",
   "execution_count": null,
   "metadata": {},
   "outputs": [],
   "source": []
  }
 ],
 "metadata": {
  "kernelspec": {
   "display_name": "base",
   "language": "python",
   "name": "python3"
  },
  "language_info": {
   "codemirror_mode": {
    "name": "ipython",
    "version": 3
   },
   "file_extension": ".py",
   "mimetype": "text/x-python",
   "name": "python",
   "nbconvert_exporter": "python",
   "pygments_lexer": "ipython3",
   "version": "3.10.9"
  },
  "orig_nbformat": 4
 },
 "nbformat": 4,
 "nbformat_minor": 2
}
