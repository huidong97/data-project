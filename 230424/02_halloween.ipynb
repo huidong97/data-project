{
 "cells": [
  {
   "cell_type": "code",
   "execution_count": 3,
   "metadata": {},
   "outputs": [],
   "source": [
    "import pandas as pd"
   ]
  },
  {
   "cell_type": "code",
   "execution_count": 4,
   "metadata": {},
   "outputs": [],
   "source": [
    "df = pd.read_csv(\"../csv/AAPL.csv\")"
   ]
  },
  {
   "cell_type": "code",
   "execution_count": 5,
   "metadata": {},
   "outputs": [],
   "source": [
    "# 컬럼의 데이터를 인덱스로 변경\n",
    "# set_index(컬럼명)\n",
    "df = df.set_index('Date')"
   ]
  },
  {
   "cell_type": "code",
   "execution_count": 6,
   "metadata": {},
   "outputs": [],
   "source": [
    "# 컬럼의 이름을 변경하려면?\n",
    "df.columns = ['시가', '고가', '저가', '종가', '수정종가', '거래량']"
   ]
  },
  {
   "cell_type": "code",
   "execution_count": 7,
   "metadata": {},
   "outputs": [],
   "source": [
    "df.index.name = \"날짜\"\n"
   ]
  },
  {
   "cell_type": "code",
   "execution_count": 8,
   "metadata": {},
   "outputs": [
    {
     "data": {
      "text/html": [
       "<div>\n",
       "<style scoped>\n",
       "    .dataframe tbody tr th:only-of-type {\n",
       "        vertical-align: middle;\n",
       "    }\n",
       "\n",
       "    .dataframe tbody tr th {\n",
       "        vertical-align: top;\n",
       "    }\n",
       "\n",
       "    .dataframe thead th {\n",
       "        text-align: right;\n",
       "    }\n",
       "</style>\n",
       "<table border=\"1\" class=\"dataframe\">\n",
       "  <thead>\n",
       "    <tr style=\"text-align: right;\">\n",
       "      <th></th>\n",
       "      <th>고가</th>\n",
       "      <th>저가</th>\n",
       "    </tr>\n",
       "    <tr>\n",
       "      <th>날짜</th>\n",
       "      <th></th>\n",
       "      <th></th>\n",
       "    </tr>\n",
       "  </thead>\n",
       "  <tbody>\n",
       "    <tr>\n",
       "      <th>1980-12-12</th>\n",
       "      <td>0.515625</td>\n",
       "      <td>0.513393</td>\n",
       "    </tr>\n",
       "    <tr>\n",
       "      <th>1980-12-15</th>\n",
       "      <td>0.488839</td>\n",
       "      <td>0.486607</td>\n",
       "    </tr>\n",
       "    <tr>\n",
       "      <th>1980-12-16</th>\n",
       "      <td>0.453125</td>\n",
       "      <td>0.450893</td>\n",
       "    </tr>\n",
       "    <tr>\n",
       "      <th>1980-12-17</th>\n",
       "      <td>0.464286</td>\n",
       "      <td>0.462054</td>\n",
       "    </tr>\n",
       "    <tr>\n",
       "      <th>1980-12-18</th>\n",
       "      <td>0.477679</td>\n",
       "      <td>0.475446</td>\n",
       "    </tr>\n",
       "    <tr>\n",
       "      <th>...</th>\n",
       "      <td>...</td>\n",
       "      <td>...</td>\n",
       "    </tr>\n",
       "    <tr>\n",
       "      <th>2019-06-18</th>\n",
       "      <td>200.289993</td>\n",
       "      <td>195.210007</td>\n",
       "    </tr>\n",
       "    <tr>\n",
       "      <th>2019-06-19</th>\n",
       "      <td>199.880005</td>\n",
       "      <td>197.309998</td>\n",
       "    </tr>\n",
       "    <tr>\n",
       "      <th>2019-06-20</th>\n",
       "      <td>200.610001</td>\n",
       "      <td>198.029999</td>\n",
       "    </tr>\n",
       "    <tr>\n",
       "      <th>2019-06-21</th>\n",
       "      <td>200.850006</td>\n",
       "      <td>198.149994</td>\n",
       "    </tr>\n",
       "    <tr>\n",
       "      <th>2019-06-24</th>\n",
       "      <td>200.160004</td>\n",
       "      <td>198.169998</td>\n",
       "    </tr>\n",
       "  </tbody>\n",
       "</table>\n",
       "<p>9715 rows × 2 columns</p>\n",
       "</div>"
      ],
      "text/plain": [
       "                    고가          저가\n",
       "날짜                                \n",
       "1980-12-12    0.515625    0.513393\n",
       "1980-12-15    0.488839    0.486607\n",
       "1980-12-16    0.453125    0.450893\n",
       "1980-12-17    0.464286    0.462054\n",
       "1980-12-18    0.477679    0.475446\n",
       "...                ...         ...\n",
       "2019-06-18  200.289993  195.210007\n",
       "2019-06-19  199.880005  197.309998\n",
       "2019-06-20  200.610001  198.029999\n",
       "2019-06-21  200.850006  198.149994\n",
       "2019-06-24  200.160004  198.169998\n",
       "\n",
       "[9715 rows x 2 columns]"
      ]
     },
     "execution_count": 8,
     "metadata": {},
     "output_type": "execute_result"
    }
   ],
   "source": [
    "# 데이터프레임에서 특정 컬럼으로 필터\n",
    "df.loc[:,'시가' : '수정종가']\n",
    "df.iloc[:, 1:3]"
   ]
  },
  {
   "cell_type": "code",
   "execution_count": 9,
   "metadata": {},
   "outputs": [
    {
     "data": {
      "text/html": [
       "<div>\n",
       "<style scoped>\n",
       "    .dataframe tbody tr th:only-of-type {\n",
       "        vertical-align: middle;\n",
       "    }\n",
       "\n",
       "    .dataframe tbody tr th {\n",
       "        vertical-align: top;\n",
       "    }\n",
       "\n",
       "    .dataframe thead th {\n",
       "        text-align: right;\n",
       "    }\n",
       "</style>\n",
       "<table border=\"1\" class=\"dataframe\">\n",
       "  <thead>\n",
       "    <tr style=\"text-align: right;\">\n",
       "      <th></th>\n",
       "      <th>시가</th>\n",
       "      <th>고가</th>\n",
       "      <th>저가</th>\n",
       "      <th>종가</th>\n",
       "      <th>수정종가</th>\n",
       "      <th>거래량</th>\n",
       "    </tr>\n",
       "    <tr>\n",
       "      <th>날짜</th>\n",
       "      <th></th>\n",
       "      <th></th>\n",
       "      <th></th>\n",
       "      <th></th>\n",
       "      <th></th>\n",
       "      <th></th>\n",
       "    </tr>\n",
       "  </thead>\n",
       "  <tbody>\n",
       "    <tr>\n",
       "      <th>2012-09-19</th>\n",
       "      <td>100.037140</td>\n",
       "      <td>100.570000</td>\n",
       "      <td>99.938568</td>\n",
       "      <td>100.300003</td>\n",
       "      <td>88.242981</td>\n",
       "      <td>81718700.0</td>\n",
       "    </tr>\n",
       "    <tr>\n",
       "      <th>2012-09-21</th>\n",
       "      <td>100.344284</td>\n",
       "      <td>100.724289</td>\n",
       "      <td>99.908569</td>\n",
       "      <td>100.012856</td>\n",
       "      <td>87.990341</td>\n",
       "      <td>142897300.0</td>\n",
       "    </tr>\n",
       "    <tr>\n",
       "      <th>2014-08-20</th>\n",
       "      <td>100.440002</td>\n",
       "      <td>101.089996</td>\n",
       "      <td>99.949997</td>\n",
       "      <td>100.570000</td>\n",
       "      <td>92.633347</td>\n",
       "      <td>52699000.0</td>\n",
       "    </tr>\n",
       "    <tr>\n",
       "      <th>2014-08-21</th>\n",
       "      <td>100.570000</td>\n",
       "      <td>100.940002</td>\n",
       "      <td>100.110001</td>\n",
       "      <td>100.580002</td>\n",
       "      <td>92.642563</td>\n",
       "      <td>33478000.0</td>\n",
       "    </tr>\n",
       "    <tr>\n",
       "      <th>2014-08-22</th>\n",
       "      <td>100.290001</td>\n",
       "      <td>101.470001</td>\n",
       "      <td>100.190002</td>\n",
       "      <td>101.320000</td>\n",
       "      <td>93.324173</td>\n",
       "      <td>44184000.0</td>\n",
       "    </tr>\n",
       "    <tr>\n",
       "      <th>...</th>\n",
       "      <td>...</td>\n",
       "      <td>...</td>\n",
       "      <td>...</td>\n",
       "      <td>...</td>\n",
       "      <td>...</td>\n",
       "      <td>...</td>\n",
       "    </tr>\n",
       "    <tr>\n",
       "      <th>2019-06-18</th>\n",
       "      <td>196.050003</td>\n",
       "      <td>200.289993</td>\n",
       "      <td>195.210007</td>\n",
       "      <td>198.449997</td>\n",
       "      <td>198.449997</td>\n",
       "      <td>26551000.0</td>\n",
       "    </tr>\n",
       "    <tr>\n",
       "      <th>2019-06-19</th>\n",
       "      <td>199.679993</td>\n",
       "      <td>199.880005</td>\n",
       "      <td>197.309998</td>\n",
       "      <td>197.869995</td>\n",
       "      <td>197.869995</td>\n",
       "      <td>21124200.0</td>\n",
       "    </tr>\n",
       "    <tr>\n",
       "      <th>2019-06-20</th>\n",
       "      <td>200.369995</td>\n",
       "      <td>200.610001</td>\n",
       "      <td>198.029999</td>\n",
       "      <td>199.460007</td>\n",
       "      <td>199.460007</td>\n",
       "      <td>21514000.0</td>\n",
       "    </tr>\n",
       "    <tr>\n",
       "      <th>2019-06-21</th>\n",
       "      <td>198.800003</td>\n",
       "      <td>200.850006</td>\n",
       "      <td>198.149994</td>\n",
       "      <td>198.779999</td>\n",
       "      <td>198.779999</td>\n",
       "      <td>47735300.0</td>\n",
       "    </tr>\n",
       "    <tr>\n",
       "      <th>2019-06-24</th>\n",
       "      <td>198.539993</td>\n",
       "      <td>200.160004</td>\n",
       "      <td>198.169998</td>\n",
       "      <td>199.169998</td>\n",
       "      <td>199.169998</td>\n",
       "      <td>9025362.0</td>\n",
       "    </tr>\n",
       "  </tbody>\n",
       "</table>\n",
       "<p>1107 rows × 6 columns</p>\n",
       "</div>"
      ],
      "text/plain": [
       "                    시가          고가          저가          종가        수정종가  \\\n",
       "날짜                                                                       \n",
       "2012-09-19  100.037140  100.570000   99.938568  100.300003   88.242981   \n",
       "2012-09-21  100.344284  100.724289   99.908569  100.012856   87.990341   \n",
       "2014-08-20  100.440002  101.089996   99.949997  100.570000   92.633347   \n",
       "2014-08-21  100.570000  100.940002  100.110001  100.580002   92.642563   \n",
       "2014-08-22  100.290001  101.470001  100.190002  101.320000   93.324173   \n",
       "...                ...         ...         ...         ...         ...   \n",
       "2019-06-18  196.050003  200.289993  195.210007  198.449997  198.449997   \n",
       "2019-06-19  199.679993  199.880005  197.309998  197.869995  197.869995   \n",
       "2019-06-20  200.369995  200.610001  198.029999  199.460007  199.460007   \n",
       "2019-06-21  198.800003  200.850006  198.149994  198.779999  198.779999   \n",
       "2019-06-24  198.539993  200.160004  198.169998  199.169998  199.169998   \n",
       "\n",
       "                    거래량  \n",
       "날짜                       \n",
       "2012-09-19   81718700.0  \n",
       "2012-09-21  142897300.0  \n",
       "2014-08-20   52699000.0  \n",
       "2014-08-21   33478000.0  \n",
       "2014-08-22   44184000.0  \n",
       "...                 ...  \n",
       "2019-06-18   26551000.0  \n",
       "2019-06-19   21124200.0  \n",
       "2019-06-20   21514000.0  \n",
       "2019-06-21   47735300.0  \n",
       "2019-06-24    9025362.0  \n",
       "\n",
       "[1107 rows x 6 columns]"
      ]
     },
     "execution_count": 9,
     "metadata": {},
     "output_type": "execute_result"
    }
   ],
   "source": [
    "# 시가가 100달러 이상인 경우\n",
    "df.loc[df['시가'] >= 100]"
   ]
  },
  {
   "cell_type": "code",
   "execution_count": 10,
   "metadata": {},
   "outputs": [
    {
     "data": {
      "text/html": [
       "<div>\n",
       "<style scoped>\n",
       "    .dataframe tbody tr th:only-of-type {\n",
       "        vertical-align: middle;\n",
       "    }\n",
       "\n",
       "    .dataframe tbody tr th {\n",
       "        vertical-align: top;\n",
       "    }\n",
       "\n",
       "    .dataframe thead th {\n",
       "        text-align: right;\n",
       "    }\n",
       "</style>\n",
       "<table border=\"1\" class=\"dataframe\">\n",
       "  <thead>\n",
       "    <tr style=\"text-align: right;\">\n",
       "      <th></th>\n",
       "      <th>시가</th>\n",
       "      <th>고가</th>\n",
       "      <th>저가</th>\n",
       "      <th>종가</th>\n",
       "      <th>수정종가</th>\n",
       "      <th>거래량</th>\n",
       "    </tr>\n",
       "    <tr>\n",
       "      <th>날짜</th>\n",
       "      <th></th>\n",
       "      <th></th>\n",
       "      <th></th>\n",
       "      <th></th>\n",
       "      <th></th>\n",
       "      <th></th>\n",
       "    </tr>\n",
       "  </thead>\n",
       "  <tbody>\n",
       "    <tr>\n",
       "      <th>2012-09-19</th>\n",
       "      <td>100.037140</td>\n",
       "      <td>100.570000</td>\n",
       "      <td>99.938568</td>\n",
       "      <td>100.300003</td>\n",
       "      <td>88.242981</td>\n",
       "      <td>81718700.0</td>\n",
       "    </tr>\n",
       "    <tr>\n",
       "      <th>2012-09-21</th>\n",
       "      <td>100.344284</td>\n",
       "      <td>100.724289</td>\n",
       "      <td>99.908569</td>\n",
       "      <td>100.012856</td>\n",
       "      <td>87.990341</td>\n",
       "      <td>142897300.0</td>\n",
       "    </tr>\n",
       "    <tr>\n",
       "      <th>2014-08-20</th>\n",
       "      <td>100.440002</td>\n",
       "      <td>101.089996</td>\n",
       "      <td>99.949997</td>\n",
       "      <td>100.570000</td>\n",
       "      <td>92.633347</td>\n",
       "      <td>52699000.0</td>\n",
       "    </tr>\n",
       "    <tr>\n",
       "      <th>2014-08-21</th>\n",
       "      <td>100.570000</td>\n",
       "      <td>100.940002</td>\n",
       "      <td>100.110001</td>\n",
       "      <td>100.580002</td>\n",
       "      <td>92.642563</td>\n",
       "      <td>33478000.0</td>\n",
       "    </tr>\n",
       "    <tr>\n",
       "      <th>2014-08-22</th>\n",
       "      <td>100.290001</td>\n",
       "      <td>101.470001</td>\n",
       "      <td>100.190002</td>\n",
       "      <td>101.320000</td>\n",
       "      <td>93.324173</td>\n",
       "      <td>44184000.0</td>\n",
       "    </tr>\n",
       "    <tr>\n",
       "      <th>...</th>\n",
       "      <td>...</td>\n",
       "      <td>...</td>\n",
       "      <td>...</td>\n",
       "      <td>...</td>\n",
       "      <td>...</td>\n",
       "      <td>...</td>\n",
       "    </tr>\n",
       "    <tr>\n",
       "      <th>2017-07-13</th>\n",
       "      <td>145.500000</td>\n",
       "      <td>148.490005</td>\n",
       "      <td>145.440002</td>\n",
       "      <td>147.770004</td>\n",
       "      <td>143.326370</td>\n",
       "      <td>25199400.0</td>\n",
       "    </tr>\n",
       "    <tr>\n",
       "      <th>2017-07-14</th>\n",
       "      <td>147.970001</td>\n",
       "      <td>149.330002</td>\n",
       "      <td>147.330002</td>\n",
       "      <td>149.039993</td>\n",
       "      <td>144.558197</td>\n",
       "      <td>20132100.0</td>\n",
       "    </tr>\n",
       "    <tr>\n",
       "      <th>2019-01-03</th>\n",
       "      <td>143.979996</td>\n",
       "      <td>145.720001</td>\n",
       "      <td>142.000000</td>\n",
       "      <td>142.190002</td>\n",
       "      <td>141.039642</td>\n",
       "      <td>91244100.0</td>\n",
       "    </tr>\n",
       "    <tr>\n",
       "      <th>2019-01-04</th>\n",
       "      <td>144.529999</td>\n",
       "      <td>148.550003</td>\n",
       "      <td>143.800003</td>\n",
       "      <td>148.259995</td>\n",
       "      <td>147.060516</td>\n",
       "      <td>58607100.0</td>\n",
       "    </tr>\n",
       "    <tr>\n",
       "      <th>2019-01-07</th>\n",
       "      <td>148.699997</td>\n",
       "      <td>148.830002</td>\n",
       "      <td>145.899994</td>\n",
       "      <td>147.929993</td>\n",
       "      <td>146.733185</td>\n",
       "      <td>54777800.0</td>\n",
       "    </tr>\n",
       "  </tbody>\n",
       "</table>\n",
       "<p>598 rows × 6 columns</p>\n",
       "</div>"
      ],
      "text/plain": [
       "                    시가          고가          저가          종가        수정종가  \\\n",
       "날짜                                                                       \n",
       "2012-09-19  100.037140  100.570000   99.938568  100.300003   88.242981   \n",
       "2012-09-21  100.344284  100.724289   99.908569  100.012856   87.990341   \n",
       "2014-08-20  100.440002  101.089996   99.949997  100.570000   92.633347   \n",
       "2014-08-21  100.570000  100.940002  100.110001  100.580002   92.642563   \n",
       "2014-08-22  100.290001  101.470001  100.190002  101.320000   93.324173   \n",
       "...                ...         ...         ...         ...         ...   \n",
       "2017-07-13  145.500000  148.490005  145.440002  147.770004  143.326370   \n",
       "2017-07-14  147.970001  149.330002  147.330002  149.039993  144.558197   \n",
       "2019-01-03  143.979996  145.720001  142.000000  142.190002  141.039642   \n",
       "2019-01-04  144.529999  148.550003  143.800003  148.259995  147.060516   \n",
       "2019-01-07  148.699997  148.830002  145.899994  147.929993  146.733185   \n",
       "\n",
       "                    거래량  \n",
       "날짜                       \n",
       "2012-09-19   81718700.0  \n",
       "2012-09-21  142897300.0  \n",
       "2014-08-20   52699000.0  \n",
       "2014-08-21   33478000.0  \n",
       "2014-08-22   44184000.0  \n",
       "...                 ...  \n",
       "2017-07-13   25199400.0  \n",
       "2017-07-14   20132100.0  \n",
       "2019-01-03   91244100.0  \n",
       "2019-01-04   58607100.0  \n",
       "2019-01-07   54777800.0  \n",
       "\n",
       "[598 rows x 6 columns]"
      ]
     },
     "execution_count": 10,
     "metadata": {},
     "output_type": "execute_result"
    }
   ],
   "source": [
    "# query() 함수\n",
    "# query(조건식)\n",
    "df.query(\"시가 >= 100 & 고가 < 150\")"
   ]
  },
  {
   "cell_type": "code",
   "execution_count": 11,
   "metadata": {},
   "outputs": [],
   "source": [
    "data = [\n",
    "    [100, 900, 800, 700], \n",
    "    [1200, 1400, 900, 800]\n",
    "]\n",
    "columns = [\n",
    "    ['영업이익', '영업이익', '당기순이익', '당기순이익'],\n",
    "    ['컨센서스', '잠정치', '컨센서스', '잠정치']\n",
    "]\n",
    "\n",
    "df = pd.DataFrame(data, columns=columns)"
   ]
  },
  {
   "cell_type": "code",
   "execution_count": 12,
   "metadata": {},
   "outputs": [],
   "source": [
    "# stack(), unstack()\n",
    "stack_df = df.stack()"
   ]
  },
  {
   "cell_type": "code",
   "execution_count": 13,
   "metadata": {},
   "outputs": [
    {
     "data": {
      "text/html": [
       "<div>\n",
       "<style scoped>\n",
       "    .dataframe tbody tr th:only-of-type {\n",
       "        vertical-align: middle;\n",
       "    }\n",
       "\n",
       "    .dataframe tbody tr th {\n",
       "        vertical-align: top;\n",
       "    }\n",
       "\n",
       "    .dataframe thead th {\n",
       "        text-align: right;\n",
       "    }\n",
       "</style>\n",
       "<table border=\"1\" class=\"dataframe\">\n",
       "  <thead>\n",
       "    <tr style=\"text-align: right;\">\n",
       "      <th></th>\n",
       "      <th></th>\n",
       "      <th>잠정치</th>\n",
       "      <th>컨센서스</th>\n",
       "    </tr>\n",
       "  </thead>\n",
       "  <tbody>\n",
       "    <tr>\n",
       "      <th rowspan=\"2\" valign=\"top\">0</th>\n",
       "      <th>당기순이익</th>\n",
       "      <td>700</td>\n",
       "      <td>800</td>\n",
       "    </tr>\n",
       "    <tr>\n",
       "      <th>영업이익</th>\n",
       "      <td>900</td>\n",
       "      <td>100</td>\n",
       "    </tr>\n",
       "    <tr>\n",
       "      <th rowspan=\"2\" valign=\"top\">1</th>\n",
       "      <th>당기순이익</th>\n",
       "      <td>800</td>\n",
       "      <td>900</td>\n",
       "    </tr>\n",
       "    <tr>\n",
       "      <th>영업이익</th>\n",
       "      <td>1400</td>\n",
       "      <td>1200</td>\n",
       "    </tr>\n",
       "  </tbody>\n",
       "</table>\n",
       "</div>"
      ],
      "text/plain": [
       "          잠정치  컨센서스\n",
       "0 당기순이익   700   800\n",
       "  영업이익    900   100\n",
       "1 당기순이익   800   900\n",
       "  영업이익   1400  1200"
      ]
     },
     "execution_count": 13,
     "metadata": {},
     "output_type": "execute_result"
    }
   ],
   "source": [
    "df.stack(level=0)\n"
   ]
  },
  {
   "attachments": {},
   "cell_type": "markdown",
   "metadata": {},
   "source": [
    "## 할로윈 투자 전략\n",
    "1. 11월 1일에 구매 -> 6개월간 유지 -> 4월 말일에 판매\n",
    "2. 11월 첫날의 시가로 구매\n",
    "3. 4월 마지막 날의 종가 판매\n",
    "4. 수익률 = (3번과정 - 2번과정) / 2번과정\n",
    "5. AMZN 데이터로 2000년부터 2019년까지 데이터로 백테스팅"
   ]
  },
  {
   "cell_type": "code",
   "execution_count": 14,
   "metadata": {},
   "outputs": [],
   "source": [
    "df = pd.read_csv(\"../csv/AMZN.csv\")"
   ]
  },
  {
   "cell_type": "code",
   "execution_count": 15,
   "metadata": {},
   "outputs": [],
   "source": [
    "df[\"Date\"] = pd.to_datetime(df['Date'],format=\"%Y-%m-%d\")"
   ]
  },
  {
   "cell_type": "code",
   "execution_count": 16,
   "metadata": {},
   "outputs": [],
   "source": [
    "df.set_index(\"Date\", inplace = True)"
   ]
  },
  {
   "cell_type": "code",
   "execution_count": 17,
   "metadata": {},
   "outputs": [],
   "source": [
    "acc_rtn = 1\n",
    "\n",
    "for i in range(2000, 2019, 1) :\n",
    "    buy_mon = str(i) + \"-11\"\n",
    "    sell_mon = str(i + 1) + \"-04\"\n",
    "    \n",
    "    # 구입가 저장\n",
    "    buy = df.loc[buy_mon].iloc[0]['Open']\n",
    "    sell = df.loc[sell_mon].iloc[-1]['Close']\n",
    "\n",
    "    # 수익률\n",
    "    rtn = (sell - buy) / buy + 1\n",
    "\n",
    "    # 누적 수익률\n",
    "    acc_rtn *= rtn "
   ]
  },
  {
   "cell_type": "code",
   "execution_count": 18,
   "metadata": {},
   "outputs": [
    {
     "data": {
      "text/plain": [
       "8.244683980501206"
      ]
     },
     "execution_count": 18,
     "metadata": {},
     "output_type": "execute_result"
    }
   ],
   "source": [
    "acc_rtn"
   ]
  },
  {
   "cell_type": "code",
   "execution_count": 19,
   "metadata": {},
   "outputs": [
    {
     "data": {
      "text/plain": [
       "53.794625340314134"
      ]
     },
     "execution_count": 19,
     "metadata": {},
     "output_type": "execute_result"
    }
   ],
   "source": [
    "# buyandhold 인 경우\n",
    "buy = df.loc[\"2000-11\"].iloc[0]['Open']\n",
    "sell = df.loc[\"2019-04\"].iloc[-1]['Close']\n",
    "\n",
    "rtn = (sell-buy)/buy+1\n",
    "\n",
    "rtn"
   ]
  },
  {
   "cell_type": "code",
   "execution_count": 20,
   "metadata": {},
   "outputs": [
    {
     "name": "stdout",
     "output_type": "stream",
     "text": [
      "11.124213625243007\n"
     ]
    }
   ],
   "source": [
    "# CAGR(연복리수익률)\n",
    "# (수익률 ** (1/투자기간)) -1\n",
    "\n",
    "# 할로윈 CAGR\n",
    "CAGR = (acc_rtn ** (1/20)) - 1\n",
    "print(CAGR*100)"
   ]
  },
  {
   "cell_type": "code",
   "execution_count": 21,
   "metadata": {},
   "outputs": [
    {
     "name": "stdout",
     "output_type": "stream",
     "text": [
      "22.04976410456394\n"
     ]
    }
   ],
   "source": [
    "# 바이앤홀드 CAGR\n",
    "CAGR = (rtn ** (1/20)) -1\n",
    "print(CAGR*100)"
   ]
  },
  {
   "cell_type": "code",
   "execution_count": 22,
   "metadata": {},
   "outputs": [],
   "source": [
    "from datetime import datetime\n",
    "from dateutil.relativedelta import relativedelta"
   ]
  },
  {
   "cell_type": "code",
   "execution_count": 23,
   "metadata": {},
   "outputs": [
    {
     "data": {
      "text/plain": [
       "datetime.datetime(2000, 11, 1, 0, 0)"
      ]
     },
     "execution_count": 23,
     "metadata": {},
     "output_type": "execute_result"
    }
   ],
   "source": [
    "start = datetime(year = 2000, month=11, day=1)\n",
    "start"
   ]
  },
  {
   "cell_type": "code",
   "execution_count": 24,
   "metadata": {},
   "outputs": [
    {
     "data": {
      "text/plain": [
       "datetime.datetime(2000, 5, 1, 0, 0)"
      ]
     },
     "execution_count": 24,
     "metadata": {},
     "output_type": "execute_result"
    }
   ],
   "source": [
    "end = start + relativedelta(month=5)\n",
    "end"
   ]
  },
  {
   "cell_type": "code",
   "execution_count": 25,
   "metadata": {},
   "outputs": [
    {
     "name": "stdout",
     "output_type": "stream",
     "text": [
      "2000-11 2000-05\n"
     ]
    }
   ],
   "source": [
    "print(start.strftime(\"%Y-%m\"), end.strftime(\"%Y-%m\"))"
   ]
  },
  {
   "cell_type": "code",
   "execution_count": 26,
   "metadata": {},
   "outputs": [],
   "source": [
    "def six_month(df,start = 2000, end = 2019, month=11):\n",
    "    if 'Date' in df.columns:\n",
    "        df['Date'] = pd.to_datetime(df['Date'],format=\"%Y-%m-%d\")\n",
    "        df.set_index('Date',inplace=True)\n",
    "\n",
    "    # 누적 수익률 변수를 생성\n",
    "    acc_rtn = 1\n",
    "\n",
    "    for i in range(start, end):\n",
    "        start_ = datetime(year = i, month=month, day=1)\n",
    "        end_ = start_ + relativedelta(months = 5)\n",
    "\n",
    "        buy_mon = start_.strftime(\"%Y-%m\")\n",
    "        sell_mon = end_.strftime(\"%Y-%m\")\n",
    "\n",
    "        buy = df.loc[buy_mon].iloc[0]['Open']\n",
    "        sell = df.loc[sell_mon].iloc[-1]['Close']\n",
    "\n",
    "        rtn = (sell - buy)/buy +1\n",
    "        acc_rtn *= rtn\n",
    "        \n",
    "    return acc_rtn    \n"
   ]
  },
  {
   "cell_type": "code",
   "execution_count": 27,
   "metadata": {},
   "outputs": [],
   "source": [
    "df_ = pd.read_csv(\"../csv/AMZN.csv\")"
   ]
  },
  {
   "cell_type": "code",
   "execution_count": 28,
   "metadata": {},
   "outputs": [
    {
     "data": {
      "text/plain": [
       "8.244683980501206"
      ]
     },
     "execution_count": 28,
     "metadata": {},
     "output_type": "execute_result"
    }
   ],
   "source": [
    "six_month(df_)"
   ]
  },
  {
   "cell_type": "code",
   "execution_count": 29,
   "metadata": {},
   "outputs": [
    {
     "name": "stdout",
     "output_type": "stream",
     "text": [
      "1월 4.470910943811504\n",
      "2월 4.470910943811504\n",
      "3월 4.470910943811504\n",
      "4월 4.470910943811504\n",
      "5월 4.470910943811504\n",
      "6월 4.470910943811504\n",
      "7월 4.470910943811504\n",
      "8월 4.470910943811504\n",
      "9월 4.470910943811504\n",
      "10월 4.470910943811504\n",
      "11월 4.470910943811504\n",
      "12월 4.470910943811504\n"
     ]
    }
   ],
   "source": [
    "for i in range(1,13,1):\n",
    "    print(f\"{i}월\",six_month(df_,month=1))"
   ]
  },
  {
   "cell_type": "code",
   "execution_count": 30,
   "metadata": {},
   "outputs": [
    {
     "name": "stderr",
     "output_type": "stream",
     "text": [
      "/var/folders/4y/93qj5cyd2_l_grwvr8b04z2m0000gn/T/ipykernel_10995/278314112.py:2: DeprecationWarning: the imp module is deprecated in favour of importlib and slated for removal in Python 3.12; see the module's documentation for alternative uses\n",
      "  import imp\n"
     ]
    },
    {
     "data": {
      "text/plain": [
       "<module 'halloween' from '/Users/gimhuidong/Documents/GitHub/data-project/230424/halloween/__init__.py'>"
      ]
     },
     "execution_count": 30,
     "metadata": {},
     "output_type": "execute_result"
    }
   ],
   "source": [
    "import halloween as hw\n",
    "import imp\n",
    "imp.reload(hw)"
   ]
  },
  {
   "cell_type": "code",
   "execution_count": 31,
   "metadata": {},
   "outputs": [],
   "source": [
    "import pandas as pd"
   ]
  },
  {
   "cell_type": "code",
   "execution_count": 32,
   "metadata": {},
   "outputs": [],
   "source": [
    "df = pd.read_csv(\"../csv/AMZN.csv\")"
   ]
  },
  {
   "cell_type": "code",
   "execution_count": 33,
   "metadata": {},
   "outputs": [],
   "source": [
    "test = hw.Halloween(df,2000,2019)"
   ]
  },
  {
   "cell_type": "code",
   "execution_count": 34,
   "metadata": {},
   "outputs": [
    {
     "data": {
      "text/plain": [
       "8.244683980501206"
      ]
     },
     "execution_count": 34,
     "metadata": {},
     "output_type": "execute_result"
    }
   ],
   "source": [
    "test.accrtn()"
   ]
  },
  {
   "cell_type": "code",
   "execution_count": 35,
   "metadata": {},
   "outputs": [
    {
     "data": {
      "text/plain": [
       "11.742834843522832"
      ]
     },
     "execution_count": 35,
     "metadata": {},
     "output_type": "execute_result"
    }
   ],
   "source": [
    "test.cagr()"
   ]
  }
 ],
 "metadata": {
  "kernelspec": {
   "display_name": "base",
   "language": "python",
   "name": "python3"
  },
  "language_info": {
   "codemirror_mode": {
    "name": "ipython",
    "version": 3
   },
   "file_extension": ".py",
   "mimetype": "text/x-python",
   "name": "python",
   "nbconvert_exporter": "python",
   "pygments_lexer": "ipython3",
   "version": "3.10.9"
  },
  "orig_nbformat": 4
 },
 "nbformat": 4,
 "nbformat_minor": 2
}
