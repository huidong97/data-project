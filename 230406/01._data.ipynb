{
 "cells": [
  {
   "attachments": {},
   "cell_type": "markdown",
   "metadata": {},
   "source": [
    "### 데이터프레임의 결합\n",
    "- 단순하게 결합 (유니언 결합)\n",
    "    -단순하게 행을 추가하거나, 열을 추가하여 데이터 프레임을 결합\n",
    "    -concat()이라는 함수를 사용하여 데이터프레임을 결합\n",
    "    -매개변수 axis : 행을 결합할것인지 열을 결합할것인지 지정\n",
    "    -매개변수 ignore_index : 데이터 프레임을 결합한뒤 인덱스를 초기화 할것인지 지정\n",
    "- 특정 조건에 맞게 데이터를 결합 (조인 결합)\n",
    "    -데이터프레임 특정한 조건이 참이면 데이터를 결합하는 형태\n",
    "    -열을 추가하는 함수로 merge()\n",
    "    -매개변수 on : 특별한 조건 지정\n",
    "    -매개변수 how : (left, right, inner, full) 데이터 프레임의 기준을 지정\n",
    "     -> left:왼쪽을 기준으로 한다 , right:오른쪽을 기준으로 한다\n",
    "     -> inner: 교집합, 결측치 최소화(결측치 제거)  full: 합집합(결측치 포함) "
   ]
  },
  {
   "cell_type": "code",
   "execution_count": null,
   "metadata": {},
   "outputs": [],
   "source": [
    "import pandas as pd"
   ]
  },
  {
   "cell_type": "code",
   "execution_count": null,
   "metadata": {},
   "outputs": [],
   "source": [
    "df = pd.DataFrame({\n",
    "    'S1':[1,2,3,4],\n",
    "    'S2':[5,6,7,8]\n",
    "})\n",
    "df"
   ]
  },
  {
   "cell_type": "code",
   "execution_count": null,
   "metadata": {},
   "outputs": [],
   "source": [
    "df2 = pd.DataFrame([1,2])\n",
    "df2"
   ]
  },
  {
   "cell_type": "code",
   "execution_count": null,
   "metadata": {},
   "outputs": [],
   "source": [
    "# concat()함수를 이용하여 데이터프레임을 결합\n",
    "# 단순하게 행을 추가\n",
    "\n",
    "# pd.concat([df,df2],axis=\"rows\", ignore_index=True)\n",
    "pd.concat([df,df2],axis=\"rows\").reset_index(drop=True)"
   ]
  },
  {
   "cell_type": "code",
   "execution_count": null,
   "metadata": {},
   "outputs": [],
   "source": [
    "df3 = pd.DataFrame({\n",
    "    'S1' : [1,2]\n",
    "})\n",
    "df3"
   ]
  },
  {
   "cell_type": "code",
   "execution_count": null,
   "metadata": {},
   "outputs": [],
   "source": [
    "pd.concat([df,df3],axis=0)"
   ]
  },
  {
   "cell_type": "code",
   "execution_count": null,
   "metadata": {},
   "outputs": [],
   "source": [
    "# 단순하게 열을 결합\n",
    "pd.concat([df,df2],axis=1)"
   ]
  },
  {
   "cell_type": "code",
   "execution_count": null,
   "metadata": {},
   "outputs": [],
   "source": [
    "df2.index = [6,7]\n",
    "df2"
   ]
  },
  {
   "cell_type": "code",
   "execution_count": null,
   "metadata": {},
   "outputs": [],
   "source": [
    "pd.concat([df,df3],axis=1)"
   ]
  },
  {
   "cell_type": "code",
   "execution_count": null,
   "metadata": {},
   "outputs": [],
   "source": [
    "pd.concat([df,df2,df3],axis=0)\n"
   ]
  },
  {
   "cell_type": "code",
   "execution_count": null,
   "metadata": {},
   "outputs": [],
   "source": [
    "# merge()\n",
    "# 특정한 조건에 맞춰서 열을 추가하는 함수\n",
    "\n",
    "df = pd.DataFrame({\n",
    "    \"id\" : [1,2,3,4,5],\n",
    "    \"item\" : ['a','b','a','a','b']\n",
    "})\n",
    "\n",
    "df2 = pd.DataFrame({\n",
    "    \"id\" : [1,4,5,2,3],\n",
    "    \"name\" : ['kim','lee','park','choi','ha']\n",
    "})"
   ]
  },
  {
   "cell_type": "code",
   "execution_count": null,
   "metadata": {},
   "outputs": [],
   "source": [
    "pd.concat([df,df2],axis=1)"
   ]
  },
  {
   "cell_type": "code",
   "execution_count": null,
   "metadata": {},
   "outputs": [],
   "source": [
    "pd.merge(df,df2,on = 'id',how = \"outer\" )"
   ]
  },
  {
   "cell_type": "code",
   "execution_count": null,
   "metadata": {},
   "outputs": [],
   "source": [
    "df3 = pd.DataFrame({\n",
    "    'item' : ['a','b','c'],\n",
    "    'price' : [100,200,300]\n",
    "})\n",
    "df3"
   ]
  },
  {
   "cell_type": "code",
   "execution_count": null,
   "metadata": {},
   "outputs": [],
   "source": [
    "pd.merge(df,df3,on='item',how='outer')"
   ]
  },
  {
   "cell_type": "code",
   "execution_count": null,
   "metadata": {},
   "outputs": [],
   "source": [
    "df.loc[3,'item'] = 'd'"
   ]
  },
  {
   "attachments": {},
   "cell_type": "markdown",
   "metadata": {},
   "source": [
    "inner = 교집합\n",
    "outer = 합집합\n",
    "left = \n",
    "right = "
   ]
  }
 ],
 "metadata": {
  "kernelspec": {
   "display_name": "base",
   "language": "python",
   "name": "python3"
  },
  "language_info": {
   "codemirror_mode": {
    "name": "ipython",
    "version": 3
   },
   "file_extension": ".py",
   "mimetype": "text/x-python",
   "name": "python",
   "nbconvert_exporter": "python",
   "pygments_lexer": "ipython3",
   "version": "3.10.9"
  },
  "orig_nbformat": 4
 },
 "nbformat": 4,
 "nbformat_minor": 2
}
