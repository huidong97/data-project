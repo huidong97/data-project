{
 "cells": [
  {
   "attachments": {},
   "cell_type": "markdown",
   "metadata": {},
   "source": [
    "# mysql과 python연동\n",
    "1. 라이브러리 설치\n",
    "2. sql 서버의 정보를 등록\n",
    "3. sql 서버에 접속\n",
    "4. sql 쿼리문을 이용하여 데이터를 CRUD작업"
   ]
  },
  {
   "cell_type": "code",
   "execution_count": null,
   "metadata": {},
   "outputs": [],
   "source": [
    "# pymysql 설치\n",
    "!pip install pymysql"
   ]
  },
  {
   "cell_type": "code",
   "execution_count": null,
   "metadata": {},
   "outputs": [],
   "source": [
    "import pymysql"
   ]
  },
  {
   "cell_type": "code",
   "execution_count": null,
   "metadata": {},
   "outputs": [],
   "source": [
    "# sql 서버의 정보를 입력\n",
    "_db = pymysql.connect(\n",
    "    user = 'root',\n",
    "    host = 'localhost',\n",
    "    db = 'ubion7',\n",
    "    port = 3306\n",
    ")\n"
   ]
  },
  {
   "cell_type": "code",
   "execution_count": null,
   "metadata": {},
   "outputs": [],
   "source": [
    "# cursor변수 생성\n",
    "# sql 쿼리문을 실행 시키기 위한 필수 변수\n",
    "# DictCursor는 sql 쿼리문이 실행되고 나온 데이터를 딕셔너리 형태로 받는다\n",
    "cursor = _db.cursor(pymysql.cursors.DictCursor)\n"
   ]
  },
  {
   "cell_type": "code",
   "execution_count": null,
   "metadata": {},
   "outputs": [],
   "source": [
    "# select로 테이블 정보 확인\n",
    "sql = \"\"\"\n",
    "    select\n",
    "    *\n",
    "    from\n",
    "    user_info\n",
    "\"\"\"\n",
    "\n",
    "cursor.execute(sql)"
   ]
  },
  {
   "cell_type": "code",
   "execution_count": null,
   "metadata": {},
   "outputs": [],
   "source": [
    "result = cursor.fetchall()"
   ]
  },
  {
   "cell_type": "code",
   "execution_count": null,
   "metadata": {},
   "outputs": [],
   "source": [
    "import pandas as pd"
   ]
  },
  {
   "cell_type": "code",
   "execution_count": null,
   "metadata": {},
   "outputs": [],
   "source": [
    "pd.DataFrame(result)"
   ]
  },
  {
   "cell_type": "code",
   "execution_count": null,
   "metadata": {},
   "outputs": [],
   "source": [
    "sql = \"\"\"\n",
    "    select\n",
    "    *\n",
    "    from\n",
    "    example\n",
    "\"\"\"\n",
    "\n",
    "cursor.execute(sql)\n",
    "result = cursor.fetchall()\n",
    "df = pd.DataFrame(result)\n",
    "df"
   ]
  },
  {
   "cell_type": "code",
   "execution_count": null,
   "metadata": {},
   "outputs": [],
   "source": [
    "# 데이터를 만들어서 insert를 사용해서 비쥬얼에서 db테이블로 저장\n",
    "# sql = \"\"\"\n",
    "#     insert into\n",
    "#     user_info\n",
    "#     values\n",
    "#     (\"macgigyun\",\"1234\",\"macgigyun\",\"01034567890\",2)\n",
    "# \"\"\"\n",
    "\n",
    "# cursor.execute(sql)"
   ]
  },
  {
   "cell_type": "code",
   "execution_count": null,
   "metadata": {},
   "outputs": [],
   "source": [
    "_db.commit()"
   ]
  },
  {
   "attachments": {},
   "cell_type": "markdown",
   "metadata": {},
   "source": [
    "### sql 함수화  쿼리문->select(조회),insert,delete,update\n",
    "                    sql을 실행시키기 위한 명령어. 이런 쿼리문을 실행시키는게 fetchall,execute \n",
    "1. 첫 번째 함수\n",
    "  - 매개변수 1개(sql 쿼리문)\n",
    "  - sql 쿼리문을 실행하고 결과를 데이터프레임으로 변경하여 리턴\n",
    "2. 두 번째 함수\n",
    "  - 매개변수 1개(sql 쿼리문)\n",
    "  - sql 쿼리문을 실행하고 데이터베이스를 변경\n",
    "3. 세 번째 함수\n",
    "  - 1번 함수와 2번 함수를 하나의 함수에서 실행이 될수 있도록 생성    "
   ]
  },
  {
   "cell_type": "code",
   "execution_count": null,
   "metadata": {},
   "outputs": [],
   "source": [
    "def sql_select(sql):\n",
    "    # 쿼리문 실행\n",
    "    cursor.execute(sql)\n",
    "    # 쿼리문에 대한 결과\n",
    "    result = cursor.fetchall()\n",
    "    df = pd.DataFrame(result)\n",
    "    return df"
   ]
  },
  {
   "cell_type": "code",
   "execution_count": null,
   "metadata": {},
   "outputs": [],
   "source": [
    "sql = \"\"\"\n",
    "    select      \n",
    "    *\n",
    "    from\n",
    "    user_info\n",
    "\"\"\"\n",
    "sql_select(sql)\n",
    "# sql이 어떤 역할을 하는지 나타내는 구문들 여기 같은 경우에는 selet 확인을함"
   ]
  },
  {
   "cell_type": "code",
   "execution_count": null,
   "metadata": {},
   "outputs": [],
   "source": [
    "def _sql(sql,values):\n",
    "    cursor.execute(sql,values)\n",
    "    _db.commit()"
   ]
  },
  {
   "cell_type": "code",
   "execution_count": null,
   "metadata": {},
   "outputs": [],
   "source": [
    "sql =\"\"\"\n",
    "    insert into\n",
    "    user_info\n",
    "    values\n",
    "    (%s, %s, %s, %s, %s)\n",
    "\"\"\"\n",
    "\n",
    "values = [\"test10\", \"12345\", \"test10\",\"01034345656\",2]\n",
    "\n",
    "sql(sql,values)"
   ]
  },
  {
   "cell_type": "code",
   "execution_count": null,
   "metadata": {},
   "outputs": [],
   "source": [
    "sql = \"\"\"\n",
    "    insert\n",
    "    *\n",
    "    from\n",
    "    user_info\n",
    "\"\"\"\n",
    "\n",
    "sql.find('select')"
   ]
  },
  {
   "cell_type": "code",
   "execution_count": null,
   "metadata": {},
   "outputs": [],
   "source": [
    "def sql_query(sql,values =[]):\n",
    "    # if (sql.find(\"select\") != -1)and (sql.find('select')<10):\n",
    "    if (sql.replace('\\n','').strip().startswith('select')):\n",
    "        cursor.execute(sql,values)\n",
    "        result = cursor.fetchall()\n",
    "        result = pd.DataFrame(result)\n",
    "    else:\n",
    "        cursor.execute(sql,values)\n",
    "        _db.commit()\n",
    "        result = \"Query OK\"\n",
    "    return result        "
   ]
  },
  {
   "cell_type": "code",
   "execution_count": null,
   "metadata": {},
   "outputs": [],
   "source": [
    "sql = \"\"\"\n",
    "    select\n",
    "    *\n",
    "    from\n",
    "    user_info\n",
    "\"\"\"\n",
    "\n",
    "sql_query(sql)"
   ]
  },
  {
   "cell_type": "code",
   "execution_count": null,
   "metadata": {},
   "outputs": [],
   "source": [
    "# delete로 테이블에 저장되어있는 정보 삭제\n",
    "sql = \"\"\"\n",
    "    delete\n",
    "    from\n",
    "    user_info\n",
    "    where\n",
    "    user_id = %s\n",
    "\"\"\"\n",
    "\n",
    "values = ['test10']\n",
    "\n",
    "sql_query(sql,values)"
   ]
  },
  {
   "cell_type": "code",
   "execution_count": null,
   "metadata": {},
   "outputs": [],
   "source": [
    "import mod_sql\n",
    "import imp\n",
    "imp.reload(mod_sql)"
   ]
  },
  {
   "cell_type": "code",
   "execution_count": null,
   "metadata": {},
   "outputs": [],
   "source": [
    "# 서버와 연결을 해줌. 만약 자료를 더 불러와야 한다면 이 구문을 이용하여 서버와 연결을 시켜줘야함.\n",
    "test = mod_sql.Database(\n",
    "    _host = 'localhost',\n",
    "    _user = 'root',\n",
    "    _db = 'ubion7',\n",
    "    _port =3306)\n"
   ]
  },
  {
   "cell_type": "code",
   "execution_count": null,
   "metadata": {},
   "outputs": [],
   "source": [
    "sql = \"\"\"\n",
    "    select\n",
    "    *\n",
    "    from\n",
    "    user_info\n",
    "\"\"\"\n",
    "test.sql_query(sql)    "
   ]
  },
  {
   "cell_type": "code",
   "execution_count": null,
   "metadata": {},
   "outputs": [],
   "source": [
    "sql = \"\"\"\n",
    "    select\n",
    "    Name as '이름',\n",
    "    Phone as '휴대폰번호'\n",
    "    from\n",
    "    example\n",
    "    where\n",
    "    Gender = %s\n",
    "    limit 3 \n",
    "\"\"\"\n",
    "values = ['female']\n",
    "test.sql_query(sql,values)\n",
    "# `` 백 커리 이거 쓰면 한 문자열로 취급해서 묶임."
   ]
  },
  {
   "cell_type": "code",
   "execution_count": null,
   "metadata": {},
   "outputs": [],
   "source": [
    "sql = \"\"\"\n",
    "    select\n",
    "    createDt as '등록일시',\n",
    "    deathCnt as '사망자',\n",
    "    decideCnt as '감염자'\n",
    "    from\n",
    "    corona\n",
    "\"\"\"\n",
    "\n",
    "test.sql_query(sql)"
   ]
  },
  {
   "cell_type": "code",
   "execution_count": null,
   "metadata": {},
   "outputs": [],
   "source": [
    "test.sql_close() # 원래 필요한 자료를 불러오면 서버와의 연결을 끊어줘야함. "
   ]
  },
  {
   "cell_type": "code",
   "execution_count": null,
   "metadata": {},
   "outputs": [],
   "source": [
    "df = pd.read_csv(\"../csv/corona.csv\")"
   ]
  },
  {
   "cell_type": "code",
   "execution_count": null,
   "metadata": {},
   "outputs": [],
   "source": [
    "df.head(3)"
   ]
  },
  {
   "cell_type": "code",
   "execution_count": null,
   "metadata": {},
   "outputs": [],
   "source": [
    "df = df[['createDt','deathCnt','decideCnt']]\n",
    "df.head(3)"
   ]
  },
  {
   "cell_type": "code",
   "execution_count": null,
   "metadata": {},
   "outputs": [],
   "source": [
    "df.columns = ['등록일시','사망자','감염자']\n",
    "df.head()"
   ]
  },
  {
   "cell_type": "code",
   "execution_count": null,
   "metadata": {},
   "outputs": [],
   "source": [
    "sql = \"\"\"\n",
    "    select \n",
    "    `Country` as '국가', \n",
    "    `Units Sold` as '판매개수', \n",
    "    `Unit Price` as '가격', \n",
    "    `Unit Cost` as '원가', \n",
    "    (`Units Sold` * `Unit Price`) as '총수익', \n",
    "    (`Units Sold` * `Unit Cost`) as '총비용', \n",
    "    (`Units Sold` * `Unit Price` - `Units Sold` * `Unit Cost`) as '총이윤'\n",
    "    from \n",
    "    `Sales Records`\n",
    "\"\"\"\n",
    "test.sql_query(sql)\n"
   ]
  }
 ],
 "metadata": {
  "kernelspec": {
   "display_name": "base",
   "language": "python",
   "name": "python3"
  },
  "language_info": {
   "codemirror_mode": {
    "name": "ipython",
    "version": 3
   },
   "file_extension": ".py",
   "mimetype": "text/x-python",
   "name": "python",
   "nbconvert_exporter": "python",
   "pygments_lexer": "ipython3",
   "version": "3.10.9"
  },
  "orig_nbformat": 4
 },
 "nbformat": 4,
 "nbformat_minor": 2
}
