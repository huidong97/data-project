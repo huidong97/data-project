{
 "cells": [
  {
   "cell_type": "code",
   "execution_count": null,
   "metadata": {},
   "outputs": [],
   "source": [
    "import pandas as pd"
   ]
  },
  {
   "cell_type": "code",
   "execution_count": null,
   "metadata": {},
   "outputs": [],
   "source": [
    "df = pd.read_excel(\"../data/kospi.xlsx\", index_col = 0)"
   ]
  },
  {
   "cell_type": "code",
   "execution_count": null,
   "metadata": {},
   "outputs": [],
   "source": [
    "samsung = pd.read_excel(\"../data/samsung.xlsx\",index_col= 0)"
   ]
  },
  {
   "cell_type": "code",
   "execution_count": null,
   "metadata": {},
   "outputs": [],
   "source": [
    "data = [df[\"종가\"],samsung[\"종가\"]]"
   ]
  },
  {
   "cell_type": "code",
   "execution_count": null,
   "metadata": {},
   "outputs": [],
   "source": [
    "df = pd.concat(data, axis = 1,keys = [\"kospi\",\"samsung\"])\n",
    "df"
   ]
  },
  {
   "cell_type": "code",
   "execution_count": null,
   "metadata": {},
   "outputs": [],
   "source": [
    "df.plot.scatter(x = \"samsung\", y = \"kospi\")"
   ]
  },
  {
   "cell_type": "code",
   "execution_count": null,
   "metadata": {},
   "outputs": [],
   "source": [
    "# parse는 파싱, 즉 나눈다는 뜻이다아!\n",
    "kospi = pd.read_excel(\"../data/kospi.xlsx\", usecols = [0,1,4,5,6,7], parse_dates=[0])\n",
    "kospi"
   ]
  },
  {
   "cell_type": "code",
   "execution_count": null,
   "metadata": {},
   "outputs": [],
   "source": [
    "how = {\n",
    "    '시가' : 'first',\n",
    "    '고가' : 'max',\n",
    "    '저가' : 'min',\n",
    "    '종가' : 'last',\n",
    "    '거래량' : 'sum'\n",
    "}\n",
    "\n",
    "kospi.groupby(pd.Grouper(key='일자',freq='q')).agg(how)"
   ]
  },
  {
   "cell_type": "code",
   "execution_count": null,
   "metadata": {},
   "outputs": [],
   "source": [
    "kospi.loc[0,\"일자\"].weekday()"
   ]
  },
  {
   "cell_type": "code",
   "execution_count": null,
   "metadata": {},
   "outputs": [],
   "source": [
    "for i in kospi.index:\n",
    "    kospi.loc[i,\"요일\"] = kospi.loc[i,\"일자\"].weekday()"
   ]
  },
  {
   "cell_type": "code",
   "execution_count": null,
   "metadata": {},
   "outputs": [],
   "source": [
    "kospi = kospi.sort_values('일자').set_index('일자')"
   ]
  },
  {
   "cell_type": "code",
   "execution_count": null,
   "metadata": {},
   "outputs": [],
   "source": [
    "# 한주의 시작의 조건?\n",
    "# 전의 요일 데이터보다 현재의 요일 데이터가 작거나 같은 경우\n",
    "kospi.loc[kospi.shift(1)[\"요일\"] >= kospi[\"요일\"]].value_counts(\"요일\")"
   ]
  },
  {
   "cell_type": "code",
   "execution_count": null,
   "metadata": {},
   "outputs": [],
   "source": [
    "# 한주의 마지막의 조건?\n",
    "# 다음날의 요일이 현재 요일보다 작거나 같은 경우\n",
    "kospi.loc[kospi.shift(-1)['요일'] <= kospi['요일']].value_counts('요일')"
   ]
  },
  {
   "cell_type": "code",
   "execution_count": null,
   "metadata": {},
   "outputs": [],
   "source": [
    "# 주별 수익률 구하기\n",
    "kospi['rtn'] = 1\n",
    "buy = kospi.iloc[0,1]\n",
    "\n",
    "for i in kospi.index:\n",
    "    # 1월 3일이 주의 마지막이기 때문에 buy가 존재할수가 없어서 미리 첫날의 시가를 지정\n",
    "    buy = kospi.iloc[0,1]\n",
    "    # 주의 시작날의 시가를 buy에 지정\n",
    "    if kospi.shift(1).loc[i,'요일'] >= kospi.loc[i,'요일']:\n",
    "        buy = kospi.loc[i,'시가']\n",
    "    # 주의 마지막 날의 종가를 sell에 지정    \n",
    "    elif kospi.shift(-1).loc[i,'요일'] <= kospi.loc[i,'요일']:\n",
    "        sell = kospi.loc[i,'종가']\n",
    "        rtn = (sell - buy) / buy + 1\n",
    "        kospi.loc[i,'rtn'] = rtn    "
   ]
  },
  {
   "cell_type": "code",
   "execution_count": null,
   "metadata": {},
   "outputs": [],
   "source": [
    "kospi.loc[kospi['rtn'] != 1]"
   ]
  }
 ],
 "metadata": {
  "kernelspec": {
   "display_name": "base",
   "language": "python",
   "name": "python3"
  },
  "language_info": {
   "codemirror_mode": {
    "name": "ipython",
    "version": 3
   },
   "file_extension": ".py",
   "mimetype": "text/x-python",
   "name": "python",
   "nbconvert_exporter": "python",
   "pygments_lexer": "ipython3",
   "version": "3.10.9"
  },
  "orig_nbformat": 4
 },
 "nbformat": 4,
 "nbformat_minor": 2
}
