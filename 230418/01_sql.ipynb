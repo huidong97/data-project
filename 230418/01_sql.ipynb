{
 "cells": [
  {
   "cell_type": "code",
   "execution_count": null,
   "metadata": {},
   "outputs": [],
   "source": [
    "import mod_sql\n",
    "import pandas as pd"
   ]
  },
  {
   "cell_type": "code",
   "execution_count": null,
   "metadata": {},
   "outputs": [],
   "source": [
    "# mods_sql을 통해서 Database 클래스를 생성\n",
    "db = mod_sql.Database('localhost', 'root', 'ubion7', 3306)"
   ]
  },
  {
   "cell_type": "code",
   "execution_count": null,
   "metadata": {},
   "outputs": [],
   "source": [
    "sql = \"\"\"\n",
    "    select \n",
    "    `Country` as '국가', \n",
    "    `Units Sold` as '판매개수', \n",
    "    `Unit Price` as '가격', \n",
    "    `Unit Cost` as '원가', \n",
    "    (`Units Sold` * `Unit Price`) as '총수익', \n",
    "    (`Units Sold` * `Unit Cost`) as '총비용', \n",
    "    (`Units Sold` * `Unit Price` - `Units Sold` * `Unit Cost`) as '총이윤'\n",
    "    from \n",
    "    `Sales Records`\n",
    "\"\"\"\n",
    "db.sql_query(sql)\n"
   ]
  },
  {
   "cell_type": "code",
   "execution_count": null,
   "metadata": {},
   "outputs": [],
   "source": [
    "df = pd.read_csv(\"../csv/Sales Records.csv\")"
   ]
  },
  {
   "cell_type": "code",
   "execution_count": null,
   "metadata": {},
   "outputs": [],
   "source": [
    "df.head(4)"
   ]
  },
  {
   "cell_type": "code",
   "execution_count": null,
   "metadata": {},
   "outputs": [],
   "source": [
    "df = df[['Country','Units Sold','Unit Price','Unit Cost']]"
   ]
  },
  {
   "cell_type": "code",
   "execution_count": null,
   "metadata": {},
   "outputs": [],
   "source": [
    "df.columns = ['국가','판매개수','가격','원가']"
   ]
  },
  {
   "cell_type": "code",
   "execution_count": null,
   "metadata": {},
   "outputs": [],
   "source": [
    "df['총수익'] = df['판매개수'] * df['가격']\n",
    "df['총비용'] = df['판매개수'] * df['원가']\n",
    "df['총이윤'] = df['총수익'] - df['총비용'] "
   ]
  },
  {
   "attachments": {},
   "cell_type": "markdown",
   "metadata": {},
   "source": [
    "# sql에서 반올림"
   ]
  },
  {
   "cell_type": "code",
   "execution_count": null,
   "metadata": {},
   "outputs": [],
   "source": [
    "# 백쿼드로 넣어야함\n",
    "sql = \"\"\"\n",
    "    select\n",
    "    `Total Cost`,\n",
    "    round(`Total Cost`, 1)\n",
    "    from\n",
    "    `Sales Records`\n",
    "\"\"\"\n",
    "\n",
    "db.sql_query(sql)"
   ]
  },
  {
   "attachments": {},
   "cell_type": "markdown",
   "metadata": {},
   "source": [
    "# sql 그룹화\n",
    "1. Country, Item Type을 기준으로 그룹화\n",
    "2. Unit Sold의 평균 , 합계 생성\n",
    "3. Country를 기준으로 오름차순 정리"
   ]
  },
  {
   "cell_type": "code",
   "execution_count": null,
   "metadata": {},
   "outputs": [],
   "source": [
    "sql = \"\"\" \n",
    "    select\n",
    "    `Country`,\n",
    "    `Item Type`,\n",
    "    AVG(`Units Sold`)as AVG,\n",
    "    SUM(`Units Sold`)as SUM\n",
    "    from\n",
    "    `Sales Records`\n",
    "    group by\n",
    "    `Country`,\n",
    "    `Item Type`\n",
    "    order by\n",
    "    `Country`\n",
    "    ASC\n",
    "\"\"\" \n",
    "\n",
    "db.sql_query(sql)"
   ]
  },
  {
   "cell_type": "code",
   "execution_count": null,
   "metadata": {},
   "outputs": [],
   "source": [
    "df = pd.read_csv(\"../csv/Sales Records.csv\")"
   ]
  },
  {
   "cell_type": "code",
   "execution_count": null,
   "metadata": {},
   "outputs": [],
   "source": [
    "df2 = df[['Country','Item Type','Units Sold']]"
   ]
  },
  {
   "cell_type": "code",
   "execution_count": null,
   "metadata": {},
   "outputs": [],
   "source": [
    "# 그룹바이 함수 -> 괄호안의 인자값을 기준으로 값을 묶어준다\n",
    "df2.groupby(['Country','Item Type']).agg(['mean','sum'])['Units Sold']"
   ]
  },
  {
   "attachments": {},
   "cell_type": "markdown",
   "metadata": {},
   "source": [
    "### dept table에서 부서의 이름(dname)이 sales인 소속 사원의 정보 출력\n",
    "1. dept 테이블에서 부서이름이 sales인 deptno를 출력\n",
    "2. emp 테이블에서 1번 과정에서 나온 deptno를 기준으로 사원 출력"
   ]
  },
  {
   "cell_type": "code",
   "execution_count": null,
   "metadata": {},
   "outputs": [],
   "source": [
    "db = mod_sql.Database('localhost', 'root', 'ubion7', 3306)"
   ]
  },
  {
   "cell_type": "code",
   "execution_count": null,
   "metadata": {},
   "outputs": [],
   "source": [
    "# SQL에서는 where을 써서 조건식을 써주기\n",
    "sql = \"\"\"\n",
    "    select \n",
    "    `DEPTNO` \n",
    "    from \n",
    "    `dept`\n",
    "    where\n",
    "    `dname`=\"sales\"\n",
    "\"\"\"\n",
    "db.sql_query(sql)\n"
   ]
  },
  {
   "cell_type": "code",
   "execution_count": null,
   "metadata": {},
   "outputs": [],
   "source": [
    "# 백쿼트와 쉼표 잘 써주기\n",
    "sql = \"\"\" \n",
    "    select\n",
    "    *\n",
    "    from\n",
    "    `emp` \n",
    "    where \n",
    "    `deptno` = 30\n",
    "\"\"\"\n",
    "\n",
    "db.sql_query(sql)"
   ]
  },
  {
   "cell_type": "code",
   "execution_count": null,
   "metadata": {},
   "outputs": [],
   "source": [
    "# 변수는  백쿼트가 아닌 큰따옴표나 따옴표로 써야함 , *는 컬럼을 전체 선택 한다는 표현\n",
    "sql = \"\"\" \n",
    "    select\n",
    "    *\n",
    "    from\n",
    "    `emp`\n",
    "    where\n",
    "    `deptno` = (\n",
    "        select\n",
    "        `deptno`\n",
    "        from\n",
    "        `dept`\n",
    "        where\n",
    "        `dname` = \"research\"\n",
    "    )\n",
    "\"\"\"\n",
    "\n",
    "db.sql_query(sql)"
   ]
  },
  {
   "cell_type": "code",
   "execution_count": null,
   "metadata": {},
   "outputs": [],
   "source": [
    "sql = \"\"\" \n",
    "    select\n",
    "    `deptno`\n",
    "    from\n",
    "    `dept`\n",
    "    where\n",
    "    `dname` in (\"sales\", \"research\")\n",
    "\"\"\"\n",
    "\n",
    "db.sql_query(sql)"
   ]
  },
  {
   "cell_type": "code",
   "execution_count": null,
   "metadata": {},
   "outputs": [],
   "source": [
    "sql = \"\"\" \n",
    "    select `deptno` from `dept` where `dname` in (\"sales\", \"research\")\n",
    "\"\"\"\n",
    "db.sql_query(sql)"
   ]
  },
  {
   "cell_type": "code",
   "execution_count": null,
   "metadata": {},
   "outputs": [],
   "source": [
    "sql = \"\"\" \n",
    "    select * from `emp` where `deptno` in\n",
    "    (select `deptno` from `dept` where `dname` in (\"sales\", \"research\"))\n",
    "\"\"\"\n",
    "db.sql_query(sql)"
   ]
  },
  {
   "cell_type": "code",
   "execution_count": null,
   "metadata": {},
   "outputs": [],
   "source": [
    "dept = pd.read_csv(\"../csv/dept.csv\")\n",
    "emp = pd.read_csv(\"../csv/emp.csv\")"
   ]
  },
  {
   "cell_type": "code",
   "execution_count": null,
   "metadata": {},
   "outputs": [],
   "source": [
    "flag = dept.loc[(dept['DNAME'].isin(['RESEARCH','SALES'])),'DEPTNO'].tolist()"
   ]
  },
  {
   "cell_type": "code",
   "execution_count": null,
   "metadata": {},
   "outputs": [],
   "source": [
    "emp.loc[emp[\"DEPTNO\"].isin(flag)].reset_index(drop=True)"
   ]
  },
  {
   "attachments": {},
   "cell_type": "markdown",
   "metadata": {},
   "source": [
    "1. emp 데이터프레임에서 JOB컬럼의 데이터를 확인하여 새로운 파생변수 생성\n",
    "2. job_code SALESMAN이면 1 MANAGER면 2 나머지는 3으로 하여 새로운 파생변수에 대입"
   ]
  },
  {
   "cell_type": "code",
   "execution_count": null,
   "metadata": {},
   "outputs": [],
   "source": [
    "# 파생변수 생성\n",
    "emp[\"JOB_CODE\"]=\"\""
   ]
  },
  {
   "cell_type": "code",
   "execution_count": null,
   "metadata": {},
   "outputs": [],
   "source": [
    "for i in emp.index:\n",
    "    if emp.loc[i,'JOB'] == \"SALESMAN\":\n",
    "        emp.loc[i,'JOB_CODE'] == 1\n",
    "    elif emp.loc[i,'JOB'] == \"MANGER\":\n",
    "        emp.loc[i,'JOB_CODE'] == 2\n",
    "    # else:\n",
    "    #     emp.loc[i,'JOB_CODE'] == 3\n",
    "emp                "
   ]
  },
  {
   "cell_type": "code",
   "execution_count": null,
   "metadata": {},
   "outputs": [],
   "source": [
    "# 반복문 사용해서 코드 보여주기\n",
    "emp['JOB_CODE'] = \"\"\n",
    "job_list = ['SALESMAN','MANAGER']\n",
    "for i in job_list:\n",
    "    emp['JOB_CODE'] = 3\n",
    "    if i == 'SALESMAN':\n",
    "        emp.loc[emp['JOB'] == i, 'JOB_CODE'] = 1\n",
    "    elif i == 'MANAGER':\n",
    "        emp.loc[emp['JOB'] == i, 'JOB_CODE'] = 2\n",
    "emp           "
   ]
  },
  {
   "cell_type": "code",
   "execution_count": null,
   "metadata": {},
   "outputs": [],
   "source": [
    "emp[\"JOB_CODE\"] = emp['JOB'].apply(lambda x : 1 if(x == 'SALESMAN')else(\n",
    "    2 if (x== \"MANAGER\")else 3\n",
    "))"
   ]
  },
  {
   "cell_type": "code",
   "execution_count": null,
   "metadata": {},
   "outputs": [],
   "source": [
    "def change(x):\n",
    "    if x == \"SALESMAN\":\n",
    "        result = 1\n",
    "    elif x == \"MANAGER\":\n",
    "        result = 2\n",
    "    else:\n",
    "        result = 3\n",
    "    return result\n",
    "\n",
    "emp['JOB_CODE'] = emp['JOB'].apply(change)                 "
   ]
  },
  {
   "cell_type": "code",
   "execution_count": null,
   "metadata": {},
   "outputs": [],
   "source": [
    "# case -> if문 과 비슷.\n",
    "sql = \"\"\" \n",
    "    select\n",
    "    `EMPNO`,\n",
    "    `ENAME`,\n",
    "    `JOB`,\n",
    "    CASE\n",
    "       WHEN `JOB` = \"SALESMAN\"\n",
    "       THEN 1\n",
    "       WHEN `JOB` = \"MANAGER\"\n",
    "       THEN 2\n",
    "       ELSE 3\n",
    "    END as `JOB_CODE`\n",
    "    from\n",
    "    emp\n",
    "\"\"\"\n",
    "\n",
    "db.sql_query(sql)"
   ]
  },
  {
   "cell_type": "code",
   "execution_count": null,
   "metadata": {},
   "outputs": [],
   "source": [
    "# 조건식 다음값 다음값이 거짓 -> 3\n",
    "sql = \"\"\" \n",
    "    select\n",
    "    `EMPNO`,\n",
    "    `ENAME`,\n",
    "    `JOB`,\n",
    "        if(\n",
    "            `JOB` = \"SALESMAN\",\n",
    "             1,\n",
    "            if(\n",
    "               `JOB` = \"MANAGER\",\n",
    "               2,\n",
    "               3\n",
    "            ) \n",
    "        ) as `JOB_CODE`\n",
    "        from\n",
    "        emp    \n",
    "\"\"\"\n",
    "\n",
    "db.sql_query(sql)"
   ]
  },
  {
   "attachments": {},
   "cell_type": "markdown",
   "metadata": {},
   "source": [
    "1. emp 데이터에서 파생변수 H/L 생성\n",
    "2. SAL이 2000이상이면 High, 아니면 LOW로 데이터를 삽입"
   ]
  },
  {
   "cell_type": "code",
   "execution_count": null,
   "metadata": {},
   "outputs": [],
   "source": [
    "for i in emp.index:\n",
    "    if emp.loc[i,\"SAL\"] >= 2000:\n",
    "        emp.loc[i,\"H/L\"] = \"High\"\n",
    "    else:\n",
    "        emp.loc[i,\"H/L\"] = \"LOW\"\n",
    "emp"
   ]
  },
  {
   "cell_type": "code",
   "execution_count": null,
   "metadata": {},
   "outputs": [],
   "source": [
    "emp[\"H/L\"] = \"\""
   ]
  },
  {
   "cell_type": "code",
   "execution_count": null,
   "metadata": {},
   "outputs": [],
   "source": [
    "# apply는 출력하면 시리즈 형태의 조건을 넣기 때문에 시리즈 형태로 출력이 된다.\n",
    "emp[\"H/L\"] = emp['SAL'].apply(lambda x : \"High\" if( x >= 2000) else \"LOW\") "
   ]
  },
  {
   "cell_type": "code",
   "execution_count": null,
   "metadata": {},
   "outputs": [],
   "source": [
    "emp.head(5)"
   ]
  },
  {
   "cell_type": "code",
   "execution_count": null,
   "metadata": {},
   "outputs": [],
   "source": [
    "def change(x):\n",
    "    if x>= 2000:\n",
    "        result = \"High\"\n",
    "    else:\n",
    "        result = \"LOW\"\n",
    "    return result\n",
    "\n",
    "emp['SAL'].apply(change)        "
   ]
  },
  {
   "cell_type": "code",
   "execution_count": null,
   "metadata": {},
   "outputs": [],
   "source": [
    "# *하면 전체칼렴 출력, 컬럼명 적으면 특정컬럼 출력\n",
    "sql = \"\"\" \n",
    "    select\n",
    "    *,\n",
    "    CASE\n",
    "       WHEN `SAL` >= 2000\n",
    "       THEN \"High\"\n",
    "       ELSE \"LOW\"\n",
    "    END as `H/L`\n",
    "    from\n",
    "    emp\n",
    "\"\"\"\n",
    "\n",
    "db.sql_query(sql)"
   ]
  },
  {
   "cell_type": "code",
   "execution_count": null,
   "metadata": {},
   "outputs": [],
   "source": [
    "sql = \"\"\" \n",
    "    select\n",
    "    `EMPNO`,\n",
    "    `ENAME`,\n",
    "    `SAL`,\n",
    "    if(\n",
    "      `SAL` >= 2000,\n",
    "      'High',\n",
    "      'LOW'  \n",
    "    ) as 'H/L' \n",
    "    from\n",
    "    emp\n",
    "\"\"\"\n",
    "\n",
    "db.sql_query(sql)"
   ]
  },
  {
   "attachments": {},
   "cell_type": "markdown",
   "metadata": {},
   "source": [
    "# join\n",
    "1. emp와 dept table을 결합"
   ]
  },
  {
   "cell_type": "code",
   "execution_count": null,
   "metadata": {},
   "outputs": [],
   "source": [
    "# 기준이 되는 파일에 따라서 널값의 경우 나오는게 달라짐.\n",
    "sql = \"\"\" \n",
    "    select\n",
    "    emp.EMPNO,\n",
    "    emp.ENAME,\n",
    "    dept.DEPTNO,\n",
    "    dept.DNAME,\n",
    "    dept.LOC\n",
    "    from\n",
    "    emp\n",
    "    inner join\n",
    "    dept\n",
    "    on\n",
    "    emp.DEPTNO = dept.DEPTNO\n",
    "\"\"\"\n",
    "\n",
    "db.sql_query(sql)"
   ]
  },
  {
   "cell_type": "code",
   "execution_count": null,
   "metadata": {},
   "outputs": [],
   "source": [
    "dept = pd.read_csv(\"../csv/dept.csv\")\n",
    "emp = pd.read_csv(\"../csv/emp.csv\")"
   ]
  },
  {
   "cell_type": "code",
   "execution_count": null,
   "metadata": {},
   "outputs": [],
   "source": [
    "pd.merge(emp,dept,on = \"DEPTNO\",how = \"right\")"
   ]
  },
  {
   "attachments": {},
   "cell_type": "markdown",
   "metadata": {},
   "source": [
    "### 문제\n",
    " - 부서의 위치가 'NEW YORK', 'DALLAS'가 아닌 소속 사원의 정보 출력"
   ]
  },
  {
   "cell_type": "code",
   "execution_count": null,
   "metadata": {},
   "outputs": [],
   "source": [
    "sql = \"\"\" \n",
    "    select DEPTNO from dept\n",
    "    where\n",
    "    LOC not in ('NEW YORK','DALLAS')\n",
    "\"\"\"\n",
    "db.sql_query(sql)"
   ]
  },
  {
   "cell_type": "code",
   "execution_count": null,
   "metadata": {},
   "outputs": [],
   "source": [
    "sql = \"\"\" \n",
    "    select DEPTNO from dept\n",
    "    where\n",
    "    LOC != 'NEW YORK' AND LOC != 'DALLAS'\n",
    "\"\"\"\n",
    "db.sql_query(sql)"
   ]
  },
  {
   "cell_type": "code",
   "execution_count": null,
   "metadata": {},
   "outputs": [],
   "source": [
    "# 조건을 찾아서 빼는 방법\n",
    "sql = \"\"\" select * from emp where DEPTNO = 30 OR DEPTNO = 40\"\"\"\n",
    "db.sql_query(sql)"
   ]
  },
  {
   "cell_type": "code",
   "execution_count": null,
   "metadata": {},
   "outputs": [],
   "source": [
    "sql = \"\"\" select * from emp where DEPTNO IN (30,40)\"\"\"\n",
    "db.sql_query(sql)"
   ]
  },
  {
   "cell_type": "code",
   "execution_count": null,
   "metadata": {},
   "outputs": [],
   "source": [
    "sql = \"\"\" select * from emp where DEPTNO in(\n",
    "     select DEPTNO from dept where LOC not in ('NEW TORK','DALLAS')\n",
    ")\"\"\"\n",
    "db.sql_query(sql)"
   ]
  },
  {
   "cell_type": "code",
   "execution_count": null,
   "metadata": {},
   "outputs": [],
   "source": [
    "# 조인해서 하는 방법\n",
    "sql = \"\"\" \n",
    "    select * from emp left join dept on emp.DEPTNO = dept.DEPTNO\n",
    "    where LOC not in('NEW YORK' , 'DALLAS')\n",
    "\"\"\"\n",
    "\n",
    "db.sql_query(sql)"
   ]
  },
  {
   "attachments": {},
   "cell_type": "markdown",
   "metadata": {},
   "source": [
    "# 테이블의 결합\n",
    "1. 유니언 결합(단순하게 행을 결합)\n",
    "2. 조인 결합"
   ]
  },
  {
   "cell_type": "code",
   "execution_count": null,
   "metadata": {},
   "outputs": [],
   "source": [
    "sql = \"\"\" \n",
    "    select * from tran_1\n",
    "    union\n",
    "    select * from tran_2\n",
    "\"\"\"\n",
    "\n",
    "db.sql_query(sql)"
   ]
  },
  {
   "cell_type": "code",
   "execution_count": null,
   "metadata": {},
   "outputs": [],
   "source": [
    "sql = \"\"\" \n",
    "    select * from tran_d_1\n",
    "    union\n",
    "    select * from tran_d_2\n",
    "\"\"\"\n",
    "db.sql_query(sql)"
   ]
  },
  {
   "cell_type": "code",
   "execution_count": null,
   "metadata": {},
   "outputs": [],
   "source": [
    "sql = \"\"\" \n",
    "    select * from \n",
    "    tran_1 left join tran_d_1 \n",
    "    on tran_1.transaction_id = tran_d_1.transaction_id\n",
    "\"\"\"\n",
    "\n",
    "db.sql_query(sql)"
   ]
  },
  {
   "cell_type": "code",
   "execution_count": null,
   "metadata": {},
   "outputs": [],
   "source": [
    "sql = \"\"\" \n",
    "    select * from\n",
    "    (select * from tran_1\n",
    "    union\n",
    "    select * from tran_2) as tran\n",
    "    left join\n",
    "    (select * from tran_d_1\n",
    "    union\n",
    "    select * from tran_d_2) as tran_d\n",
    "    on tran.transaction_id = tran_d.transaction_id\n",
    "\"\"\"\n",
    "db.sql_query(sql)"
   ]
  },
  {
   "cell_type": "code",
   "execution_count": null,
   "metadata": {},
   "outputs": [],
   "source": [
    "tran_1 = pd.read_csv(\"../csv/tran_1.csv\")\n",
    "tran_2 = pd.read_csv(\"../csv/tran_2.csv\")\n",
    "tran_d_1 = pd.read_csv(\"../csv/tran_d_1.csv\")\n",
    "tran_d_2 = pd.read_csv(\"../csv/tran_d_2.csv\")"
   ]
  },
  {
   "cell_type": "code",
   "execution_count": null,
   "metadata": {},
   "outputs": [],
   "source": [
    "df1 = pd.concat([tran_1,tran_2],axis=0)\n",
    "df2 = pd.concat([tran_d_1,tran_d_2],axis=0)\n",
    "pd.merge(df1,df2,on = \"transaction_id\",how = \"left\")"
   ]
  },
  {
   "attachments": {},
   "cell_type": "markdown",
   "metadata": {},
   "source": [
    "### 문자열이 포함되어 있는 경우 출력"
   ]
  },
  {
   "cell_type": "code",
   "execution_count": null,
   "metadata": {},
   "outputs": [],
   "source": [
    "# %%s -> s로 시작하는말 찾기 %%s%% -> s로 시작하거나 끝나는말  \n",
    "sql = \"\"\" \n",
    "   select * from emp\n",
    "   where ENAME like'%%S%%'\n",
    "\"\"\"\n",
    "\n",
    "db.sql_query(sql)"
   ]
  },
  {
   "attachments": {},
   "cell_type": "markdown",
   "metadata": {},
   "source": [
    "1. pandas 이용하여 emp.csv에서 ENAME이 S로 시작하는 데이터를 출력\n",
    "2. S로 끝나는 데이터를 출력\n",
    "3. S가 포함되어 있는 데이터를 출력"
   ]
  },
  {
   "cell_type": "code",
   "execution_count": null,
   "metadata": {},
   "outputs": [],
   "source": [
    "emp = pd.read_csv(\"../csv/emp.csv\")"
   ]
  },
  {
   "cell_type": "code",
   "execution_count": null,
   "metadata": {},
   "outputs": [],
   "source": [
    "# emp[emp['ENAME'].str.startswith('S')]\n",
    "# emp[emp['ENAME'].str.endswith('S')]\n",
    "# emp[emp['ENAME'].str.contains(\"S\")]\n",
    "\n",
    "# 인덱스를 정할때 loc를 꼬박꼬박 잘 써야 좋은 결과를 낼수있다."
   ]
  },
  {
   "cell_type": "code",
   "execution_count": null,
   "metadata": {},
   "outputs": [],
   "source": [
    "emp.loc[emp['ENAME'].apply(lambda x: x.startswith(\"S\"))]"
   ]
  },
  {
   "cell_type": "code",
   "execution_count": null,
   "metadata": {},
   "outputs": [],
   "source": [
    "emp.loc[emp['ENAME'].apply(lambda x: x.endswith(\"S\"))]"
   ]
  },
  {
   "cell_type": "code",
   "execution_count": null,
   "metadata": {},
   "outputs": [],
   "source": [
    "emp.loc[emp['ENAME'].str.contains('S')]"
   ]
  },
  {
   "cell_type": "code",
   "execution_count": null,
   "metadata": {},
   "outputs": [],
   "source": [
    "# 방법1. for\n",
    "data = pd.DataFrame()\n",
    "for i in emp.index:\n",
    "    if emp.loc[i,'ENAME'].startswith('S'):\n",
    "        data = pd.concat([data,emp.loc[[i]]])\n",
    "\n",
    "data        "
   ]
  },
  {
   "cell_type": "code",
   "execution_count": null,
   "metadata": {},
   "outputs": [],
   "source": [
    "# 방법2. for\n",
    "_list = []\n",
    "for i in emp.index:\n",
    "    if emp.loc[i,'ENAME'].startswith('S'):\n",
    "        _list.append(i)\n",
    "\n",
    "emp.loc[_list]        "
   ]
  },
  {
   "cell_type": "code",
   "execution_count": null,
   "metadata": {},
   "outputs": [],
   "source": [
    "emp.loc[emp['ENAME'].apply(lambda x: x.find('S') == (len(x)-1))]"
   ]
  },
  {
   "cell_type": "code",
   "execution_count": null,
   "metadata": {},
   "outputs": [],
   "source": [
    "emp.loc[emp['ENAME'].apply(lambda x: x.find('S') == 0)]"
   ]
  },
  {
   "cell_type": "code",
   "execution_count": null,
   "metadata": {},
   "outputs": [],
   "source": [
    "emp.loc[emp['ENAME'].apply(lambda x: x.find('S') != -1)]"
   ]
  },
  {
   "cell_type": "code",
   "execution_count": null,
   "metadata": {},
   "outputs": [],
   "source": [
    "emp.loc[emp['ENAME'].apply(lambda x: 'S' in x)]"
   ]
  }
 ],
 "metadata": {
  "kernelspec": {
   "display_name": "base",
   "language": "python",
   "name": "python3"
  },
  "language_info": {
   "codemirror_mode": {
    "name": "ipython",
    "version": 3
   },
   "file_extension": ".py",
   "mimetype": "text/x-python",
   "name": "python",
   "nbconvert_exporter": "python",
   "pygments_lexer": "ipython3",
   "version": "3.10.9"
  },
  "orig_nbformat": 4
 },
 "nbformat": 4,
 "nbformat_minor": 2
}
